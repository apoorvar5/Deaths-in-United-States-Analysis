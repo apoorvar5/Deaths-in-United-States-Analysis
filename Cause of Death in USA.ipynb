{
 "cells": [
  {
   "cell_type": "markdown",
   "id": "16af24ba-199f-498f-9cbe-75297a138bb5",
   "metadata": {},
   "source": [
    "# Cause of Death in the United States."
   ]
  },
  {
   "cell_type": "code",
   "execution_count": 287,
   "id": "ff8823b0-e90e-43db-b61f-d4171b42bcf3",
   "metadata": {},
   "outputs": [
    {
     "data": {
      "text/html": [
       "<div>\n",
       "<style scoped>\n",
       "    .dataframe tbody tr th:only-of-type {\n",
       "        vertical-align: middle;\n",
       "    }\n",
       "\n",
       "    .dataframe tbody tr th {\n",
       "        vertical-align: top;\n",
       "    }\n",
       "\n",
       "    .dataframe thead th {\n",
       "        text-align: right;\n",
       "    }\n",
       "</style>\n",
       "<table border=\"1\" class=\"dataframe\">\n",
       "  <thead>\n",
       "    <tr style=\"text-align: right;\">\n",
       "      <th></th>\n",
       "      <th>Year</th>\n",
       "      <th>113 Cause Name</th>\n",
       "      <th>Cause Name</th>\n",
       "      <th>State</th>\n",
       "      <th>Deaths</th>\n",
       "      <th>Age-adjusted Death Rate</th>\n",
       "    </tr>\n",
       "  </thead>\n",
       "  <tbody>\n",
       "    <tr>\n",
       "      <th>0</th>\n",
       "      <td>2017</td>\n",
       "      <td>Accidents (unintentional injuries) (V01-X59,Y8...</td>\n",
       "      <td>Unintentional injuries</td>\n",
       "      <td>United States</td>\n",
       "      <td>169936</td>\n",
       "      <td>49.4</td>\n",
       "    </tr>\n",
       "    <tr>\n",
       "      <th>1</th>\n",
       "      <td>2017</td>\n",
       "      <td>Accidents (unintentional injuries) (V01-X59,Y8...</td>\n",
       "      <td>Unintentional injuries</td>\n",
       "      <td>Alabama</td>\n",
       "      <td>2703</td>\n",
       "      <td>53.8</td>\n",
       "    </tr>\n",
       "    <tr>\n",
       "      <th>2</th>\n",
       "      <td>2017</td>\n",
       "      <td>Accidents (unintentional injuries) (V01-X59,Y8...</td>\n",
       "      <td>Unintentional injuries</td>\n",
       "      <td>Alaska</td>\n",
       "      <td>436</td>\n",
       "      <td>63.7</td>\n",
       "    </tr>\n",
       "    <tr>\n",
       "      <th>3</th>\n",
       "      <td>2017</td>\n",
       "      <td>Accidents (unintentional injuries) (V01-X59,Y8...</td>\n",
       "      <td>Unintentional injuries</td>\n",
       "      <td>Arizona</td>\n",
       "      <td>4184</td>\n",
       "      <td>56.2</td>\n",
       "    </tr>\n",
       "    <tr>\n",
       "      <th>4</th>\n",
       "      <td>2017</td>\n",
       "      <td>Accidents (unintentional injuries) (V01-X59,Y8...</td>\n",
       "      <td>Unintentional injuries</td>\n",
       "      <td>Arkansas</td>\n",
       "      <td>1625</td>\n",
       "      <td>51.8</td>\n",
       "    </tr>\n",
       "  </tbody>\n",
       "</table>\n",
       "</div>"
      ],
      "text/plain": [
       "   Year                                     113 Cause Name  \\\n",
       "0  2017  Accidents (unintentional injuries) (V01-X59,Y8...   \n",
       "1  2017  Accidents (unintentional injuries) (V01-X59,Y8...   \n",
       "2  2017  Accidents (unintentional injuries) (V01-X59,Y8...   \n",
       "3  2017  Accidents (unintentional injuries) (V01-X59,Y8...   \n",
       "4  2017  Accidents (unintentional injuries) (V01-X59,Y8...   \n",
       "\n",
       "               Cause Name          State  Deaths  Age-adjusted Death Rate  \n",
       "0  Unintentional injuries  United States  169936                     49.4  \n",
       "1  Unintentional injuries        Alabama    2703                     53.8  \n",
       "2  Unintentional injuries         Alaska     436                     63.7  \n",
       "3  Unintentional injuries        Arizona    4184                     56.2  \n",
       "4  Unintentional injuries       Arkansas    1625                     51.8  "
      ]
     },
     "execution_count": 287,
     "metadata": {},
     "output_type": "execute_result"
    }
   ],
   "source": [
    "import pandas as pd\n",
    "import numpy as np\n",
    "import matplotlib.pyplot as plt\n",
    "import seaborn as sns\n",
    "import plotly_express as px\n",
    "import warnings\n",
    "warnings.filterwarnings('ignore')\n",
    "import pycountry\n",
    "from sklearn.cluster import KMeans\n",
    "from sklearn.preprocessing import StandardScaler\n",
    "from sklearn.metrics import silhouette_score\n",
    "\n",
    "df=pd.read_csv('causes-of-death.csv')\n",
    "df.head()"
   ]
  },
  {
   "cell_type": "markdown",
   "id": "4d957ce8-a4ba-4b11-b6cc-9233b474383a",
   "metadata": {},
   "source": [
    "## Getting to understand the table"
   ]
  },
  {
   "cell_type": "code",
   "execution_count": 288,
   "id": "0948b607-dbcc-40c9-8f6a-19e17c035f99",
   "metadata": {},
   "outputs": [
    {
     "name": "stdout",
     "output_type": "stream",
     "text": [
      "<class 'pandas.core.frame.DataFrame'>\n",
      "RangeIndex: 10868 entries, 0 to 10867\n",
      "Data columns (total 6 columns):\n",
      " #   Column                   Non-Null Count  Dtype  \n",
      "---  ------                   --------------  -----  \n",
      " 0   Year                     10868 non-null  int64  \n",
      " 1   113 Cause Name           10868 non-null  object \n",
      " 2   Cause Name               10868 non-null  object \n",
      " 3   State                    10868 non-null  object \n",
      " 4   Deaths                   10868 non-null  int64  \n",
      " 5   Age-adjusted Death Rate  10868 non-null  float64\n",
      "dtypes: float64(1), int64(2), object(3)\n",
      "memory usage: 509.6+ KB\n"
     ]
    }
   ],
   "source": [
    "df.info()"
   ]
  },
  {
   "cell_type": "markdown",
   "id": "9724c1fd-f663-4634-b0dc-1e24cbbe4bce",
   "metadata": {},
   "source": [
    "As it is seen, there are no null entries in the table!\n",
    "\n",
    "\n",
    "Let's check for the duplicate entries."
   ]
  },
  {
   "cell_type": "code",
   "execution_count": 289,
   "id": "1b43832d-2489-4cf9-b768-f36da056ab8e",
   "metadata": {},
   "outputs": [
    {
     "data": {
      "text/plain": [
       "0"
      ]
     },
     "execution_count": 289,
     "metadata": {},
     "output_type": "execute_result"
    }
   ],
   "source": [
    "df.duplicated().sum()"
   ]
  },
  {
   "cell_type": "markdown",
   "id": "d92ca7cc-75cf-492f-afd9-2dab8dfb2edc",
   "metadata": {},
   "source": [
    "There are no duplicate entries as well! So far we don't need to do data cleaning.\n",
    "\n",
    "But here Column 113 Cause Name is not required in the project and hence will be dropped."
   ]
  },
  {
   "cell_type": "code",
   "execution_count": 290,
   "id": "146ab4d8-bcc1-4960-9643-f62a4ec698cb",
   "metadata": {},
   "outputs": [
    {
     "data": {
      "text/html": [
       "<div>\n",
       "<style scoped>\n",
       "    .dataframe tbody tr th:only-of-type {\n",
       "        vertical-align: middle;\n",
       "    }\n",
       "\n",
       "    .dataframe tbody tr th {\n",
       "        vertical-align: top;\n",
       "    }\n",
       "\n",
       "    .dataframe thead th {\n",
       "        text-align: right;\n",
       "    }\n",
       "</style>\n",
       "<table border=\"1\" class=\"dataframe\">\n",
       "  <thead>\n",
       "    <tr style=\"text-align: right;\">\n",
       "      <th></th>\n",
       "      <th>Year</th>\n",
       "      <th>Cause Name</th>\n",
       "      <th>State</th>\n",
       "      <th>Deaths</th>\n",
       "      <th>Age-adjusted Death Rate</th>\n",
       "    </tr>\n",
       "  </thead>\n",
       "  <tbody>\n",
       "    <tr>\n",
       "      <th>0</th>\n",
       "      <td>2017</td>\n",
       "      <td>Unintentional injuries</td>\n",
       "      <td>United States</td>\n",
       "      <td>169936</td>\n",
       "      <td>49.4</td>\n",
       "    </tr>\n",
       "    <tr>\n",
       "      <th>1</th>\n",
       "      <td>2017</td>\n",
       "      <td>Unintentional injuries</td>\n",
       "      <td>Alabama</td>\n",
       "      <td>2703</td>\n",
       "      <td>53.8</td>\n",
       "    </tr>\n",
       "    <tr>\n",
       "      <th>2</th>\n",
       "      <td>2017</td>\n",
       "      <td>Unintentional injuries</td>\n",
       "      <td>Alaska</td>\n",
       "      <td>436</td>\n",
       "      <td>63.7</td>\n",
       "    </tr>\n",
       "    <tr>\n",
       "      <th>3</th>\n",
       "      <td>2017</td>\n",
       "      <td>Unintentional injuries</td>\n",
       "      <td>Arizona</td>\n",
       "      <td>4184</td>\n",
       "      <td>56.2</td>\n",
       "    </tr>\n",
       "    <tr>\n",
       "      <th>4</th>\n",
       "      <td>2017</td>\n",
       "      <td>Unintentional injuries</td>\n",
       "      <td>Arkansas</td>\n",
       "      <td>1625</td>\n",
       "      <td>51.8</td>\n",
       "    </tr>\n",
       "    <tr>\n",
       "      <th>...</th>\n",
       "      <td>...</td>\n",
       "      <td>...</td>\n",
       "      <td>...</td>\n",
       "      <td>...</td>\n",
       "      <td>...</td>\n",
       "    </tr>\n",
       "    <tr>\n",
       "      <th>10863</th>\n",
       "      <td>1999</td>\n",
       "      <td>Kidney disease</td>\n",
       "      <td>Virginia</td>\n",
       "      <td>1035</td>\n",
       "      <td>16.9</td>\n",
       "    </tr>\n",
       "    <tr>\n",
       "      <th>10864</th>\n",
       "      <td>1999</td>\n",
       "      <td>Kidney disease</td>\n",
       "      <td>Washington</td>\n",
       "      <td>278</td>\n",
       "      <td>5.2</td>\n",
       "    </tr>\n",
       "    <tr>\n",
       "      <th>10865</th>\n",
       "      <td>1999</td>\n",
       "      <td>Kidney disease</td>\n",
       "      <td>West Virginia</td>\n",
       "      <td>345</td>\n",
       "      <td>16.4</td>\n",
       "    </tr>\n",
       "    <tr>\n",
       "      <th>10866</th>\n",
       "      <td>1999</td>\n",
       "      <td>Kidney disease</td>\n",
       "      <td>Wisconsin</td>\n",
       "      <td>677</td>\n",
       "      <td>11.9</td>\n",
       "    </tr>\n",
       "    <tr>\n",
       "      <th>10867</th>\n",
       "      <td>1999</td>\n",
       "      <td>Kidney disease</td>\n",
       "      <td>Wyoming</td>\n",
       "      <td>30</td>\n",
       "      <td>6.8</td>\n",
       "    </tr>\n",
       "  </tbody>\n",
       "</table>\n",
       "<p>10868 rows × 5 columns</p>\n",
       "</div>"
      ],
      "text/plain": [
       "       Year              Cause Name          State  Deaths  \\\n",
       "0      2017  Unintentional injuries  United States  169936   \n",
       "1      2017  Unintentional injuries        Alabama    2703   \n",
       "2      2017  Unintentional injuries         Alaska     436   \n",
       "3      2017  Unintentional injuries        Arizona    4184   \n",
       "4      2017  Unintentional injuries       Arkansas    1625   \n",
       "...     ...                     ...            ...     ...   \n",
       "10863  1999          Kidney disease       Virginia    1035   \n",
       "10864  1999          Kidney disease     Washington     278   \n",
       "10865  1999          Kidney disease  West Virginia     345   \n",
       "10866  1999          Kidney disease      Wisconsin     677   \n",
       "10867  1999          Kidney disease        Wyoming      30   \n",
       "\n",
       "       Age-adjusted Death Rate  \n",
       "0                         49.4  \n",
       "1                         53.8  \n",
       "2                         63.7  \n",
       "3                         56.2  \n",
       "4                         51.8  \n",
       "...                        ...  \n",
       "10863                     16.9  \n",
       "10864                      5.2  \n",
       "10865                     16.4  \n",
       "10866                     11.9  \n",
       "10867                      6.8  \n",
       "\n",
       "[10868 rows x 5 columns]"
      ]
     },
     "execution_count": 290,
     "metadata": {},
     "output_type": "execute_result"
    }
   ],
   "source": [
    "df1=df.drop('113 Cause Name', axis=1)\n",
    "df1"
   ]
  },
  {
   "cell_type": "markdown",
   "id": "f231dbd9-cbdc-4df8-94b3-633efd8b0f68",
   "metadata": {},
   "source": [
    "# Trends of Causes of Death in the United States"
   ]
  },
  {
   "cell_type": "code",
   "execution_count": 291,
   "id": "e47c2807-494b-4fac-bfaa-2abb90162411",
   "metadata": {},
   "outputs": [
    {
     "data": {
      "image/png": "[encoded data removed]",
      "text/plain": [
       "<Figure size 1200x1000 with 1 Axes>"
      ]
     },
     "metadata": {},
     "output_type": "display_data"
    }
   ],
   "source": [
    "plt.figure(figsize=(12,10))\n",
    "sns.lineplot(data=df1[df1['State']=='United States'],x='Year',y='Deaths',hue='Cause Name');"
   ]
  },
  {
   "cell_type": "markdown",
   "id": "f22e0917-a114-4b1c-82a7-4cd253d1857f",
   "metadata": {},
   "source": [
    "This graph shows a graphical representation of trends of Causes of Deaths in the United States."
   ]
  },
  {
   "cell_type": "markdown",
   "id": "e0d05721-0acc-4df8-a26d-d7022563a6f5",
   "metadata": {},
   "source": [
    "## Let's visualise this in the form of pie-chart for the year 1999 and 2017"
   ]
  },
  {
   "cell_type": "code",
   "execution_count": 292,
   "id": "ec842268-fbab-4bbd-bb2f-6cbbbfda5f89",
   "metadata": {},
   "outputs": [
    {
     "data": {
      "image/png": "[encoded data removed]",
      "text/plain": [
       "<Figure size 1500x1000 with 2 Axes>"
      ]
     },
     "metadata": {},
     "output_type": "display_data"
    }
   ],
   "source": [
    "fig = plt.figure(figsize = (15,10))\n",
    "ax1 = fig.add_subplot(1, 2, 1)\n",
    "ax2 = fig.add_subplot(1, 2, 2)\n",
    "disease=['Heart disease', 'Cancer', 'Stroke', 'CLRD','Unintentional injuries', 'Diabetes', 'Influenza and pneumonia', \"Alzheimer's disease\", 'Kidney disease', 'Suicide']\n",
    "ax1.pie(df1[(df1['State']=='United States') & (df1['Year']==1999)].sort_values(by='Deaths', ascending=False)[1:]['Deaths'],autopct=\"%.2f%%\",labels=disease)\n",
    "ax2.pie(df1[(df1['State']=='United States') & (df1['Year']==2017)].sort_values(by='Deaths', ascending=False)[1:]['Deaths'],autopct=\"%.2f%%\",labels=disease)\n",
    "ax1.set_title(\"1999 Cause of Deaths\")\n",
    "ax2.set_title(\"2017 Cause of Deaths\")\n",
    "plt.show();"
   ]
  },
  {
   "cell_type": "markdown",
   "id": "bd5f6488-0d81-45e6-b88d-be5ce5849923",
   "metadata": {},
   "source": [
    "Let's take a look!\n",
    "- Cancer and Stroke is almost the same throuhout the years.\n",
    "- Heart Disease has dropped by 7%\n",
    "- There is a significant increase in Suicide, Kidney Disease, Influenza and Pneumonia, Unintentional Injuries, CLRD."
   ]
  },
  {
   "cell_type": "markdown",
   "id": "b0e154ee-e2c3-424c-a337-cdf343733a0a",
   "metadata": {},
   "source": [
    "# Mapping deaths on the US Map"
   ]
  },
  {
   "cell_type": "code",
   "execution_count": 293,
   "id": "39a62b2a-c42b-475b-b659-3911274c3c59",
   "metadata": {},
   "outputs": [
    {
     "data": {
      "text/html": [
       "<div>\n",
       "<style scoped>\n",
       "    .dataframe tbody tr th:only-of-type {\n",
       "        vertical-align: middle;\n",
       "    }\n",
       "\n",
       "    .dataframe tbody tr th {\n",
       "        vertical-align: top;\n",
       "    }\n",
       "\n",
       "    .dataframe thead th {\n",
       "        text-align: right;\n",
       "    }\n",
       "</style>\n",
       "<table border=\"1\" class=\"dataframe\">\n",
       "  <thead>\n",
       "    <tr style=\"text-align: right;\">\n",
       "      <th></th>\n",
       "      <th>Year</th>\n",
       "      <th>Cause Name</th>\n",
       "      <th>State</th>\n",
       "      <th>Deaths</th>\n",
       "      <th>Age-adjusted Death Rate</th>\n",
       "    </tr>\n",
       "  </thead>\n",
       "  <tbody>\n",
       "    <tr>\n",
       "      <th>10362</th>\n",
       "      <td>1999</td>\n",
       "      <td>All causes</td>\n",
       "      <td>Illinois</td>\n",
       "      <td>108436</td>\n",
       "      <td>905.1</td>\n",
       "    </tr>\n",
       "    <tr>\n",
       "      <th>10361</th>\n",
       "      <td>1999</td>\n",
       "      <td>All causes</td>\n",
       "      <td>Idaho</td>\n",
       "      <td>9579</td>\n",
       "      <td>825.2</td>\n",
       "    </tr>\n",
       "    <tr>\n",
       "      <th>10360</th>\n",
       "      <td>1999</td>\n",
       "      <td>All causes</td>\n",
       "      <td>Hawaii</td>\n",
       "      <td>8270</td>\n",
       "      <td>688.8</td>\n",
       "    </tr>\n",
       "    <tr>\n",
       "      <th>10359</th>\n",
       "      <td>1999</td>\n",
       "      <td>All causes</td>\n",
       "      <td>Georgia</td>\n",
       "      <td>62028</td>\n",
       "      <td>964.9</td>\n",
       "    </tr>\n",
       "    <tr>\n",
       "      <th>10358</th>\n",
       "      <td>1999</td>\n",
       "      <td>All causes</td>\n",
       "      <td>Florida</td>\n",
       "      <td>163224</td>\n",
       "      <td>812.8</td>\n",
       "    </tr>\n",
       "  </tbody>\n",
       "</table>\n",
       "</div>"
      ],
      "text/plain": [
       "       Year  Cause Name     State  Deaths  Age-adjusted Death Rate\n",
       "10362  1999  All causes  Illinois  108436                    905.1\n",
       "10361  1999  All causes     Idaho    9579                    825.2\n",
       "10360  1999  All causes    Hawaii    8270                    688.8\n",
       "10359  1999  All causes   Georgia   62028                    964.9\n",
       "10358  1999  All causes   Florida  163224                    812.8"
      ]
     },
     "execution_count": 293,
     "metadata": {},
     "output_type": "execute_result"
    }
   ],
   "source": [
    "df1_states=df1[df1['State']!='United States'].sort_values(by=['Year'])\n",
    "df1_states[df1_states['Cause Name']=='All causes'].head()"
   ]
  },
  {
   "cell_type": "markdown",
   "id": "20356039-13ac-44ea-87fc-4d6a2e3cb368",
   "metadata": {},
   "source": [
    "For this section we do not need deaths in all of the United States so we neglected that here."
   ]
  },
  {
   "cell_type": "markdown",
   "id": "4ae55043-1edf-4054-93e0-925560e560af",
   "metadata": {},
   "source": [
    "## To map deaths in USA we use pycountry and for that we need state codes."
   ]
  },
  {
   "cell_type": "code",
   "execution_count": 294,
   "id": "bd170d29-4c54-4e02-92cf-27d1d5bd9236",
   "metadata": {},
   "outputs": [
    {
     "data": {
      "text/html": [
       "<div>\n",
       "<style scoped>\n",
       "    .dataframe tbody tr th:only-of-type {\n",
       "        vertical-align: middle;\n",
       "    }\n",
       "\n",
       "    .dataframe tbody tr th {\n",
       "        vertical-align: top;\n",
       "    }\n",
       "\n",
       "    .dataframe thead th {\n",
       "        text-align: right;\n",
       "    }\n",
       "</style>\n",
       "<table border=\"1\" class=\"dataframe\">\n",
       "  <thead>\n",
       "    <tr style=\"text-align: right;\">\n",
       "      <th></th>\n",
       "      <th>Year</th>\n",
       "      <th>Cause Name</th>\n",
       "      <th>State</th>\n",
       "      <th>Deaths</th>\n",
       "      <th>Age-adjusted Death Rate</th>\n",
       "      <th>Code</th>\n",
       "    </tr>\n",
       "  </thead>\n",
       "  <tbody>\n",
       "    <tr>\n",
       "      <th>10867</th>\n",
       "      <td>1999</td>\n",
       "      <td>Kidney disease</td>\n",
       "      <td>Wyoming</td>\n",
       "      <td>30</td>\n",
       "      <td>6.8</td>\n",
       "      <td>WY</td>\n",
       "    </tr>\n",
       "    <tr>\n",
       "      <th>10475</th>\n",
       "      <td>1999</td>\n",
       "      <td>Stroke</td>\n",
       "      <td>Minnesota</td>\n",
       "      <td>2997</td>\n",
       "      <td>59.6</td>\n",
       "      <td>MN</td>\n",
       "    </tr>\n",
       "    <tr>\n",
       "      <th>10476</th>\n",
       "      <td>1999</td>\n",
       "      <td>Stroke</td>\n",
       "      <td>Mississippi</td>\n",
       "      <td>1854</td>\n",
       "      <td>69.2</td>\n",
       "      <td>MS</td>\n",
       "    </tr>\n",
       "    <tr>\n",
       "      <th>10477</th>\n",
       "      <td>1999</td>\n",
       "      <td>Stroke</td>\n",
       "      <td>Missouri</td>\n",
       "      <td>3950</td>\n",
       "      <td>65.6</td>\n",
       "      <td>MO</td>\n",
       "    </tr>\n",
       "    <tr>\n",
       "      <th>10478</th>\n",
       "      <td>1999</td>\n",
       "      <td>Stroke</td>\n",
       "      <td>Montana</td>\n",
       "      <td>595</td>\n",
       "      <td>62.2</td>\n",
       "      <td>MT</td>\n",
       "    </tr>\n",
       "  </tbody>\n",
       "</table>\n",
       "</div>"
      ],
      "text/plain": [
       "       Year      Cause Name        State  Deaths  Age-adjusted Death Rate Code\n",
       "10867  1999  Kidney disease      Wyoming      30                      6.8   WY\n",
       "10475  1999          Stroke    Minnesota    2997                     59.6   MN\n",
       "10476  1999          Stroke  Mississippi    1854                     69.2   MS\n",
       "10477  1999          Stroke     Missouri    3950                     65.6   MO\n",
       "10478  1999          Stroke      Montana     595                     62.2   MT"
      ]
     },
     "execution_count": 294,
     "metadata": {},
     "output_type": "execute_result"
    }
   ],
   "source": [
    "code = {'Alabama': 'AL',\n",
    "        'Alaska': 'AK',\n",
    "        'Arizona': 'AZ',\n",
    "        'Arkansas': 'AR',\n",
    "        'California': 'CA',\n",
    "        'Colorado': 'CO',\n",
    "        'Connecticut': 'CT',\n",
    "        'Delaware': 'DE',\n",
    "        'District of Columbia': 'DC',\n",
    "        'Florida': 'FL',\n",
    "        'Georgia': 'GA',\n",
    "        'Hawaii': 'HI',\n",
    "        'Idaho': 'ID',\n",
    "        'Illinois': 'IL',\n",
    "        'Indiana': 'IN',\n",
    "        'Iowa': 'IA',\n",
    "        'Kansas': 'KS',\n",
    "        'Kentucky': 'KY',\n",
    "        'Louisiana': 'LA',\n",
    "        'Maine': 'ME',\n",
    "        'Maryland': 'MD',\n",
    "        'Massachusetts': 'MA',\n",
    "        'Michigan': 'MI',\n",
    "        'Minnesota': 'MN',\n",
    "        'Mississippi': 'MS',\n",
    "        'Missouri': 'MO',\n",
    "        'Montana': 'MT',\n",
    "        'Nebraska': 'NE',\n",
    "        'Nevada': 'NV',\n",
    "        'New Hampshire': 'NH',\n",
    "        'New Jersey': 'NJ',\n",
    "        'New Mexico': 'NM',\n",
    "        'New York': 'NY',\n",
    "        'North Carolina': 'NC',\n",
    "        'North Dakota': 'ND',\n",
    "        'Ohio': 'OH',\n",
    "        'Oklahoma': 'OK',\n",
    "        'Oregon': 'OR',\n",
    "        'Pennsylvania': 'PA',\n",
    "        'Rhode Island': 'RI',\n",
    "        'South Carolina': 'SC',\n",
    "        'South Dakota': 'SD',\n",
    "        'Tennessee': 'TN',\n",
    "        'Texas': 'TX',\n",
    "        'Utah': 'UT',\n",
    "        'Vermont': 'VT',\n",
    "        'Virginia': 'VA',\n",
    "        'Washington': 'WA',\n",
    "        'West Virginia': 'WV',\n",
    "        'Wisconsin': 'WI',\n",
    "        'Wyoming': 'WY'}\n",
    "df1_states['Code']=df1_states['State'].map(code)\n",
    "df1_states.head()"
   ]
  },
  {
   "cell_type": "markdown",
   "id": "badcfd2d-17ac-4cba-9cae-d3a09d1f1b9b",
   "metadata": {},
   "source": [
    "## Plotting number of deaths on the US Map"
   ]
  },
  {
   "cell_type": "code",
   "execution_count": 295,
   "id": "b7d58b4c-8d56-4287-812b-0036a75e3ad8",
   "metadata": {},
   "outputs": [
    {
     "data": {
      "application/vnd.plotly.v1+json": {
       "config": {
        "plotlyServerURL": "https://plot.ly"
       },
       "data": [
        {
         "coloraxis": "coloraxis",
         "geo": "geo",
         "hovertemplate": "<b>%{hovertext}</b><br><br>Year=1999<br>Code=%{location}<br>Deaths=%{z}<extra></extra>",
         "hovertext": [
          "Illinois",
          "Idaho",
          "Hawaii",
          "Georgia",
          "Florida",
          "District of Columbia",
          "Delaware",
          "Colorado",
          "California",
          "Arkansas",
          "Arizona",
          "Alaska",
          "Alabama",
          "Connecticut",
          "Indiana",
          "Montana",
          "Iowa",
          "Kansas",
          "Kentucky",
          "New York",
          "New Mexico",
          "New Jersey",
          "New Hampshire",
          "Nevada",
          "Nebraska",
          "North Carolina",
          "Missouri",
          "Minnesota",
          "Michigan",
          "Massachusetts",
          "Maryland",
          "Maine",
          "Louisiana",
          "Mississippi",
          "North Dakota",
          "Oklahoma",
          "Wyoming",
          "Wisconsin",
          "West Virginia",
          "Washington",
          "Virginia",
          "Vermont",
          "Ohio",
          "Utah",
          "Tennessee",
          "South Dakota",
          "South Carolina",
          "Rhode Island",
          "Pennsylvania",
          "Oregon",
          "Texas"
         ],
         "locationmode": "USA-states",
         "locations": [
          "IL",
          "ID",
          "HI",
          "GA",
          "FL",
          "DC",
          "DE",
          "CO",
          "CA",
          "AR",
          "AZ",
          "AK",
          "AL",
          "CT",
          "IN",
          "MT",
          "IA",
          "KS",
          "KY",
          "NY",
          "NM",
          "NJ",
          "NH",
          "NV",
          "NE",
          "NC",
          "MO",
          "MN",
          "MI",
          "MA",
          "MD",
          "ME",
          "LA",
          "MS",
          "ND",
          "OK",
          "WY",
          "WI",
          "WV",
          "WA",
          "VA",
          "VT",
          "OH",
          "UT",
          "TN",
          "SD",
          "SC",
          "RI",
          "PA",
          "OR",
          "TX"
         ],
         "name": "",
         "type": "choropleth",
         "z": [
          108436,
          9579,
          8270,
          62028,
          163224,
          6076,
          6666,
          27114,
          229380,
          27925,
          40050,
          2708,
          44806,
          29446,
          55303,
          8128,
          28411,
          24472,
          39321,
          159927,
          13676,
          73981,
          9537,
          15082,
          15579,
          69600,
          55931,
          38537,
          87232,
          55840,
          43089,
          12261,
          41238,
          28185,
          6103,
          34700,
          4042,
          46672,
          21049,
          43865,
          55320,
          4993,
          108517,
          12058,
          53765,
          6953,
          36053,
          9708,
          130283,
          29422,
          146858
         ]
        }
       ],
       "frames": [
        {
         "data": [
          {
           "coloraxis": "coloraxis",
           "geo": "geo",
           "hovertemplate": "<b>%{hovertext}</b><br><br>Year=1999<br>Code=%{location}<br>Deaths=%{z}<extra></extra>",
           "hovertext": [
            "Illinois",
            "Idaho",
            "Hawaii",
            "Georgia",
            "Florida",
            "District of Columbia",
            "Delaware",
            "Colorado",
            "California",
            "Arkansas",
            "Arizona",
            "Alaska",
            "Alabama",
            "Connecticut",
            "Indiana",
            "Montana",
            "Iowa",
            "Kansas",
            "Kentucky",
            "New York",
            "New Mexico",
            "New Jersey",
            "New Hampshire",
            "Nevada",
            "Nebraska",
            "North Carolina",
            "Missouri",
            "Minnesota",
            "Michigan",
            "Massachusetts",
            "Maryland",
            "Maine",
            "Louisiana",
            "Mississippi",
            "North Dakota",
            "Oklahoma",
            "Wyoming",
            "Wisconsin",
            "West Virginia",
            "Washington",
            "Virginia",
            "Vermont",
            "Ohio",
            "Utah",
            "Tennessee",
            "South Dakota",
            "South Carolina",
            "Rhode Island",
            "Pennsylvania",
            "Oregon",
            "Texas"
           ],
           "locationmode": "USA-states",
           "locations": [
            "IL",
            "ID",
            "HI",
            "GA",
            "FL",
            "DC",
            "DE",
            "CO",
            "CA",
            "AR",
            "AZ",
            "AK",
            "AL",
            "CT",
            "IN",
            "MT",
            "IA",
            "KS",
            "KY",
            "NY",
            "NM",
            "NJ",
            "NH",
            "NV",
            "NE",
            "NC",
            "MO",
            "MN",
            "MI",
            "MA",
            "MD",
            "ME",
            "LA",
            "MS",
            "ND",
            "OK",
            "WY",
            "WI",
            "WV",
            "WA",
            "VA",
            "VT",
            "OH",
            "UT",
            "TN",
            "SD",
            "SC",
            "RI",
            "PA",
            "OR",
            "TX"
           ],
           "name": "",
           "type": "choropleth",
           "z": [
            108436,
            9579,
            8270,
            62028,
            163224,
            6076,
            6666,
            27114,
            229380,
            27925,
            40050,
            2708,
            44806,
            29446,
            55303,
            8128,
            28411,
            24472,
            39321,
            159927,
            13676,
            73981,
            9537,
            15082,
            15579,
            69600,
            55931,
            38537,
            87232,
            55840,
            43089,
            12261,
            41238,
            28185,
            6103,
            34700,
            4042,
            46672,
            21049,
            43865,
            55320,
            4993,
            108517,
            12058,
            53765,
            6953,
            36053,
            9708,
            130283,
            29422,
            146858
           ]
          }
         ],
         "name": "1999"
        },
        {
         "data": [
          {
           "coloraxis": "coloraxis",
           "geo": "geo",
           "hovertemplate": "<b>%{hovertext}</b><br><br>Year=2000<br>Code=%{location}<br>Deaths=%{z}<extra></extra>",
           "hovertext": [
            "Kentucky",
            "Idaho",
            "Hawaii",
            "Georgia",
            "Florida",
            "District of Columbia",
            "Delaware",
            "Connecticut",
            "California",
            "Arkansas",
            "Arizona",
            "Alaska",
            "Alabama",
            "Colorado",
            "Illinois",
            "Montana",
            "Nebraska",
            "Indiana",
            "Iowa",
            "Kansas",
            "North Carolina",
            "New York",
            "New Mexico",
            "New Jersey",
            "New Hampshire",
            "Nevada",
            "North Dakota",
            "Missouri",
            "Minnesota",
            "Michigan",
            "Massachusetts",
            "Maryland",
            "Maine",
            "Louisiana",
            "Mississippi",
            "Ohio",
            "Oregon",
            "Wyoming",
            "Wisconsin",
            "West Virginia",
            "Washington",
            "Virginia",
            "Oklahoma",
            "Vermont",
            "Texas",
            "Tennessee",
            "South Dakota",
            "South Carolina",
            "Rhode Island",
            "Pennsylvania",
            "Utah"
           ],
           "locationmode": "USA-states",
           "locations": [
            "KY",
            "ID",
            "HI",
            "GA",
            "FL",
            "DC",
            "DE",
            "CT",
            "CA",
            "AR",
            "AZ",
            "AK",
            "AL",
            "CO",
            "IL",
            "MT",
            "NE",
            "IN",
            "IA",
            "KS",
            "NC",
            "NY",
            "NM",
            "NJ",
            "NH",
            "NV",
            "ND",
            "MO",
            "MN",
            "MI",
            "MA",
            "MD",
            "ME",
            "LA",
            "MS",
            "OH",
            "OR",
            "WY",
            "WI",
            "WV",
            "WA",
            "VA",
            "OK",
            "VT",
            "TX",
            "TN",
            "SD",
            "SC",
            "RI",
            "PA",
            "UT"
           ],
           "name": "",
           "type": "choropleth",
           "z": [
            39504,
            9563,
            8290,
            63870,
            164395,
            6001,
            6875,
            30129,
            229551,
            28217,
            40500,
            2914,
            45062,
            27288,
            106634,
            8096,
            14992,
            55469,
            28060,
            24717,
            71935,
            158203,
            13425,
            74800,
            9697,
            15261,
            5856,
            54865,
            37690,
            86953,
            56681,
            43753,
            12354,
            41138,
            28654,
            108125,
            29552,
            3920,
            46461,
            21114,
            43941,
            56282,
            35079,
            5127,
            149939,
            55246,
            7021,
            36948,
            10027,
            130813,
            12364
           ]
          }
         ],
         "name": "2000"
        },
        {
         "data": [
          {
           "coloraxis": "coloraxis",
           "geo": "geo",
           "hovertemplate": "<b>%{hovertext}</b><br><br>Year=2001<br>Code=%{location}<br>Deaths=%{z}<extra></extra>",
           "hovertext": [
            "Illinois",
            "Idaho",
            "Hawaii",
            "Georgia",
            "Florida",
            "District of Columbia",
            "Delaware",
            "Colorado",
            "California",
            "Arkansas",
            "Arizona",
            "Alaska",
            "Alabama",
            "Connecticut",
            "Indiana",
            "New Hampshire",
            "Iowa",
            "Kansas",
            "Kentucky",
            "New York",
            "New Mexico",
            "New Jersey",
            "Nevada",
            "Nebraska",
            "Montana",
            "North Carolina",
            "Missouri",
            "Minnesota",
            "Michigan",
            "Massachusetts",
            "Maryland",
            "Maine",
            "Louisiana",
            "Mississippi",
            "North Dakota",
            "Oklahoma",
            "Wyoming",
            "Wisconsin",
            "West Virginia",
            "Washington",
            "Virginia",
            "Vermont",
            "Ohio",
            "Utah",
            "Tennessee",
            "South Dakota",
            "South Carolina",
            "Rhode Island",
            "Pennsylvania",
            "Oregon",
            "Texas"
           ],
           "locationmode": "USA-states",
           "locations": [
            "IL",
            "ID",
            "HI",
            "GA",
            "FL",
            "DC",
            "DE",
            "CO",
            "CA",
            "AR",
            "AZ",
            "AK",
            "AL",
            "CT",
            "IN",
            "NH",
            "IA",
            "KS",
            "KY",
            "NY",
            "NM",
            "NJ",
            "NV",
            "NE",
            "MT",
            "NC",
            "MO",
            "MN",
            "MI",
            "MA",
            "MD",
            "ME",
            "LA",
            "MS",
            "ND",
            "OK",
            "WY",
            "WI",
            "WV",
            "WA",
            "VA",
            "VT",
            "OH",
            "UT",
            "TN",
            "SD",
            "SC",
            "RI",
            "PA",
            "OR",
            "TX"
           ],
           "name": "",
           "type": "choropleth",
           "z": [
            105430,
            9753,
            8394,
            64485,
            167269,
            5951,
            7112,
            28294,
            234044,
            27759,
            41058,
            2974,
            45316,
            29827,
            55198,
            9815,
            27791,
            24647,
            39861,
            159240,
            14129,
            74710,
            16285,
            15174,
            8265,
            70934,
            54982,
            37735,
            86424,
            56754,
            43839,
            12421,
            41757,
            28259,
            6048,
            34682,
            4029,
            46628,
            20967,
            44642,
            56280,
            5201,
            108027,
            12662,
            55151,
            6923,
            36612,
            10021,
            129729,
            30158,
            152779
           ]
          }
         ],
         "name": "2001"
        },
        {
         "data": [
          {
           "coloraxis": "coloraxis",
           "geo": "geo",
           "hovertemplate": "<b>%{hovertext}</b><br><br>Year=2002<br>Code=%{location}<br>Deaths=%{z}<extra></extra>",
           "hovertext": [
            "Alabama",
            "Indiana",
            "Illinois",
            "Idaho",
            "Hawaii",
            "Georgia",
            "Florida",
            "District of Columbia",
            "Connecticut",
            "Colorado",
            "California",
            "Arkansas",
            "Arizona",
            "Alaska",
            "Delaware",
            "Iowa",
            "New York",
            "Kansas",
            "Louisiana",
            "North Carolina",
            "New Mexico",
            "New Jersey",
            "New Hampshire",
            "Nevada",
            "Nebraska",
            "North Dakota",
            "Montana",
            "Mississippi",
            "Minnesota",
            "Michigan",
            "Massachusetts",
            "Maryland",
            "Missouri",
            "Kentucky",
            "Ohio",
            "Oregon",
            "Wyoming",
            "Wisconsin",
            "West Virginia",
            "Washington",
            "Virginia",
            "Oklahoma",
            "Vermont",
            "Texas",
            "Tennessee",
            "South Dakota",
            "South Carolina",
            "Rhode Island",
            "Pennsylvania",
            "Utah",
            "Maine"
           ],
           "locationmode": "USA-states",
           "locations": [
            "AL",
            "IN",
            "IL",
            "ID",
            "HI",
            "GA",
            "FL",
            "DC",
            "CT",
            "CO",
            "CA",
            "AR",
            "AZ",
            "AK",
            "DE",
            "IA",
            "NY",
            "KS",
            "LA",
            "NC",
            "NM",
            "NJ",
            "NH",
            "NV",
            "NE",
            "ND",
            "MT",
            "MS",
            "MN",
            "MI",
            "MA",
            "MD",
            "MO",
            "KY",
            "OH",
            "OR",
            "WY",
            "WI",
            "WV",
            "WA",
            "VA",
            "OK",
            "VT",
            "TX",
            "TN",
            "SD",
            "SC",
            "RI",
            "PA",
            "UT",
            "ME"
           ],
           "name": "",
           "type": "choropleth",
           "z": [
            46069,
            55396,
            106667,
            9923,
            8801,
            65449,
            167814,
            5851,
            30122,
            29210,
            234565,
            28513,
            42816,
            3030,
            6861,
            27978,
            158118,
            25021,
            41984,
            72027,
            14344,
            74009,
            9853,
            16927,
            15738,
            5892,
            8506,
            28853,
            38510,
            87795,
            56928,
            43970,
            55940,
            40697,
            109766,
            31119,
            4174,
            46981,
            21016,
            45338,
            57196,
            35502,
            5075,
            155524,
            56606,
            6898,
            37736,
            10246,
            130223,
            13116,
            12694
           ]
          }
         ],
         "name": "2002"
        },
        {
         "data": [
          {
           "coloraxis": "coloraxis",
           "geo": "geo",
           "hovertemplate": "<b>%{hovertext}</b><br><br>Year=2003<br>Code=%{location}<br>Deaths=%{z}<extra></extra>",
           "hovertext": [
            "Alabama",
            "Alaska",
            "Iowa",
            "Indiana",
            "Illinois",
            "Idaho",
            "Hawaii",
            "Georgia",
            "Florida",
            "Delaware",
            "Connecticut",
            "Colorado",
            "California",
            "Arkansas",
            "Arizona",
            "District of Columbia",
            "Kansas",
            "Kentucky",
            "Maine",
            "North Carolina",
            "New York",
            "New Mexico",
            "New Jersey",
            "New Hampshire",
            "Nevada",
            "North Dakota",
            "Nebraska",
            "Missouri",
            "Mississippi",
            "Minnesota",
            "Michigan",
            "Massachusetts",
            "Maryland",
            "Montana",
            "Louisiana",
            "Ohio",
            "Oregon",
            "Wyoming",
            "Wisconsin",
            "West Virginia",
            "Washington",
            "Virginia",
            "Oklahoma",
            "Vermont",
            "Texas",
            "Tennessee",
            "South Dakota",
            "South Carolina",
            "Rhode Island",
            "Pennsylvania",
            "Utah"
           ],
           "locationmode": "USA-states",
           "locations": [
            "AL",
            "AK",
            "IA",
            "IN",
            "IL",
            "ID",
            "HI",
            "GA",
            "FL",
            "DE",
            "CT",
            "CO",
            "CA",
            "AR",
            "AZ",
            "DC",
            "KS",
            "KY",
            "ME",
            "NC",
            "NY",
            "NM",
            "NJ",
            "NH",
            "NV",
            "ND",
            "NE",
            "MO",
            "MS",
            "MN",
            "MI",
            "MA",
            "MD",
            "MT",
            "LA",
            "OH",
            "OR",
            "WY",
            "WI",
            "WV",
            "WA",
            "VA",
            "OK",
            "VT",
            "TX",
            "TN",
            "SD",
            "SC",
            "RI",
            "PA",
            "UT"
           ],
           "name": "",
           "type": "choropleth",
           "z": [
            46716,
            3180,
            28062,
            55968,
            105325,
            10380,
            8978,
            66478,
            168657,
            7070,
            29627,
            29506,
            239371,
            27918,
            43392,
            5573,
            24593,
            40241,
            12540,
            73459,
            155877,
            14805,
            73689,
            9708,
            17858,
            6090,
            15465,
            55582,
            28489,
            37620,
            86728,
            56291,
            44499,
            8467,
            42719,
            109110,
            30912,
            4172,
            46177,
            21306,
            45920,
            58282,
            35721,
            5120,
            154870,
            57313,
            7132,
            38112,
            10039,
            129769,
            13412
           ]
          }
         ],
         "name": "2003"
        },
        {
         "data": [
          {
           "coloraxis": "coloraxis",
           "geo": "geo",
           "hovertemplate": "<b>%{hovertext}</b><br><br>Year=2004<br>Code=%{location}<br>Deaths=%{z}<extra></extra>",
           "hovertext": [
            "Oklahoma",
            "Maryland",
            "Alabama",
            "Indiana",
            "Illinois",
            "Idaho",
            "Hawaii",
            "Georgia",
            "Florida",
            "District of Columbia",
            "Connecticut",
            "Colorado",
            "California",
            "Arkansas",
            "Arizona",
            "Alaska",
            "Delaware",
            "Iowa",
            "Kansas",
            "Kentucky",
            "Louisiana",
            "North Carolina",
            "New York",
            "New Mexico",
            "New Jersey",
            "New Hampshire",
            "Nevada",
            "North Dakota",
            "Nebraska",
            "Missouri",
            "Mississippi",
            "Minnesota",
            "Michigan",
            "Massachusetts",
            "Maine",
            "Montana",
            "Ohio",
            "Pennsylvania",
            "Wyoming",
            "Wisconsin",
            "West Virginia",
            "Washington",
            "Oregon",
            "Virginia",
            "Utah",
            "Texas",
            "Tennessee",
            "South Dakota",
            "South Carolina",
            "Rhode Island",
            "Vermont"
           ],
           "locationmode": "USA-states",
           "locations": [
            "OK",
            "MD",
            "AL",
            "IN",
            "IL",
            "ID",
            "HI",
            "GA",
            "FL",
            "DC",
            "CT",
            "CO",
            "CA",
            "AR",
            "AZ",
            "AK",
            "DE",
            "IA",
            "KS",
            "KY",
            "LA",
            "NC",
            "NY",
            "NM",
            "NJ",
            "NH",
            "NV",
            "ND",
            "NE",
            "MO",
            "MS",
            "MN",
            "MI",
            "MA",
            "ME",
            "MT",
            "OH",
            "PA",
            "WY",
            "WI",
            "WV",
            "WA",
            "OR",
            "VA",
            "UT",
            "TX",
            "TN",
            "SD",
            "SC",
            "RI",
            "VT"
           ],
           "name": "",
           "type": "choropleth",
           "z": [
            34483,
            43232,
            46121,
            54211,
            102670,
            10028,
            9030,
            65818,
            169008,
            5454,
            29314,
            28309,
            232525,
            27528,
            43198,
            3051,
            7143,
            26897,
            23818,
            38646,
            42215,
            72384,
            152681,
            14298,
            71371,
            10111,
            17929,
            5601,
            14657,
            53950,
            27871,
            37034,
            85169,
            54511,
            12443,
            8094,
            106288,
            127640,
            3955,
            45600,
            20793,
            44770,
            30313,
            56550,
            13331,
            152870,
            55829,
            6833,
            37276,
            9769,
            4995
           ]
          }
         ],
         "name": "2004"
        },
        {
         "data": [
          {
           "coloraxis": "coloraxis",
           "geo": "geo",
           "hovertemplate": "<b>%{hovertext}</b><br><br>Year=2005<br>Code=%{location}<br>Deaths=%{z}<extra></extra>",
           "hovertext": [
            "Massachusetts",
            "Alabama",
            "Alaska",
            "Iowa",
            "Indiana",
            "Illinois",
            "Idaho",
            "Hawaii",
            "Georgia",
            "Florida",
            "Delaware",
            "Connecticut",
            "Colorado",
            "California",
            "Arkansas",
            "Arizona",
            "District of Columbia",
            "Kansas",
            "Kentucky",
            "Maine",
            "North Dakota",
            "North Carolina",
            "New York",
            "New Mexico",
            "New Jersey",
            "New Hampshire",
            "Ohio",
            "Nevada",
            "Montana",
            "Missouri",
            "Mississippi",
            "Minnesota",
            "Michigan",
            "Maryland",
            "Nebraska",
            "Louisiana",
            "Oklahoma",
            "Pennsylvania",
            "Wyoming",
            "Wisconsin",
            "West Virginia",
            "Washington",
            "Oregon",
            "Virginia",
            "Utah",
            "Texas",
            "Tennessee",
            "South Dakota",
            "South Carolina",
            "Rhode Island",
            "Vermont"
           ],
           "locationmode": "USA-states",
           "locations": [
            "MA",
            "AL",
            "AK",
            "IA",
            "IN",
            "IL",
            "ID",
            "HI",
            "GA",
            "FL",
            "DE",
            "CT",
            "CO",
            "CA",
            "AR",
            "AZ",
            "DC",
            "KS",
            "KY",
            "ME",
            "ND",
            "NC",
            "NY",
            "NM",
            "NJ",
            "NH",
            "OH",
            "NV",
            "MT",
            "MO",
            "MS",
            "MN",
            "MI",
            "MD",
            "NE",
            "LA",
            "OK",
            "PA",
            "WY",
            "WI",
            "WV",
            "WA",
            "OR",
            "VA",
            "UT",
            "TX",
            "TN",
            "SD",
            "SC",
            "RI",
            "VT"
           ],
           "name": "",
           "type": "choropleth",
           "z": [
            53874,
            47090,
            3168,
            27811,
            55675,
            103974,
            10556,
            9136,
            66736,
            170791,
            7472,
            29467,
            29627,
            237037,
            28055,
            45827,
            5483,
            24682,
            40223,
            12868,
            5744,
            74638,
            152427,
            14983,
            71963,
            10194,
            109031,
            19029,
            8528,
            54656,
            29196,
            37535,
            86867,
            43892,
            14963,
            44355,
            36180,
            129532,
            4099,
            46709,
            20780,
            46203,
            31091,
            57855,
            13432,
            156457,
            57260,
            7086,
            38707,
            10007,
            5066
           ]
          }
         ],
         "name": "2005"
        },
        {
         "data": [
          {
           "coloraxis": "coloraxis",
           "geo": "geo",
           "hovertemplate": "<b>%{hovertext}</b><br><br>Year=2006<br>Code=%{location}<br>Deaths=%{z}<extra></extra>",
           "hovertext": [
            "Alabama",
            "Alaska",
            "Iowa",
            "Indiana",
            "Illinois",
            "Idaho",
            "Hawaii",
            "Georgia",
            "Florida",
            "Delaware",
            "Connecticut",
            "Colorado",
            "California",
            "Arkansas",
            "Arizona",
            "District of Columbia",
            "Kansas",
            "Kentucky",
            "Maine",
            "North Carolina",
            "New York",
            "New Mexico",
            "New Jersey",
            "New Hampshire",
            "Nevada",
            "North Dakota",
            "Nebraska",
            "Missouri",
            "Mississippi",
            "Minnesota",
            "Michigan",
            "Massachusetts",
            "Maryland",
            "Montana",
            "Louisiana",
            "Ohio",
            "Oregon",
            "Wyoming",
            "Wisconsin",
            "West Virginia",
            "Washington",
            "Virginia",
            "Oklahoma",
            "Vermont",
            "Texas",
            "Tennessee",
            "South Dakota",
            "South Carolina",
            "Rhode Island",
            "Pennsylvania",
            "Utah"
           ],
           "locationmode": "USA-states",
           "locations": [
            "AL",
            "AK",
            "IA",
            "IN",
            "IL",
            "ID",
            "HI",
            "GA",
            "FL",
            "DE",
            "CT",
            "CO",
            "CA",
            "AR",
            "AZ",
            "DC",
            "KS",
            "KY",
            "ME",
            "NC",
            "NY",
            "NM",
            "NJ",
            "NH",
            "NV",
            "ND",
            "NE",
            "MO",
            "MS",
            "MN",
            "MI",
            "MA",
            "MD",
            "MT",
            "LA",
            "OH",
            "OR",
            "WY",
            "WI",
            "WV",
            "WA",
            "VA",
            "OK",
            "VT",
            "TX",
            "TN",
            "SD",
            "SC",
            "RI",
            "PA",
            "UT"
           ],
           "name": "",
           "type": "choropleth",
           "z": [
            46977,
            3354,
            27362,
            55622,
            102171,
            10613,
            9432,
            67808,
            170066,
            7204,
            29260,
            29521,
            237126,
            27901,
            46365,
            5344,
            24553,
            40102,
            12294,
            74716,
            148806,
            15296,
            70356,
            10060,
            18872,
            5868,
            14899,
            54681,
            28564,
            37028,
            86042,
            53450,
            43582,
            8472,
            40045,
            106825,
            31380,
            4311,
            46153,
            20672,
            46120,
            57690,
            35427,
            5048,
            157150,
            56838,
            7084,
            38761,
            9690,
            125539,
            13764
           ]
          }
         ],
         "name": "2006"
        },
        {
         "data": [
          {
           "coloraxis": "coloraxis",
           "geo": "geo",
           "hovertemplate": "<b>%{hovertext}</b><br><br>Year=2007<br>Code=%{location}<br>Deaths=%{z}<extra></extra>",
           "hovertext": [
            "North Carolina",
            "New York",
            "Oklahoma",
            "Illinois",
            "Idaho",
            "Hawaii",
            "Georgia",
            "Florida",
            "District of Columbia",
            "Delaware",
            "Colorado",
            "California",
            "Arkansas",
            "Arizona",
            "Alaska",
            "Alabama",
            "Connecticut",
            "Oregon",
            "Ohio",
            "Pennsylvania",
            "Indiana",
            "Iowa",
            "Kentucky",
            "North Dakota",
            "Wyoming",
            "Wisconsin",
            "West Virginia",
            "Virginia",
            "Michigan",
            "Massachusetts",
            "Maryland",
            "Maine",
            "Louisiana",
            "Washington",
            "Kansas",
            "Mississippi",
            "Minnesota",
            "Vermont",
            "Tennessee",
            "Texas",
            "Rhode Island",
            "South Carolina",
            "South Dakota",
            "Nevada",
            "Nebraska",
            "Montana",
            "Missouri",
            "New Mexico",
            "Utah",
            "New Hampshire",
            "New Jersey"
           ],
           "locationmode": "USA-states",
           "locations": [
            "NC",
            "NY",
            "OK",
            "IL",
            "ID",
            "HI",
            "GA",
            "FL",
            "DC",
            "DE",
            "CO",
            "CA",
            "AR",
            "AZ",
            "AK",
            "AL",
            "CT",
            "OR",
            "OH",
            "PA",
            "IN",
            "IA",
            "KY",
            "ND",
            "WY",
            "WI",
            "WV",
            "VA",
            "MI",
            "MA",
            "MD",
            "ME",
            "LA",
            "WA",
            "KS",
            "MS",
            "MN",
            "VT",
            "TN",
            "TX",
            "RI",
            "SC",
            "SD",
            "NV",
            "NE",
            "MT",
            "MO",
            "NM",
            "UT",
            "NH",
            "NJ"
           ],
           "name": "",
           "type": "choropleth",
           "z": [
            76046,
            147680,
            36032,
            100503,
            10822,
            9495,
            68331,
            168096,
            5188,
            7327,
            29993,
            233720,
            28191,
            45554,
            3463,
            46696,
            28651,
            31403,
            106534,
            125104,
            54000,
            27221,
            40090,
            5561,
            4266,
            46241,
            21086,
            58225,
            86721,
            52917,
            43757,
            12493,
            39966,
            47323,
            24491,
            28255,
            37138,
            5179,
            57087,
            160548,
            9723,
            39439,
            6826,
            18687,
            15263,
            8624,
            54166,
            15482,
            14143,
            10303,
            69662
           ]
          }
         ],
         "name": "2007"
        },
        {
         "data": [
          {
           "coloraxis": "coloraxis",
           "geo": "geo",
           "hovertemplate": "<b>%{hovertext}</b><br><br>Year=2008<br>Code=%{location}<br>Deaths=%{z}<extra></extra>",
           "hovertext": [
            "Vermont",
            "Utah",
            "Texas",
            "Tennessee",
            "South Dakota",
            "South Carolina",
            "Rhode Island",
            "Pennsylvania",
            "Oregon",
            "Oklahoma",
            "Ohio",
            "North Dakota",
            "North Carolina",
            "New York",
            "New Mexico",
            "New Jersey",
            "New Hampshire",
            "Nevada",
            "Nebraska",
            "Montana",
            "Missouri",
            "Mississippi",
            "Minnesota",
            "Michigan",
            "Massachusetts",
            "Maryland",
            "Maine",
            "Louisiana",
            "Kentucky",
            "Virginia",
            "Washington",
            "West Virginia",
            "Wisconsin",
            "Kansas",
            "Wyoming",
            "Iowa",
            "Indiana",
            "Idaho",
            "Hawaii",
            "Georgia",
            "Florida",
            "District of Columbia",
            "Delaware",
            "Connecticut",
            "Colorado",
            "California",
            "Arkansas",
            "Arizona",
            "Alaska",
            "Alabama",
            "Illinois"
           ],
           "locationmode": "USA-states",
           "locations": [
            "VT",
            "UT",
            "TX",
            "TN",
            "SD",
            "SC",
            "RI",
            "PA",
            "OR",
            "OK",
            "OH",
            "ND",
            "NC",
            "NY",
            "NM",
            "NJ",
            "NH",
            "NV",
            "NE",
            "MT",
            "MO",
            "MS",
            "MN",
            "MI",
            "MA",
            "MD",
            "ME",
            "LA",
            "KY",
            "VA",
            "WA",
            "WV",
            "WI",
            "KS",
            "WY",
            "IA",
            "IN",
            "ID",
            "HI",
            "GA",
            "FL",
            "DC",
            "DE",
            "CT",
            "CO",
            "CA",
            "AR",
            "AZ",
            "AK",
            "AL",
            "IL"
           ],
           "name": "",
           "type": "choropleth",
           "z": [
            5211,
            14040,
            164914,
            58820,
            7083,
            40289,
            9738,
            127462,
            31967,
            37014,
            109767,
            5871,
            77283,
            148698,
            16005,
            70026,
            10268,
            19335,
            15461,
            8913,
            56578,
            28984,
            38499,
            88445,
            53518,
            43892,
            12541,
            41220,
            41329,
            59100,
            48627,
            21557,
            46815,
            24975,
            4227,
            28541,
            56752,
            10962,
            9501,
            69640,
            170703,
            5140,
            7622,
            28794,
            31274,
            234766,
            29322,
            45823,
            3494,
            47707,
            103471
           ]
          }
         ],
         "name": "2008"
        },
        {
         "data": [
          {
           "coloraxis": "coloraxis",
           "geo": "geo",
           "hovertemplate": "<b>%{hovertext}</b><br><br>Year=2009<br>Code=%{location}<br>Deaths=%{z}<extra></extra>",
           "hovertext": [
            "Alabama",
            "Indiana",
            "Illinois",
            "Idaho",
            "Hawaii",
            "Georgia",
            "Florida",
            "District of Columbia",
            "Connecticut",
            "Colorado",
            "California",
            "Arkansas",
            "Arizona",
            "Alaska",
            "Delaware",
            "Iowa",
            "Kansas",
            "Kentucky",
            "Louisiana",
            "New York",
            "New Mexico",
            "New Jersey",
            "New Hampshire",
            "Nevada",
            "Nebraska",
            "North Carolina",
            "Montana",
            "Mississippi",
            "Minnesota",
            "Michigan",
            "Massachusetts",
            "Maryland",
            "Maine",
            "Missouri",
            "North Dakota",
            "Oklahoma",
            "Wyoming",
            "Wisconsin",
            "West Virginia",
            "Washington",
            "Virginia",
            "Vermont",
            "Ohio",
            "Utah",
            "Tennessee",
            "South Dakota",
            "South Carolina",
            "Rhode Island",
            "Pennsylvania",
            "Oregon",
            "Texas"
           ],
           "locationmode": "USA-states",
           "locations": [
            "AL",
            "IN",
            "IL",
            "ID",
            "HI",
            "GA",
            "FL",
            "DC",
            "CT",
            "CO",
            "CA",
            "AR",
            "AZ",
            "AK",
            "DE",
            "IA",
            "KS",
            "KY",
            "LA",
            "NY",
            "NM",
            "NJ",
            "NH",
            "NV",
            "NE",
            "NC",
            "MT",
            "MS",
            "MN",
            "MI",
            "MA",
            "MD",
            "ME",
            "MO",
            "ND",
            "OK",
            "WY",
            "WI",
            "WV",
            "WA",
            "VA",
            "VT",
            "OH",
            "UT",
            "TN",
            "SD",
            "SC",
            "RI",
            "PA",
            "OR",
            "TX"
           ],
           "name": "",
           "type": "choropleth",
           "z": [
            47470,
            55973,
            100056,
            11098,
            9914,
            69712,
            169924,
            4834,
            28585,
            31173,
            232736,
            28673,
            45816,
            3618,
            7534,
            27544,
            24024,
            41380,
            40282,
            146475,
            15643,
            68277,
            10100,
            19224,
            14810,
            77117,
            8730,
            28275,
            37851,
            86455,
            52308,
            43843,
            12594,
            54263,
            5914,
            35601,
            4283,
            45697,
            21386,
            48270,
            58653,
            5034,
            107156,
            14138,
            58288,
            6923,
            40449,
            9395,
            124780,
            31636,
            163249
           ]
          }
         ],
         "name": "2009"
        },
        {
         "data": [
          {
           "coloraxis": "coloraxis",
           "geo": "geo",
           "hovertemplate": "<b>%{hovertext}</b><br><br>Year=2010<br>Code=%{location}<br>Deaths=%{z}<extra></extra>",
           "hovertext": [
            "Maine",
            "Illinois",
            "Idaho",
            "Hawaii",
            "Georgia",
            "Florida",
            "District of Columbia",
            "Delaware",
            "Colorado",
            "California",
            "Arkansas",
            "Arizona",
            "Alaska",
            "Alabama",
            "Connecticut",
            "Indiana",
            "Iowa",
            "Kansas",
            "Kentucky",
            "New York",
            "New Mexico",
            "New Jersey",
            "New Hampshire",
            "Nevada",
            "Nebraska",
            "North Carolina",
            "Montana",
            "Mississippi",
            "Minnesota",
            "Michigan",
            "Massachusetts",
            "Maryland",
            "Louisiana",
            "Missouri",
            "North Dakota",
            "Oklahoma",
            "Wyoming",
            "Wisconsin",
            "West Virginia",
            "Washington",
            "Virginia",
            "Vermont",
            "Ohio",
            "Utah",
            "Tennessee",
            "South Dakota",
            "South Carolina",
            "Rhode Island",
            "Pennsylvania",
            "Oregon",
            "Texas"
           ],
           "locationmode": "USA-states",
           "locations": [
            "ME",
            "IL",
            "ID",
            "HI",
            "GA",
            "FL",
            "DC",
            "DE",
            "CO",
            "CA",
            "AR",
            "AZ",
            "AK",
            "AL",
            "CT",
            "IN",
            "IA",
            "KS",
            "KY",
            "NY",
            "NM",
            "NJ",
            "NH",
            "NV",
            "NE",
            "NC",
            "MT",
            "MS",
            "MN",
            "MI",
            "MA",
            "MD",
            "LA",
            "MO",
            "ND",
            "OK",
            "WY",
            "WI",
            "WV",
            "WA",
            "VA",
            "VT",
            "OH",
            "UT",
            "TN",
            "SD",
            "SC",
            "RI",
            "PA",
            "OR",
            "TX"
           ],
           "name": "",
           "type": "choropleth",
           "z": [
            12750,
            99931,
            11429,
            9617,
            71263,
            173791,
            4672,
            7706,
            31465,
            234012,
            28916,
            46762,
            3728,
            48038,
            28692,
            56743,
            27745,
            24502,
            41983,
            146432,
            15931,
            69495,
            10201,
            19623,
            15171,
            78773,
            8827,
            28965,
            38972,
            88021,
            52583,
            43325,
            40667,
            55281,
            5944,
            36529,
            4438,
            47308,
            21275,
            48146,
            59032,
            5380,
            108711,
            14776,
            59578,
            7100,
            41614,
            9579,
            124596,
            31890,
            166527
           ]
          }
         ],
         "name": "2010"
        },
        {
         "data": [
          {
           "coloraxis": "coloraxis",
           "geo": "geo",
           "hovertemplate": "<b>%{hovertext}</b><br><br>Year=2011<br>Code=%{location}<br>Deaths=%{z}<extra></extra>",
           "hovertext": [
            "Maine",
            "Illinois",
            "Idaho",
            "Hawaii",
            "Georgia",
            "Florida",
            "District of Columbia",
            "Delaware",
            "Colorado",
            "California",
            "Arkansas",
            "Arizona",
            "Alaska",
            "Alabama",
            "Connecticut",
            "Indiana",
            "Iowa",
            "Kansas",
            "Kentucky",
            "New York",
            "New Mexico",
            "New Jersey",
            "New Hampshire",
            "Nevada",
            "Nebraska",
            "North Carolina",
            "Montana",
            "Mississippi",
            "Minnesota",
            "Michigan",
            "Massachusetts",
            "Maryland",
            "Louisiana",
            "Missouri",
            "North Dakota",
            "Oklahoma",
            "Wyoming",
            "Wisconsin",
            "West Virginia",
            "Washington",
            "Virginia",
            "Vermont",
            "Ohio",
            "Utah",
            "Tennessee",
            "South Dakota",
            "South Carolina",
            "Rhode Island",
            "Pennsylvania",
            "Oregon",
            "Texas"
           ],
           "locationmode": "USA-states",
           "locations": [
            "ME",
            "IL",
            "ID",
            "HI",
            "GA",
            "FL",
            "DC",
            "DE",
            "CO",
            "CA",
            "AR",
            "AZ",
            "AK",
            "AL",
            "CT",
            "IN",
            "IA",
            "KS",
            "KY",
            "NY",
            "NM",
            "NJ",
            "NH",
            "NV",
            "NE",
            "NC",
            "MT",
            "MS",
            "MN",
            "MI",
            "MA",
            "MD",
            "LA",
            "MO",
            "ND",
            "OK",
            "WY",
            "WI",
            "WV",
            "WA",
            "VA",
            "VT",
            "OH",
            "UT",
            "TN",
            "SD",
            "SC",
            "RI",
            "PA",
            "OR",
            "TX"
           ],
           "name": "",
           "type": "choropleth",
           "z": [
            13001,
            101906,
            12027,
            9923,
            71248,
            173976,
            4589,
            7845,
            32563,
            239942,
            29653,
            48381,
            3849,
            48681,
            29526,
            58202,
            28184,
            25116,
            42626,
            149174,
            16452,
            70558,
            10823,
            20343,
            15476,
            79882,
            9115,
            29278,
            39820,
            89508,
            53710,
            43745,
            40890,
            55848,
            5965,
            37175,
            4387,
            48410,
            21867,
            49691,
            60804,
            5433,
            111427,
            15266,
            60541,
            7314,
            42072,
            9581,
            128237,
            32788,
            168640
           ]
          }
         ],
         "name": "2011"
        },
        {
         "data": [
          {
           "coloraxis": "coloraxis",
           "geo": "geo",
           "hovertemplate": "<b>%{hovertext}</b><br><br>Year=2012<br>Code=%{location}<br>Deaths=%{z}<extra></extra>",
           "hovertext": [
            "Maine",
            "Alabama",
            "Indiana",
            "Illinois",
            "Idaho",
            "Hawaii",
            "Georgia",
            "Florida",
            "District of Columbia",
            "Connecticut",
            "Colorado",
            "California",
            "Arkansas",
            "Arizona",
            "Alaska",
            "Delaware",
            "Iowa",
            "Kansas",
            "Kentucky",
            "Louisiana",
            "North Carolina",
            "New York",
            "New Mexico",
            "New Jersey",
            "New Hampshire",
            "Nevada",
            "North Dakota",
            "Nebraska",
            "Missouri",
            "Mississippi",
            "Minnesota",
            "Michigan",
            "Massachusetts",
            "Maryland",
            "Montana",
            "Ohio",
            "Oregon",
            "Wyoming",
            "Wisconsin",
            "West Virginia",
            "Washington",
            "Virginia",
            "Oklahoma",
            "Vermont",
            "Texas",
            "Tennessee",
            "South Dakota",
            "South Carolina",
            "Rhode Island",
            "Pennsylvania",
            "Utah"
           ],
           "locationmode": "USA-states",
           "locations": [
            "ME",
            "AL",
            "IN",
            "IL",
            "ID",
            "HI",
            "GA",
            "FL",
            "DC",
            "CT",
            "CO",
            "CA",
            "AR",
            "AZ",
            "AK",
            "DE",
            "IA",
            "KS",
            "KY",
            "LA",
            "NC",
            "NY",
            "NM",
            "NJ",
            "NH",
            "NV",
            "ND",
            "NE",
            "MO",
            "MS",
            "MN",
            "MI",
            "MA",
            "MD",
            "MT",
            "OH",
            "OR",
            "WY",
            "WI",
            "WV",
            "WA",
            "VA",
            "OK",
            "VT",
            "TX",
            "TN",
            "SD",
            "SC",
            "RI",
            "PA",
            "UT"
           ],
           "name": "",
           "type": "choropleth",
           "z": [
            12870,
            49301,
            59332,
            102433,
            11998,
            10274,
            72847,
            177291,
            4650,
            29316,
            33133,
            242554,
            30117,
            49549,
            3912,
            7875,
            28389,
            25145,
            43664,
            42320,
            81925,
            148991,
            16710,
            70534,
            10730,
            20785,
            6038,
            15659,
            56094,
            29544,
            40016,
            89901,
            53177,
            44477,
            8976,
            112498,
            32759,
            4481,
            48384,
            21915,
            50105,
            61564,
            36870,
            5491,
            174187,
            61956,
            7333,
            43198,
            9354,
            126981,
            15676
           ]
          }
         ],
         "name": "2012"
        },
        {
         "data": [
          {
           "coloraxis": "coloraxis",
           "geo": "geo",
           "hovertemplate": "<b>%{hovertext}</b><br><br>Year=2013<br>Code=%{location}<br>Deaths=%{z}<extra></extra>",
           "hovertext": [
            "Alabama",
            "Alaska",
            "Iowa",
            "Indiana",
            "Illinois",
            "Idaho",
            "Hawaii",
            "Georgia",
            "Florida",
            "Delaware",
            "Connecticut",
            "Colorado",
            "California",
            "Arkansas",
            "Arizona",
            "District of Columbia",
            "Kansas",
            "Kentucky",
            "Louisiana",
            "Maine",
            "North Carolina",
            "New York",
            "New Mexico",
            "New Jersey",
            "New Hampshire",
            "Nevada",
            "North Dakota",
            "Nebraska",
            "Missouri",
            "Mississippi",
            "Minnesota",
            "Michigan",
            "Massachusetts",
            "Maryland",
            "Montana",
            "Ohio",
            "Oregon",
            "Wyoming",
            "Wisconsin",
            "West Virginia",
            "Washington",
            "Virginia",
            "Oklahoma",
            "Vermont",
            "Texas",
            "Tennessee",
            "South Dakota",
            "South Carolina",
            "Rhode Island",
            "Pennsylvania",
            "Utah"
           ],
           "locationmode": "USA-states",
           "locations": [
            "AL",
            "AK",
            "IA",
            "IN",
            "IL",
            "ID",
            "HI",
            "GA",
            "FL",
            "DE",
            "CT",
            "CO",
            "CA",
            "AR",
            "AZ",
            "DC",
            "KS",
            "KY",
            "LA",
            "ME",
            "NC",
            "NY",
            "NM",
            "NJ",
            "NH",
            "NV",
            "ND",
            "NE",
            "MO",
            "MS",
            "MN",
            "MI",
            "MA",
            "MD",
            "MT",
            "OH",
            "OR",
            "WY",
            "WI",
            "WV",
            "WA",
            "VA",
            "OK",
            "VT",
            "TX",
            "TN",
            "SD",
            "SC",
            "RI",
            "PA",
            "UT"
           ],
           "name": "",
           "type": "choropleth",
           "z": [
            50189,
            3997,
            28948,
            60716,
            103401,
            12434,
            10505,
            75088,
            181112,
            7967,
            29632,
            33712,
            248359,
            30437,
            50534,
            4719,
            25414,
            43759,
            43270,
            13547,
            83329,
            150919,
            16805,
            71403,
            10897,
            21468,
            6233,
            15754,
            57444,
            30703,
            40987,
            92408,
            54567,
            45689,
            9511,
            113258,
            33939,
            4516,
            50026,
            21843,
            51264,
            62716,
            38384,
            5639,
            179183,
            63406,
            7099,
            44582,
            9792,
            129123,
            16366
           ]
          }
         ],
         "name": "2013"
        },
        {
         "data": [
          {
           "coloraxis": "coloraxis",
           "geo": "geo",
           "hovertemplate": "<b>%{hovertext}</b><br><br>Year=2014<br>Code=%{location}<br>Deaths=%{z}<extra></extra>",
           "hovertext": [
            "Maine",
            "Illinois",
            "Idaho",
            "Hawaii",
            "Georgia",
            "Florida",
            "District of Columbia",
            "Delaware",
            "Colorado",
            "California",
            "Arkansas",
            "Arizona",
            "Alaska",
            "Alabama",
            "Connecticut",
            "Indiana",
            "Iowa",
            "Kansas",
            "Kentucky",
            "New York",
            "New Mexico",
            "New Jersey",
            "New Hampshire",
            "Nevada",
            "Nebraska",
            "North Carolina",
            "Montana",
            "Mississippi",
            "Minnesota",
            "Michigan",
            "Massachusetts",
            "Maryland",
            "Louisiana",
            "Missouri",
            "North Dakota",
            "Oklahoma",
            "Wyoming",
            "Wisconsin",
            "West Virginia",
            "Washington",
            "Virginia",
            "Vermont",
            "Ohio",
            "Utah",
            "Tennessee",
            "South Dakota",
            "South Carolina",
            "Rhode Island",
            "Pennsylvania",
            "Oregon",
            "Texas"
           ],
           "locationmode": "USA-states",
           "locations": [
            "ME",
            "IL",
            "ID",
            "HI",
            "GA",
            "FL",
            "DC",
            "DE",
            "CO",
            "CA",
            "AR",
            "AZ",
            "AK",
            "AL",
            "CT",
            "IN",
            "IA",
            "KS",
            "KY",
            "NY",
            "NM",
            "NJ",
            "NH",
            "NV",
            "NE",
            "NC",
            "MT",
            "MS",
            "MN",
            "MI",
            "MA",
            "MD",
            "LA",
            "MO",
            "ND",
            "OK",
            "WY",
            "WI",
            "WV",
            "WA",
            "VA",
            "VT",
            "OH",
            "UT",
            "TN",
            "SD",
            "SC",
            "RI",
            "PA",
            "OR",
            "TX"
           ],
           "name": "",
           "type": "choropleth",
           "z": [
            13510,
            105293,
            12613,
            10767,
            76887,
            185956,
            4723,
            8260,
            35237,
            245929,
            30467,
            51538,
            4128,
            50215,
            29860,
            60940,
            29190,
            25793,
            44838,
            149944,
            17579,
            71316,
            11516,
            21793,
            15978,
            85367,
            9381,
            30557,
            41445,
            93914,
            55200,
            45867,
            43869,
            58320,
            6184,
            38464,
            4666,
            50291,
            22186,
            52099,
            63598,
            5623,
            114509,
            16719,
            64661,
            7507,
            45454,
            9770,
            128434,
            34151,
            183912
           ]
          }
         ],
         "name": "2014"
        },
        {
         "data": [
          {
           "coloraxis": "coloraxis",
           "geo": "geo",
           "hovertemplate": "<b>%{hovertext}</b><br><br>Year=2015<br>Code=%{location}<br>Deaths=%{z}<extra></extra>",
           "hovertext": [
            "Alabama",
            "Indiana",
            "Illinois",
            "Idaho",
            "Hawaii",
            "Georgia",
            "Florida",
            "District of Columbia",
            "Connecticut",
            "Colorado",
            "California",
            "Arkansas",
            "Arizona",
            "Alaska",
            "Delaware",
            "Iowa",
            "Kansas",
            "Kentucky",
            "Louisiana",
            "New York",
            "New Mexico",
            "New Jersey",
            "New Hampshire",
            "Nevada",
            "Nebraska",
            "North Carolina",
            "Montana",
            "Mississippi",
            "Minnesota",
            "Michigan",
            "Massachusetts",
            "Maryland",
            "Maine",
            "Missouri",
            "North Dakota",
            "Oklahoma",
            "Wyoming",
            "Wisconsin",
            "West Virginia",
            "Washington",
            "Virginia",
            "Vermont",
            "Ohio",
            "Utah",
            "Tennessee",
            "South Dakota",
            "South Carolina",
            "Rhode Island",
            "Pennsylvania",
            "Oregon",
            "Texas"
           ],
           "locationmode": "USA-states",
           "locations": [
            "AL",
            "IN",
            "IL",
            "ID",
            "HI",
            "GA",
            "FL",
            "DC",
            "CT",
            "CO",
            "CA",
            "AR",
            "AZ",
            "AK",
            "DE",
            "IA",
            "KS",
            "KY",
            "LA",
            "NY",
            "NM",
            "NJ",
            "NH",
            "NV",
            "NE",
            "NC",
            "MT",
            "MS",
            "MN",
            "MI",
            "MA",
            "MD",
            "ME",
            "MO",
            "ND",
            "OK",
            "WY",
            "WI",
            "WV",
            "WA",
            "VA",
            "VT",
            "OH",
            "UT",
            "TN",
            "SD",
            "SC",
            "RI",
            "PA",
            "OR",
            "TX"
           ],
           "name": "",
           "type": "choropleth",
           "z": [
            51909,
            62713,
            106872,
            13026,
            11053,
            79942,
            191737,
            4871,
            30535,
            36349,
            259206,
            31617,
            54299,
            4316,
            8582,
            29600,
            26664,
            46564,
            43716,
            153628,
            17685,
            72271,
            11984,
            22879,
            16740,
            89133,
            9942,
            31783,
            42800,
            95140,
            57806,
            47247,
            14479,
            59871,
            6223,
            39422,
            4778,
            51264,
            22752,
            54595,
            65577,
            5919,
            118188,
            17334,
            66570,
            7731,
            47198,
            10163,
            132598,
            35705,
            189654
           ]
          }
         ],
         "name": "2015"
        },
        {
         "data": [
          {
           "coloraxis": "coloraxis",
           "geo": "geo",
           "hovertemplate": "<b>%{hovertext}</b><br><br>Year=2016<br>Code=%{location}<br>Deaths=%{z}<extra></extra>",
           "hovertext": [
            "Maine",
            "Illinois",
            "Idaho",
            "Hawaii",
            "Georgia",
            "Florida",
            "District of Columbia",
            "Delaware",
            "Colorado",
            "California",
            "Arkansas",
            "Arizona",
            "Alaska",
            "Alabama",
            "Connecticut",
            "Indiana",
            "Iowa",
            "Kansas",
            "Kentucky",
            "New York",
            "New Mexico",
            "New Jersey",
            "New Hampshire",
            "Nevada",
            "Nebraska",
            "North Carolina",
            "Montana",
            "Mississippi",
            "Minnesota",
            "Michigan",
            "Massachusetts",
            "Maryland",
            "Louisiana",
            "Missouri",
            "North Dakota",
            "Oklahoma",
            "Wyoming",
            "Wisconsin",
            "West Virginia",
            "Washington",
            "Virginia",
            "Vermont",
            "Ohio",
            "Utah",
            "Tennessee",
            "South Dakota",
            "South Carolina",
            "Rhode Island",
            "Pennsylvania",
            "Oregon",
            "Texas"
           ],
           "locationmode": "USA-states",
           "locations": [
            "ME",
            "IL",
            "ID",
            "HI",
            "GA",
            "FL",
            "DC",
            "DE",
            "CO",
            "CA",
            "AR",
            "AZ",
            "AK",
            "AL",
            "CT",
            "IN",
            "IA",
            "KS",
            "KY",
            "NY",
            "NM",
            "NJ",
            "NH",
            "NV",
            "NE",
            "NC",
            "MT",
            "MS",
            "MN",
            "MI",
            "MA",
            "MD",
            "LA",
            "MO",
            "ND",
            "OK",
            "WY",
            "WI",
            "WV",
            "WA",
            "VA",
            "VT",
            "OH",
            "UT",
            "TN",
            "SD",
            "SC",
            "RI",
            "PA",
            "OR",
            "TX"
           ],
           "name": "",
           "type": "choropleth",
           "z": [
            14182,
            107020,
            13366,
            10913,
            81428,
            197313,
            5037,
            8874,
            37530,
            262240,
            31756,
            56645,
            4494,
            52466,
            30543,
            63473,
            29538,
            26245,
            47827,
            154358,
            18365,
            73155,
            12203,
            23902,
            16217,
            90465,
            9905,
            31741,
            43078,
            96231,
            56961,
            48824,
            44306,
            59873,
            6242,
            39276,
            4722,
            51815,
            22732,
            54769,
            66473,
            5909,
            119572,
            17913,
            67857,
            7845,
            48130,
            9735,
            133040,
            35778,
            191966
           ]
          }
         ],
         "name": "2016"
        },
        {
         "data": [
          {
           "coloraxis": "coloraxis",
           "geo": "geo",
           "hovertemplate": "<b>%{hovertext}</b><br><br>Year=2017<br>Code=%{location}<br>Deaths=%{z}<extra></extra>",
           "hovertext": [
            "Maryland",
            "Alabama",
            "Indiana",
            "Illinois",
            "Idaho",
            "Hawaii",
            "Georgia",
            "Florida",
            "District of Columbia",
            "Connecticut",
            "Colorado",
            "California",
            "Arkansas",
            "Arizona",
            "Alaska",
            "Delaware",
            "Iowa",
            "Kansas",
            "Kentucky",
            "Louisiana",
            "North Carolina",
            "New York",
            "New Mexico",
            "New Jersey",
            "New Hampshire",
            "Nevada",
            "North Dakota",
            "Nebraska",
            "Missouri",
            "Mississippi",
            "Minnesota",
            "Michigan",
            "Massachusetts",
            "Maine",
            "Montana",
            "Ohio",
            "Oregon",
            "Wyoming",
            "Wisconsin",
            "West Virginia",
            "Washington",
            "Virginia",
            "Oklahoma",
            "Vermont",
            "Texas",
            "Tennessee",
            "South Dakota",
            "South Carolina",
            "Rhode Island",
            "Pennsylvania",
            "Utah"
           ],
           "locationmode": "USA-states",
           "locations": [
            "MD",
            "AL",
            "IN",
            "IL",
            "ID",
            "HI",
            "GA",
            "FL",
            "DC",
            "CT",
            "CO",
            "CA",
            "AR",
            "AZ",
            "AK",
            "DE",
            "IA",
            "KS",
            "KY",
            "LA",
            "NC",
            "NY",
            "NM",
            "NJ",
            "NH",
            "NV",
            "ND",
            "NE",
            "MO",
            "MS",
            "MN",
            "MI",
            "MA",
            "ME",
            "MT",
            "OH",
            "OR",
            "WY",
            "WI",
            "WV",
            "WA",
            "VA",
            "OK",
            "VT",
            "TX",
            "TN",
            "SD",
            "SC",
            "RI",
            "PA",
            "UT"
           ],
           "name": "",
           "type": "choropleth",
           "z": [
            49926,
            53238,
            65597,
            109721,
            14011,
            11390,
            83098,
            203636,
            4965,
            31312,
            38063,
            268189,
            32588,
            57758,
            4411,
            9178,
            30530,
            27063,
            48212,
            45804,
            93157,
            155358,
            18673,
            74846,
            12504,
            24657,
            6415,
            16878,
            61876,
            32280,
            44371,
            97602,
            58803,
            14676,
            10200,
            123648,
            36624,
            4768,
            52681,
            23276,
            56995,
            68579,
            40452,
            6007,
            198106,
            70096,
            7996,
            49441,
            10157,
            135656,
            18035
           ]
          }
         ],
         "name": "2017"
        }
       ],
       "layout": {
        "autosize": true,
        "coloraxis": {
         "cmax": 270000,
         "cmin": 2500,
         "colorbar": {
          "title": {
           "text": "Deaths"
          }
         },
         "colorscale": [
          [
           0,
           "rgb(94,79,162)"
          ],
          [
           0.1,
           "rgb(50,136,189)"
          ],
          [
           0.2,
           "rgb(102,194,165)"
          ],
          [
           0.3,
           "rgb(171,221,164)"
          ],
          [
           0.4,
           "rgb(230,245,152)"
          ],
          [
           0.5,
           "rgb(255,255,191)"
          ],
          [
           0.6,
           "rgb(254,224,139)"
          ],
          [
           0.7,
           "rgb(253,174,97)"
          ],
          [
           0.8,
           "rgb(244,109,67)"
          ],
          [
           0.9,
           "rgb(213,62,79)"
          ],
          [
           1,
           "rgb(158,1,66)"
          ]
         ]
        },
        "geo": {
         "center": {
          "lat": 33.9733003447186,
          "lon": -132.17970677756793
         },
         "domain": {
          "x": [
           0,
           1
          ],
          "y": [
           0,
           1
          ]
         },
         "projection": {
          "scale": 0.4562827497612036
         },
         "scope": "usa"
        },
        "legend": {
         "tracegroupgap": 0
        },
        "margin": {
         "b": 0,
         "l": 0,
         "r": 0,
         "t": 0
        },
        "sliders": [
         {
          "active": 0,
          "currentvalue": {
           "prefix": "Year="
          },
          "len": 0.9,
          "pad": {
           "b": 10,
           "t": 60
          },
          "steps": [
           {
            "args": [
             [
              "1999"
             ],
             {
              "frame": {
               "duration": 0,
               "redraw": true
              },
              "fromcurrent": true,
              "mode": "immediate",
              "transition": {
               "duration": 0,
               "easing": "linear"
              }
             }
            ],
            "label": "1999",
            "method": "animate"
           },
           {
            "args": [
             [
              "2000"
             ],
             {
              "frame": {
               "duration": 0,
               "redraw": true
              },
              "fromcurrent": true,
              "mode": "immediate",
              "transition": {
               "duration": 0,
               "easing": "linear"
              }
             }
            ],
            "label": "2000",
            "method": "animate"
           },
           {
            "args": [
             [
              "2001"
             ],
             {
              "frame": {
               "duration": 0,
               "redraw": true
              },
              "fromcurrent": true,
              "mode": "immediate",
              "transition": {
               "duration": 0,
               "easing": "linear"
              }
             }
            ],
            "label": "2001",
            "method": "animate"
           },
           {
            "args": [
             [
              "2002"
             ],
             {
              "frame": {
               "duration": 0,
               "redraw": true
              },
              "fromcurrent": true,
              "mode": "immediate",
              "transition": {
               "duration": 0,
               "easing": "linear"
              }
             }
            ],
            "label": "2002",
            "method": "animate"
           },
           {
            "args": [
             [
              "2003"
             ],
             {
              "frame": {
               "duration": 0,
               "redraw": true
              },
              "fromcurrent": true,
              "mode": "immediate",
              "transition": {
               "duration": 0,
               "easing": "linear"
              }
             }
            ],
            "label": "2003",
            "method": "animate"
           },
           {
            "args": [
             [
              "2004"
             ],
             {
              "frame": {
               "duration": 0,
               "redraw": true
              },
              "fromcurrent": true,
              "mode": "immediate",
              "transition": {
               "duration": 0,
               "easing": "linear"
              }
             }
            ],
            "label": "2004",
            "method": "animate"
           },
           {
            "args": [
             [
              "2005"
             ],
             {
              "frame": {
               "duration": 0,
               "redraw": true
              },
              "fromcurrent": true,
              "mode": "immediate",
              "transition": {
               "duration": 0,
               "easing": "linear"
              }
             }
            ],
            "label": "2005",
            "method": "animate"
           },
           {
            "args": [
             [
              "2006"
             ],
             {
              "frame": {
               "duration": 0,
               "redraw": true
              },
              "fromcurrent": true,
              "mode": "immediate",
              "transition": {
               "duration": 0,
               "easing": "linear"
              }
             }
            ],
            "label": "2006",
            "method": "animate"
           },
           {
            "args": [
             [
              "2007"
             ],
             {
              "frame": {
               "duration": 0,
               "redraw": true
              },
              "fromcurrent": true,
              "mode": "immediate",
              "transition": {
               "duration": 0,
               "easing": "linear"
              }
             }
            ],
            "label": "2007",
            "method": "animate"
           },
           {
            "args": [
             [
              "2008"
             ],
             {
              "frame": {
               "duration": 0,
               "redraw": true
              },
              "fromcurrent": true,
              "mode": "immediate",
              "transition": {
               "duration": 0,
               "easing": "linear"
              }
             }
            ],
            "label": "2008",
            "method": "animate"
           },
           {
            "args": [
             [
              "2009"
             ],
             {
              "frame": {
               "duration": 0,
               "redraw": true
              },
              "fromcurrent": true,
              "mode": "immediate",
              "transition": {
               "duration": 0,
               "easing": "linear"
              }
             }
            ],
            "label": "2009",
            "method": "animate"
           },
           {
            "args": [
             [
              "2010"
             ],
             {
              "frame": {
               "duration": 0,
               "redraw": true
              },
              "fromcurrent": true,
              "mode": "immediate",
              "transition": {
               "duration": 0,
               "easing": "linear"
              }
             }
            ],
            "label": "2010",
            "method": "animate"
           },
           {
            "args": [
             [
              "2011"
             ],
             {
              "frame": {
               "duration": 0,
               "redraw": true
              },
              "fromcurrent": true,
              "mode": "immediate",
              "transition": {
               "duration": 0,
               "easing": "linear"
              }
             }
            ],
            "label": "2011",
            "method": "animate"
           },
           {
            "args": [
             [
              "2012"
             ],
             {
              "frame": {
               "duration": 0,
               "redraw": true
              },
              "fromcurrent": true,
              "mode": "immediate",
              "transition": {
               "duration": 0,
               "easing": "linear"
              }
             }
            ],
            "label": "2012",
            "method": "animate"
           },
           {
            "args": [
             [
              "2013"
             ],
             {
              "frame": {
               "duration": 0,
               "redraw": true
              },
              "fromcurrent": true,
              "mode": "immediate",
              "transition": {
               "duration": 0,
               "easing": "linear"
              }
             }
            ],
            "label": "2013",
            "method": "animate"
           },
           {
            "args": [
             [
              "2014"
             ],
             {
              "frame": {
               "duration": 0,
               "redraw": true
              },
              "fromcurrent": true,
              "mode": "immediate",
              "transition": {
               "duration": 0,
               "easing": "linear"
              }
             }
            ],
            "label": "2014",
            "method": "animate"
           },
           {
            "args": [
             [
              "2015"
             ],
             {
              "frame": {
               "duration": 0,
               "redraw": true
              },
              "fromcurrent": true,
              "mode": "immediate",
              "transition": {
               "duration": 0,
               "easing": "linear"
              }
             }
            ],
            "label": "2015",
            "method": "animate"
           },
           {
            "args": [
             [
              "2016"
             ],
             {
              "frame": {
               "duration": 0,
               "redraw": true
              },
              "fromcurrent": true,
              "mode": "immediate",
              "transition": {
               "duration": 0,
               "easing": "linear"
              }
             }
            ],
            "label": "2016",
            "method": "animate"
           },
           {
            "args": [
             [
              "2017"
             ],
             {
              "frame": {
               "duration": 0,
               "redraw": true
              },
              "fromcurrent": true,
              "mode": "immediate",
              "transition": {
               "duration": 0,
               "easing": "linear"
              }
             }
            ],
            "label": "2017",
            "method": "animate"
           }
          ],
          "x": 0.1,
          "xanchor": "left",
          "y": 0,
          "yanchor": "top"
         }
        ],
        "template": {
         "data": {
          "bar": [
           {
            "error_x": {
             "color": "#2a3f5f"
            },
            "error_y": {
             "color": "#2a3f5f"
            },
            "marker": {
             "line": {
              "color": "#E5ECF6",
              "width": 0.5
             },
             "pattern": {
              "fillmode": "overlay",
              "size": 10,
              "solidity": 0.2
             }
            },
            "type": "bar"
           }
          ],
          "barpolar": [
           {
            "marker": {
             "line": {
              "color": "#E5ECF6",
              "width": 0.5
             },
             "pattern": {
              "fillmode": "overlay",
              "size": 10,
              "solidity": 0.2
             }
            },
            "type": "barpolar"
           }
          ],
          "carpet": [
           {
            "aaxis": {
             "endlinecolor": "#2a3f5f",
             "gridcolor": "white",
             "linecolor": "white",
             "minorgridcolor": "white",
             "startlinecolor": "#2a3f5f"
            },
            "baxis": {
             "endlinecolor": "#2a3f5f",
             "gridcolor": "white",
             "linecolor": "white",
             "minorgridcolor": "white",
             "startlinecolor": "#2a3f5f"
            },
            "type": "carpet"
           }
          ],
          "choropleth": [
           {
            "colorbar": {
             "outlinewidth": 0,
             "ticks": ""
            },
            "type": "choropleth"
           }
          ],
          "contour": [
           {
            "colorbar": {
             "outlinewidth": 0,
             "ticks": ""
            },
            "colorscale": [
             [
              0,
              "#0d0887"
             ],
             [
              0.1111111111111111,
              "#46039f"
             ],
             [
              0.2222222222222222,
              "#7201a8"
             ],
             [
              0.3333333333333333,
              "#9c179e"
             ],
             [
              0.4444444444444444,
              "#bd3786"
             ],
             [
              0.5555555555555556,
              "#d8576b"
             ],
             [
              0.6666666666666666,
              "#ed7953"
             ],
             [
              0.7777777777777778,
              "#fb9f3a"
             ],
             [
              0.8888888888888888,
              "#fdca26"
             ],
             [
              1,
              "#f0f921"
             ]
            ],
            "type": "contour"
           }
          ],
          "contourcarpet": [
           {
            "colorbar": {
             "outlinewidth": 0,
             "ticks": ""
            },
            "type": "contourcarpet"
           }
          ],
          "heatmap": [
           {
            "colorbar": {
             "outlinewidth": 0,
             "ticks": ""
            },
            "colorscale": [
             [
              0,
              "#0d0887"
             ],
             [
              0.1111111111111111,
              "#46039f"
             ],
             [
              0.2222222222222222,
              "#7201a8"
             ],
             [
              0.3333333333333333,
              "#9c179e"
             ],
             [
              0.4444444444444444,
              "#bd3786"
             ],
             [
              0.5555555555555556,
              "#d8576b"
             ],
             [
              0.6666666666666666,
              "#ed7953"
             ],
             [
              0.7777777777777778,
              "#fb9f3a"
             ],
             [
              0.8888888888888888,
              "#fdca26"
             ],
             [
              1,
              "#f0f921"
             ]
            ],
            "type": "heatmap"
           }
          ],
          "heatmapgl": [
           {
            "colorbar": {
             "outlinewidth": 0,
             "ticks": ""
            },
            "colorscale": [
             [
              0,
              "#0d0887"
             ],
             [
              0.1111111111111111,
              "#46039f"
             ],
             [
              0.2222222222222222,
              "#7201a8"
             ],
             [
              0.3333333333333333,
              "#9c179e"
             ],
             [
              0.4444444444444444,
              "#bd3786"
             ],
             [
              0.5555555555555556,
              "#d8576b"
             ],
             [
              0.6666666666666666,
              "#ed7953"
             ],
             [
              0.7777777777777778,
              "#fb9f3a"
             ],
             [
              0.8888888888888888,
              "#fdca26"
             ],
             [
              1,
              "#f0f921"
             ]
            ],
            "type": "heatmapgl"
           }
          ],
          "histogram": [
           {
            "marker": {
             "pattern": {
              "fillmode": "overlay",
              "size": 10,
              "solidity": 0.2
             }
            },
            "type": "histogram"
           }
          ],
          "histogram2d": [
           {
            "colorbar": {
             "outlinewidth": 0,
             "ticks": ""
            },
            "colorscale": [
             [
              0,
              "#0d0887"
             ],
             [
              0.1111111111111111,
              "#46039f"
             ],
             [
              0.2222222222222222,
              "#7201a8"
             ],
             [
              0.3333333333333333,
              "#9c179e"
             ],
             [
              0.4444444444444444,
              "#bd3786"
             ],
             [
              0.5555555555555556,
              "#d8576b"
             ],
             [
              0.6666666666666666,
              "#ed7953"
             ],
             [
              0.7777777777777778,
              "#fb9f3a"
             ],
             [
              0.8888888888888888,
              "#fdca26"
             ],
             [
              1,
              "#f0f921"
             ]
            ],
            "type": "histogram2d"
           }
          ],
          "histogram2dcontour": [
           {
            "colorbar": {
             "outlinewidth": 0,
             "ticks": ""
            },
            "colorscale": [
             [
              0,
              "#0d0887"
             ],
             [
              0.1111111111111111,
              "#46039f"
             ],
             [
              0.2222222222222222,
              "#7201a8"
             ],
             [
              0.3333333333333333,
              "#9c179e"
             ],
             [
              0.4444444444444444,
              "#bd3786"
             ],
             [
              0.5555555555555556,
              "#d8576b"
             ],
             [
              0.6666666666666666,
              "#ed7953"
             ],
             [
              0.7777777777777778,
              "#fb9f3a"
             ],
             [
              0.8888888888888888,
              "#fdca26"
             ],
             [
              1,
              "#f0f921"
             ]
            ],
            "type": "histogram2dcontour"
           }
          ],
          "mesh3d": [
           {
            "colorbar": {
             "outlinewidth": 0,
             "ticks": ""
            },
            "type": "mesh3d"
           }
          ],
          "parcoords": [
           {
            "line": {
             "colorbar": {
              "outlinewidth": 0,
              "ticks": ""
             }
            },
            "type": "parcoords"
           }
          ],
          "pie": [
           {
            "automargin": true,
            "type": "pie"
           }
          ],
          "scatter": [
           {
            "fillpattern": {
             "fillmode": "overlay",
             "size": 10,
             "solidity": 0.2
            },
            "type": "scatter"
           }
          ],
          "scatter3d": [
           {
            "line": {
             "colorbar": {
              "outlinewidth": 0,
              "ticks": ""
             }
            },
            "marker": {
             "colorbar": {
              "outlinewidth": 0,
              "ticks": ""
             }
            },
            "type": "scatter3d"
           }
          ],
          "scattercarpet": [
           {
            "marker": {
             "colorbar": {
              "outlinewidth": 0,
              "ticks": ""
             }
            },
            "type": "scattercarpet"
           }
          ],
          "scattergeo": [
           {
            "marker": {
             "colorbar": {
              "outlinewidth": 0,
              "ticks": ""
             }
            },
            "type": "scattergeo"
           }
          ],
          "scattergl": [
           {
            "marker": {
             "colorbar": {
              "outlinewidth": 0,
              "ticks": ""
             }
            },
            "type": "scattergl"
           }
          ],
          "scattermapbox": [
           {
            "marker": {
             "colorbar": {
              "outlinewidth": 0,
              "ticks": ""
             }
            },
            "type": "scattermapbox"
           }
          ],
          "scatterpolar": [
           {
            "marker": {
             "colorbar": {
              "outlinewidth": 0,
              "ticks": ""
             }
            },
            "type": "scatterpolar"
           }
          ],
          "scatterpolargl": [
           {
            "marker": {
             "colorbar": {
              "outlinewidth": 0,
              "ticks": ""
             }
            },
            "type": "scatterpolargl"
           }
          ],
          "scatterternary": [
           {
            "marker": {
             "colorbar": {
              "outlinewidth": 0,
              "ticks": ""
             }
            },
            "type": "scatterternary"
           }
          ],
          "surface": [
           {
            "colorbar": {
             "outlinewidth": 0,
             "ticks": ""
            },
            "colorscale": [
             [
              0,
              "#0d0887"
             ],
             [
              0.1111111111111111,
              "#46039f"
             ],
             [
              0.2222222222222222,
              "#7201a8"
             ],
             [
              0.3333333333333333,
              "#9c179e"
             ],
             [
              0.4444444444444444,
              "#bd3786"
             ],
             [
              0.5555555555555556,
              "#d8576b"
             ],
             [
              0.6666666666666666,
              "#ed7953"
             ],
             [
              0.7777777777777778,
              "#fb9f3a"
             ],
             [
              0.8888888888888888,
              "#fdca26"
             ],
             [
              1,
              "#f0f921"
             ]
            ],
            "type": "surface"
           }
          ],
          "table": [
           {
            "cells": {
             "fill": {
              "color": "#EBF0F8"
             },
             "line": {
              "color": "white"
             }
            },
            "header": {
             "fill": {
              "color": "#C8D4E3"
             },
             "line": {
              "color": "white"
             }
            },
            "type": "table"
           }
          ]
         },
         "layout": {
          "annotationdefaults": {
           "arrowcolor": "#2a3f5f",
           "arrowhead": 0,
           "arrowwidth": 1
          },
          "autotypenumbers": "strict",
          "coloraxis": {
           "colorbar": {
            "outlinewidth": 0,
            "ticks": ""
           }
          },
          "colorscale": {
           "diverging": [
            [
             0,
             "#8e0152"
            ],
            [
             0.1,
             "#c51b7d"
            ],
            [
             0.2,
             "#de77ae"
            ],
            [
             0.3,
             "#f1b6da"
            ],
            [
             0.4,
             "#fde0ef"
            ],
            [
             0.5,
             "#f7f7f7"
            ],
            [
             0.6,
             "#e6f5d0"
            ],
            [
             0.7,
             "#b8e186"
            ],
            [
             0.8,
             "#7fbc41"
            ],
            [
             0.9,
             "#4d9221"
            ],
            [
             1,
             "#276419"
            ]
           ],
           "sequential": [
            [
             0,
             "#0d0887"
            ],
            [
             0.1111111111111111,
             "#46039f"
            ],
            [
             0.2222222222222222,
             "#7201a8"
            ],
            [
             0.3333333333333333,
             "#9c179e"
            ],
            [
             0.4444444444444444,
             "#bd3786"
            ],
            [
             0.5555555555555556,
             "#d8576b"
            ],
            [
             0.6666666666666666,
             "#ed7953"
            ],
            [
             0.7777777777777778,
             "#fb9f3a"
            ],
            [
             0.8888888888888888,
             "#fdca26"
            ],
            [
             1,
             "#f0f921"
            ]
           ],
           "sequentialminus": [
            [
             0,
             "#0d0887"
            ],
            [
             0.1111111111111111,
             "#46039f"
            ],
            [
             0.2222222222222222,
             "#7201a8"
            ],
            [
             0.3333333333333333,
             "#9c179e"
            ],
            [
             0.4444444444444444,
             "#bd3786"
            ],
            [
             0.5555555555555556,
             "#d8576b"
            ],
            [
             0.6666666666666666,
             "#ed7953"
            ],
            [
             0.7777777777777778,
             "#fb9f3a"
            ],
            [
             0.8888888888888888,
             "#fdca26"
            ],
            [
             1,
             "#f0f921"
            ]
           ]
          },
          "colorway": [
           "#636efa",
           "#EF553B",
           "#00cc96",
           "#ab63fa",
           "#FFA15A",
           "#19d3f3",
           "#FF6692",
           "#B6E880",
           "#FF97FF",
           "#FECB52"
          ],
          "font": {
           "color": "#2a3f5f"
          },
          "geo": {
           "bgcolor": "white",
           "lakecolor": "white",
           "landcolor": "#E5ECF6",
           "showlakes": true,
           "showland": true,
           "subunitcolor": "white"
          },
          "hoverlabel": {
           "align": "left"
          },
          "hovermode": "closest",
          "mapbox": {
           "style": "light"
          },
          "paper_bgcolor": "white",
          "plot_bgcolor": "#E5ECF6",
          "polar": {
           "angularaxis": {
            "gridcolor": "white",
            "linecolor": "white",
            "ticks": ""
           },
           "bgcolor": "#E5ECF6",
           "radialaxis": {
            "gridcolor": "white",
            "linecolor": "white",
            "ticks": ""
           }
          },
          "scene": {
           "xaxis": {
            "backgroundcolor": "#E5ECF6",
            "gridcolor": "white",
            "gridwidth": 2,
            "linecolor": "white",
            "showbackground": true,
            "ticks": "",
            "zerolinecolor": "white"
           },
           "yaxis": {
            "backgroundcolor": "#E5ECF6",
            "gridcolor": "white",
            "gridwidth": 2,
            "linecolor": "white",
            "showbackground": true,
            "ticks": "",
            "zerolinecolor": "white"
           },
           "zaxis": {
            "backgroundcolor": "#E5ECF6",
            "gridcolor": "white",
            "gridwidth": 2,
            "linecolor": "white",
            "showbackground": true,
            "ticks": "",
            "zerolinecolor": "white"
           }
          },
          "shapedefaults": {
           "line": {
            "color": "#2a3f5f"
           }
          },
          "ternary": {
           "aaxis": {
            "gridcolor": "white",
            "linecolor": "white",
            "ticks": ""
           },
           "baxis": {
            "gridcolor": "white",
            "linecolor": "white",
            "ticks": ""
           },
           "bgcolor": "#E5ECF6",
           "caxis": {
            "gridcolor": "white",
            "linecolor": "white",
            "ticks": ""
           }
          },
          "title": {
           "x": 0.05
          },
          "xaxis": {
           "automargin": true,
           "gridcolor": "white",
           "linecolor": "white",
           "ticks": "",
           "title": {
            "standoff": 15
           },
           "zerolinecolor": "white",
           "zerolinewidth": 2
          },
          "yaxis": {
           "automargin": true,
           "gridcolor": "white",
           "linecolor": "white",
           "ticks": "",
           "title": {
            "standoff": 15
           },
           "zerolinecolor": "white",
           "zerolinewidth": 2
          }
         }
        },
        "title": {
         "text": "Number Of Deaths in the USA through 1999 to 2017"
        },
        "updatemenus": [
         {
          "buttons": [
           {
            "args": [
             null,
             {
              "frame": {
               "duration": 500,
               "redraw": true
              },
              "fromcurrent": true,
              "mode": "immediate",
              "transition": {
               "duration": 500,
               "easing": "linear"
              }
             }
            ],
            "label": "&#9654;",
            "method": "animate"
           },
           {
            "args": [
             [
              null
             ],
             {
              "frame": {
               "duration": 0,
               "redraw": true
              },
              "fromcurrent": true,
              "mode": "immediate",
              "transition": {
               "duration": 0,
               "easing": "linear"
              }
             }
            ],
            "label": "&#9724;",
            "method": "animate"
           }
          ],
          "direction": "left",
          "pad": {
           "r": 10,
           "t": 70
          },
          "showactive": false,
          "type": "buttons",
          "x": 0.1,
          "xanchor": "right",
          "y": 0,
          "yanchor": "top"
         }
        ]
       }
      },
      "image/png": "[encoded data removed]",
      "text/html": [
       "<div>                            <div id=\"a6278dd2-f6b0-4d83-8ff0-044b18c0dc31\" class=\"plotly-graph-div\" style=\"height:525px; width:100%;\"></div>            <script type=\"text/javascript\">                require([\"plotly\"], function(Plotly) {                    window.PLOTLYENV=window.PLOTLYENV || {};                                    if (document.getElementById(\"a6278dd2-f6b0-4d83-8ff0-044b18c0dc31\")) {                    Plotly.newPlot(                        \"a6278dd2-f6b0-4d83-8ff0-044b18c0dc31\",                        [{\"coloraxis\":\"coloraxis\",\"geo\":\"geo\",\"hovertemplate\":\"\\u003cb\\u003e%{hovertext}\\u003c\\u002fb\\u003e\\u003cbr\\u003e\\u003cbr\\u003eYear=1999\\u003cbr\\u003eCode=%{location}\\u003cbr\\u003eDeaths=%{z}\\u003cextra\\u003e\\u003c\\u002fextra\\u003e\",\"hovertext\":[\"Illinois\",\"Idaho\",\"Hawaii\",\"Georgia\",\"Florida\",\"District of Columbia\",\"Delaware\",\"Colorado\",\"California\",\"Arkansas\",\"Arizona\",\"Alaska\",\"Alabama\",\"Connecticut\",\"Indiana\",\"Montana\",\"Iowa\",\"Kansas\",\"Kentucky\",\"New York\",\"New Mexico\",\"New Jersey\",\"New Hampshire\",\"Nevada\",\"Nebraska\",\"North Carolina\",\"Missouri\",\"Minnesota\",\"Michigan\",\"Massachusetts\",\"Maryland\",\"Maine\",\"Louisiana\",\"Mississippi\",\"North Dakota\",\"Oklahoma\",\"Wyoming\",\"Wisconsin\",\"West Virginia\",\"Washington\",\"Virginia\",\"Vermont\",\"Ohio\",\"Utah\",\"Tennessee\",\"South Dakota\",\"South Carolina\",\"Rhode Island\",\"Pennsylvania\",\"Oregon\",\"Texas\"],\"locationmode\":\"USA-states\",\"locations\":[\"IL\",\"ID\",\"HI\",\"GA\",\"FL\",\"DC\",\"DE\",\"CO\",\"CA\",\"AR\",\"AZ\",\"AK\",\"AL\",\"CT\",\"IN\",\"MT\",\"IA\",\"KS\",\"KY\",\"NY\",\"NM\",\"NJ\",\"NH\",\"NV\",\"NE\",\"NC\",\"MO\",\"MN\",\"MI\",\"MA\",\"MD\",\"ME\",\"LA\",\"MS\",\"ND\",\"OK\",\"WY\",\"WI\",\"WV\",\"WA\",\"VA\",\"VT\",\"OH\",\"UT\",\"TN\",\"SD\",\"SC\",\"RI\",\"PA\",\"OR\",\"TX\"],\"name\":\"\",\"z\":[108436,9579,8270,62028,163224,6076,6666,27114,229380,27925,40050,2708,44806,29446,55303,8128,28411,24472,39321,159927,13676,73981,9537,15082,15579,69600,55931,38537,87232,55840,43089,12261,41238,28185,6103,34700,4042,46672,21049,43865,55320,4993,108517,12058,53765,6953,36053,9708,130283,29422,146858],\"type\":\"choropleth\"}],                        {\"template\":{\"data\":{\"histogram2dcontour\":[{\"type\":\"histogram2dcontour\",\"colorbar\":{\"outlinewidth\":0,\"ticks\":\"\"},\"colorscale\":[[0.0,\"#0d0887\"],[0.1111111111111111,\"#46039f\"],[0.2222222222222222,\"#7201a8\"],[0.3333333333333333,\"#9c179e\"],[0.4444444444444444,\"#bd3786\"],[0.5555555555555556,\"#d8576b\"],[0.6666666666666666,\"#ed7953\"],[0.7777777777777778,\"#fb9f3a\"],[0.8888888888888888,\"#fdca26\"],[1.0,\"#f0f921\"]]}],\"choropleth\":[{\"type\":\"choropleth\",\"colorbar\":{\"outlinewidth\":0,\"ticks\":\"\"}}],\"histogram2d\":[{\"type\":\"histogram2d\",\"colorbar\":{\"outlinewidth\":0,\"ticks\":\"\"},\"colorscale\":[[0.0,\"#0d0887\"],[0.1111111111111111,\"#46039f\"],[0.2222222222222222,\"#7201a8\"],[0.3333333333333333,\"#9c179e\"],[0.4444444444444444,\"#bd3786\"],[0.5555555555555556,\"#d8576b\"],[0.6666666666666666,\"#ed7953\"],[0.7777777777777778,\"#fb9f3a\"],[0.8888888888888888,\"#fdca26\"],[1.0,\"#f0f921\"]]}],\"heatmap\":[{\"type\":\"heatmap\",\"colorbar\":{\"outlinewidth\":0,\"ticks\":\"\"},\"colorscale\":[[0.0,\"#0d0887\"],[0.1111111111111111,\"#46039f\"],[0.2222222222222222,\"#7201a8\"],[0.3333333333333333,\"#9c179e\"],[0.4444444444444444,\"#bd3786\"],[0.5555555555555556,\"#d8576b\"],[0.6666666666666666,\"#ed7953\"],[0.7777777777777778,\"#fb9f3a\"],[0.8888888888888888,\"#fdca26\"],[1.0,\"#f0f921\"]]}],\"heatmapgl\":[{\"type\":\"heatmapgl\",\"colorbar\":{\"outlinewidth\":0,\"ticks\":\"\"},\"colorscale\":[[0.0,\"#0d0887\"],[0.1111111111111111,\"#46039f\"],[0.2222222222222222,\"#7201a8\"],[0.3333333333333333,\"#9c179e\"],[0.4444444444444444,\"#bd3786\"],[0.5555555555555556,\"#d8576b\"],[0.6666666666666666,\"#ed7953\"],[0.7777777777777778,\"#fb9f3a\"],[0.8888888888888888,\"#fdca26\"],[1.0,\"#f0f921\"]]}],\"contourcarpet\":[{\"type\":\"contourcarpet\",\"colorbar\":{\"outlinewidth\":0,\"ticks\":\"\"}}],\"contour\":[{\"type\":\"contour\",\"colorbar\":{\"outlinewidth\":0,\"ticks\":\"\"},\"colorscale\":[[0.0,\"#0d0887\"],[0.1111111111111111,\"#46039f\"],[0.2222222222222222,\"#7201a8\"],[0.3333333333333333,\"#9c179e\"],[0.4444444444444444,\"#bd3786\"],[0.5555555555555556,\"#d8576b\"],[0.6666666666666666,\"#ed7953\"],[0.7777777777777778,\"#fb9f3a\"],[0.8888888888888888,\"#fdca26\"],[1.0,\"#f0f921\"]]}],\"surface\":[{\"type\":\"surface\",\"colorbar\":{\"outlinewidth\":0,\"ticks\":\"\"},\"colorscale\":[[0.0,\"#0d0887\"],[0.1111111111111111,\"#46039f\"],[0.2222222222222222,\"#7201a8\"],[0.3333333333333333,\"#9c179e\"],[0.4444444444444444,\"#bd3786\"],[0.5555555555555556,\"#d8576b\"],[0.6666666666666666,\"#ed7953\"],[0.7777777777777778,\"#fb9f3a\"],[0.8888888888888888,\"#fdca26\"],[1.0,\"#f0f921\"]]}],\"mesh3d\":[{\"type\":\"mesh3d\",\"colorbar\":{\"outlinewidth\":0,\"ticks\":\"\"}}],\"scatter\":[{\"fillpattern\":{\"fillmode\":\"overlay\",\"size\":10,\"solidity\":0.2},\"type\":\"scatter\"}],\"parcoords\":[{\"type\":\"parcoords\",\"line\":{\"colorbar\":{\"outlinewidth\":0,\"ticks\":\"\"}}}],\"scatterpolargl\":[{\"type\":\"scatterpolargl\",\"marker\":{\"colorbar\":{\"outlinewidth\":0,\"ticks\":\"\"}}}],\"bar\":[{\"error_x\":{\"color\":\"#2a3f5f\"},\"error_y\":{\"color\":\"#2a3f5f\"},\"marker\":{\"line\":{\"color\":\"#E5ECF6\",\"width\":0.5},\"pattern\":{\"fillmode\":\"overlay\",\"size\":10,\"solidity\":0.2}},\"type\":\"bar\"}],\"scattergeo\":[{\"type\":\"scattergeo\",\"marker\":{\"colorbar\":{\"outlinewidth\":0,\"ticks\":\"\"}}}],\"scatterpolar\":[{\"type\":\"scatterpolar\",\"marker\":{\"colorbar\":{\"outlinewidth\":0,\"ticks\":\"\"}}}],\"histogram\":[{\"marker\":{\"pattern\":{\"fillmode\":\"overlay\",\"size\":10,\"solidity\":0.2}},\"type\":\"histogram\"}],\"scattergl\":[{\"type\":\"scattergl\",\"marker\":{\"colorbar\":{\"outlinewidth\":0,\"ticks\":\"\"}}}],\"scatter3d\":[{\"type\":\"scatter3d\",\"line\":{\"colorbar\":{\"outlinewidth\":0,\"ticks\":\"\"}},\"marker\":{\"colorbar\":{\"outlinewidth\":0,\"ticks\":\"\"}}}],\"scattermapbox\":[{\"type\":\"scattermapbox\",\"marker\":{\"colorbar\":{\"outlinewidth\":0,\"ticks\":\"\"}}}],\"scatterternary\":[{\"type\":\"scatterternary\",\"marker\":{\"colorbar\":{\"outlinewidth\":0,\"ticks\":\"\"}}}],\"scattercarpet\":[{\"type\":\"scattercarpet\",\"marker\":{\"colorbar\":{\"outlinewidth\":0,\"ticks\":\"\"}}}],\"carpet\":[{\"aaxis\":{\"endlinecolor\":\"#2a3f5f\",\"gridcolor\":\"white\",\"linecolor\":\"white\",\"minorgridcolor\":\"white\",\"startlinecolor\":\"#2a3f5f\"},\"baxis\":{\"endlinecolor\":\"#2a3f5f\",\"gridcolor\":\"white\",\"linecolor\":\"white\",\"minorgridcolor\":\"white\",\"startlinecolor\":\"#2a3f5f\"},\"type\":\"carpet\"}],\"table\":[{\"cells\":{\"fill\":{\"color\":\"#EBF0F8\"},\"line\":{\"color\":\"white\"}},\"header\":{\"fill\":{\"color\":\"#C8D4E3\"},\"line\":{\"color\":\"white\"}},\"type\":\"table\"}],\"barpolar\":[{\"marker\":{\"line\":{\"color\":\"#E5ECF6\",\"width\":0.5},\"pattern\":{\"fillmode\":\"overlay\",\"size\":10,\"solidity\":0.2}},\"type\":\"barpolar\"}],\"pie\":[{\"automargin\":true,\"type\":\"pie\"}]},\"layout\":{\"autotypenumbers\":\"strict\",\"colorway\":[\"#636efa\",\"#EF553B\",\"#00cc96\",\"#ab63fa\",\"#FFA15A\",\"#19d3f3\",\"#FF6692\",\"#B6E880\",\"#FF97FF\",\"#FECB52\"],\"font\":{\"color\":\"#2a3f5f\"},\"hovermode\":\"closest\",\"hoverlabel\":{\"align\":\"left\"},\"paper_bgcolor\":\"white\",\"plot_bgcolor\":\"#E5ECF6\",\"polar\":{\"bgcolor\":\"#E5ECF6\",\"angularaxis\":{\"gridcolor\":\"white\",\"linecolor\":\"white\",\"ticks\":\"\"},\"radialaxis\":{\"gridcolor\":\"white\",\"linecolor\":\"white\",\"ticks\":\"\"}},\"ternary\":{\"bgcolor\":\"#E5ECF6\",\"aaxis\":{\"gridcolor\":\"white\",\"linecolor\":\"white\",\"ticks\":\"\"},\"baxis\":{\"gridcolor\":\"white\",\"linecolor\":\"white\",\"ticks\":\"\"},\"caxis\":{\"gridcolor\":\"white\",\"linecolor\":\"white\",\"ticks\":\"\"}},\"coloraxis\":{\"colorbar\":{\"outlinewidth\":0,\"ticks\":\"\"}},\"colorscale\":{\"sequential\":[[0.0,\"#0d0887\"],[0.1111111111111111,\"#46039f\"],[0.2222222222222222,\"#7201a8\"],[0.3333333333333333,\"#9c179e\"],[0.4444444444444444,\"#bd3786\"],[0.5555555555555556,\"#d8576b\"],[0.6666666666666666,\"#ed7953\"],[0.7777777777777778,\"#fb9f3a\"],[0.8888888888888888,\"#fdca26\"],[1.0,\"#f0f921\"]],\"sequentialminus\":[[0.0,\"#0d0887\"],[0.1111111111111111,\"#46039f\"],[0.2222222222222222,\"#7201a8\"],[0.3333333333333333,\"#9c179e\"],[0.4444444444444444,\"#bd3786\"],[0.5555555555555556,\"#d8576b\"],[0.6666666666666666,\"#ed7953\"],[0.7777777777777778,\"#fb9f3a\"],[0.8888888888888888,\"#fdca26\"],[1.0,\"#f0f921\"]],\"diverging\":[[0,\"#8e0152\"],[0.1,\"#c51b7d\"],[0.2,\"#de77ae\"],[0.3,\"#f1b6da\"],[0.4,\"#fde0ef\"],[0.5,\"#f7f7f7\"],[0.6,\"#e6f5d0\"],[0.7,\"#b8e186\"],[0.8,\"#7fbc41\"],[0.9,\"#4d9221\"],[1,\"#276419\"]]},\"xaxis\":{\"gridcolor\":\"white\",\"linecolor\":\"white\",\"ticks\":\"\",\"title\":{\"standoff\":15},\"zerolinecolor\":\"white\",\"automargin\":true,\"zerolinewidth\":2},\"yaxis\":{\"gridcolor\":\"white\",\"linecolor\":\"white\",\"ticks\":\"\",\"title\":{\"standoff\":15},\"zerolinecolor\":\"white\",\"automargin\":true,\"zerolinewidth\":2},\"scene\":{\"xaxis\":{\"backgroundcolor\":\"#E5ECF6\",\"gridcolor\":\"white\",\"linecolor\":\"white\",\"showbackground\":true,\"ticks\":\"\",\"zerolinecolor\":\"white\",\"gridwidth\":2},\"yaxis\":{\"backgroundcolor\":\"#E5ECF6\",\"gridcolor\":\"white\",\"linecolor\":\"white\",\"showbackground\":true,\"ticks\":\"\",\"zerolinecolor\":\"white\",\"gridwidth\":2},\"zaxis\":{\"backgroundcolor\":\"#E5ECF6\",\"gridcolor\":\"white\",\"linecolor\":\"white\",\"showbackground\":true,\"ticks\":\"\",\"zerolinecolor\":\"white\",\"gridwidth\":2}},\"shapedefaults\":{\"line\":{\"color\":\"#2a3f5f\"}},\"annotationdefaults\":{\"arrowcolor\":\"#2a3f5f\",\"arrowhead\":0,\"arrowwidth\":1},\"geo\":{\"bgcolor\":\"white\",\"landcolor\":\"#E5ECF6\",\"subunitcolor\":\"white\",\"showland\":true,\"showlakes\":true,\"lakecolor\":\"white\"},\"title\":{\"x\":0.05},\"mapbox\":{\"style\":\"light\"}}},\"geo\":{\"domain\":{\"x\":[0.0,1.0],\"y\":[0.0,1.0]},\"center\":{},\"scope\":\"usa\"},\"coloraxis\":{\"colorbar\":{\"title\":{\"text\":\"Deaths\"}},\"colorscale\":[[0.0,\"rgb(94,79,162)\"],[0.1,\"rgb(50,136,189)\"],[0.2,\"rgb(102,194,165)\"],[0.3,\"rgb(171,221,164)\"],[0.4,\"rgb(230,245,152)\"],[0.5,\"rgb(255,255,191)\"],[0.6,\"rgb(254,224,139)\"],[0.7,\"rgb(253,174,97)\"],[0.8,\"rgb(244,109,67)\"],[0.9,\"rgb(213,62,79)\"],[1.0,\"rgb(158,1,66)\"]],\"cmin\":2500,\"cmax\":270000},\"legend\":{\"tracegroupgap\":0},\"title\":{\"text\":\"Number Of Deaths in the USA through 1999 to 2017\"},\"updatemenus\":[{\"buttons\":[{\"args\":[null,{\"frame\":{\"duration\":500,\"redraw\":true},\"mode\":\"immediate\",\"fromcurrent\":true,\"transition\":{\"duration\":500,\"easing\":\"linear\"}}],\"label\":\"&#9654;\",\"method\":\"animate\"},{\"args\":[[null],{\"frame\":{\"duration\":0,\"redraw\":true},\"mode\":\"immediate\",\"fromcurrent\":true,\"transition\":{\"duration\":0,\"easing\":\"linear\"}}],\"label\":\"&#9724;\",\"method\":\"animate\"}],\"direction\":\"left\",\"pad\":{\"r\":10,\"t\":70},\"showactive\":false,\"type\":\"buttons\",\"x\":0.1,\"xanchor\":\"right\",\"y\":0,\"yanchor\":\"top\"}],\"sliders\":[{\"active\":0,\"currentvalue\":{\"prefix\":\"Year=\"},\"len\":0.9,\"pad\":{\"b\":10,\"t\":60},\"steps\":[{\"args\":[[\"1999\"],{\"frame\":{\"duration\":0,\"redraw\":true},\"mode\":\"immediate\",\"fromcurrent\":true,\"transition\":{\"duration\":0,\"easing\":\"linear\"}}],\"label\":\"1999\",\"method\":\"animate\"},{\"args\":[[\"2000\"],{\"frame\":{\"duration\":0,\"redraw\":true},\"mode\":\"immediate\",\"fromcurrent\":true,\"transition\":{\"duration\":0,\"easing\":\"linear\"}}],\"label\":\"2000\",\"method\":\"animate\"},{\"args\":[[\"2001\"],{\"frame\":{\"duration\":0,\"redraw\":true},\"mode\":\"immediate\",\"fromcurrent\":true,\"transition\":{\"duration\":0,\"easing\":\"linear\"}}],\"label\":\"2001\",\"method\":\"animate\"},{\"args\":[[\"2002\"],{\"frame\":{\"duration\":0,\"redraw\":true},\"mode\":\"immediate\",\"fromcurrent\":true,\"transition\":{\"duration\":0,\"easing\":\"linear\"}}],\"label\":\"2002\",\"method\":\"animate\"},{\"args\":[[\"2003\"],{\"frame\":{\"duration\":0,\"redraw\":true},\"mode\":\"immediate\",\"fromcurrent\":true,\"transition\":{\"duration\":0,\"easing\":\"linear\"}}],\"label\":\"2003\",\"method\":\"animate\"},{\"args\":[[\"2004\"],{\"frame\":{\"duration\":0,\"redraw\":true},\"mode\":\"immediate\",\"fromcurrent\":true,\"transition\":{\"duration\":0,\"easing\":\"linear\"}}],\"label\":\"2004\",\"method\":\"animate\"},{\"args\":[[\"2005\"],{\"frame\":{\"duration\":0,\"redraw\":true},\"mode\":\"immediate\",\"fromcurrent\":true,\"transition\":{\"duration\":0,\"easing\":\"linear\"}}],\"label\":\"2005\",\"method\":\"animate\"},{\"args\":[[\"2006\"],{\"frame\":{\"duration\":0,\"redraw\":true},\"mode\":\"immediate\",\"fromcurrent\":true,\"transition\":{\"duration\":0,\"easing\":\"linear\"}}],\"label\":\"2006\",\"method\":\"animate\"},{\"args\":[[\"2007\"],{\"frame\":{\"duration\":0,\"redraw\":true},\"mode\":\"immediate\",\"fromcurrent\":true,\"transition\":{\"duration\":0,\"easing\":\"linear\"}}],\"label\":\"2007\",\"method\":\"animate\"},{\"args\":[[\"2008\"],{\"frame\":{\"duration\":0,\"redraw\":true},\"mode\":\"immediate\",\"fromcurrent\":true,\"transition\":{\"duration\":0,\"easing\":\"linear\"}}],\"label\":\"2008\",\"method\":\"animate\"},{\"args\":[[\"2009\"],{\"frame\":{\"duration\":0,\"redraw\":true},\"mode\":\"immediate\",\"fromcurrent\":true,\"transition\":{\"duration\":0,\"easing\":\"linear\"}}],\"label\":\"2009\",\"method\":\"animate\"},{\"args\":[[\"2010\"],{\"frame\":{\"duration\":0,\"redraw\":true},\"mode\":\"immediate\",\"fromcurrent\":true,\"transition\":{\"duration\":0,\"easing\":\"linear\"}}],\"label\":\"2010\",\"method\":\"animate\"},{\"args\":[[\"2011\"],{\"frame\":{\"duration\":0,\"redraw\":true},\"mode\":\"immediate\",\"fromcurrent\":true,\"transition\":{\"duration\":0,\"easing\":\"linear\"}}],\"label\":\"2011\",\"method\":\"animate\"},{\"args\":[[\"2012\"],{\"frame\":{\"duration\":0,\"redraw\":true},\"mode\":\"immediate\",\"fromcurrent\":true,\"transition\":{\"duration\":0,\"easing\":\"linear\"}}],\"label\":\"2012\",\"method\":\"animate\"},{\"args\":[[\"2013\"],{\"frame\":{\"duration\":0,\"redraw\":true},\"mode\":\"immediate\",\"fromcurrent\":true,\"transition\":{\"duration\":0,\"easing\":\"linear\"}}],\"label\":\"2013\",\"method\":\"animate\"},{\"args\":[[\"2014\"],{\"frame\":{\"duration\":0,\"redraw\":true},\"mode\":\"immediate\",\"fromcurrent\":true,\"transition\":{\"duration\":0,\"easing\":\"linear\"}}],\"label\":\"2014\",\"method\":\"animate\"},{\"args\":[[\"2015\"],{\"frame\":{\"duration\":0,\"redraw\":true},\"mode\":\"immediate\",\"fromcurrent\":true,\"transition\":{\"duration\":0,\"easing\":\"linear\"}}],\"label\":\"2015\",\"method\":\"animate\"},{\"args\":[[\"2016\"],{\"frame\":{\"duration\":0,\"redraw\":true},\"mode\":\"immediate\",\"fromcurrent\":true,\"transition\":{\"duration\":0,\"easing\":\"linear\"}}],\"label\":\"2016\",\"method\":\"animate\"},{\"args\":[[\"2017\"],{\"frame\":{\"duration\":0,\"redraw\":true},\"mode\":\"immediate\",\"fromcurrent\":true,\"transition\":{\"duration\":0,\"easing\":\"linear\"}}],\"label\":\"2017\",\"method\":\"animate\"}],\"x\":0.1,\"xanchor\":\"left\",\"y\":0,\"yanchor\":\"top\"}],\"margin\":{\"r\":0,\"t\":0,\"l\":0,\"b\":0}},                        {\"responsive\": true}                    ).then(function(){\n",
       "                            Plotly.addFrames('a6278dd2-f6b0-4d83-8ff0-044b18c0dc31', [{\"data\":[{\"coloraxis\":\"coloraxis\",\"geo\":\"geo\",\"hovertemplate\":\"\\u003cb\\u003e%{hovertext}\\u003c\\u002fb\\u003e\\u003cbr\\u003e\\u003cbr\\u003eYear=1999\\u003cbr\\u003eCode=%{location}\\u003cbr\\u003eDeaths=%{z}\\u003cextra\\u003e\\u003c\\u002fextra\\u003e\",\"hovertext\":[\"Illinois\",\"Idaho\",\"Hawaii\",\"Georgia\",\"Florida\",\"District of Columbia\",\"Delaware\",\"Colorado\",\"California\",\"Arkansas\",\"Arizona\",\"Alaska\",\"Alabama\",\"Connecticut\",\"Indiana\",\"Montana\",\"Iowa\",\"Kansas\",\"Kentucky\",\"New York\",\"New Mexico\",\"New Jersey\",\"New Hampshire\",\"Nevada\",\"Nebraska\",\"North Carolina\",\"Missouri\",\"Minnesota\",\"Michigan\",\"Massachusetts\",\"Maryland\",\"Maine\",\"Louisiana\",\"Mississippi\",\"North Dakota\",\"Oklahoma\",\"Wyoming\",\"Wisconsin\",\"West Virginia\",\"Washington\",\"Virginia\",\"Vermont\",\"Ohio\",\"Utah\",\"Tennessee\",\"South Dakota\",\"South Carolina\",\"Rhode Island\",\"Pennsylvania\",\"Oregon\",\"Texas\"],\"locationmode\":\"USA-states\",\"locations\":[\"IL\",\"ID\",\"HI\",\"GA\",\"FL\",\"DC\",\"DE\",\"CO\",\"CA\",\"AR\",\"AZ\",\"AK\",\"AL\",\"CT\",\"IN\",\"MT\",\"IA\",\"KS\",\"KY\",\"NY\",\"NM\",\"NJ\",\"NH\",\"NV\",\"NE\",\"NC\",\"MO\",\"MN\",\"MI\",\"MA\",\"MD\",\"ME\",\"LA\",\"MS\",\"ND\",\"OK\",\"WY\",\"WI\",\"WV\",\"WA\",\"VA\",\"VT\",\"OH\",\"UT\",\"TN\",\"SD\",\"SC\",\"RI\",\"PA\",\"OR\",\"TX\"],\"name\":\"\",\"z\":[108436,9579,8270,62028,163224,6076,6666,27114,229380,27925,40050,2708,44806,29446,55303,8128,28411,24472,39321,159927,13676,73981,9537,15082,15579,69600,55931,38537,87232,55840,43089,12261,41238,28185,6103,34700,4042,46672,21049,43865,55320,4993,108517,12058,53765,6953,36053,9708,130283,29422,146858],\"type\":\"choropleth\"}],\"name\":\"1999\"},{\"data\":[{\"coloraxis\":\"coloraxis\",\"geo\":\"geo\",\"hovertemplate\":\"\\u003cb\\u003e%{hovertext}\\u003c\\u002fb\\u003e\\u003cbr\\u003e\\u003cbr\\u003eYear=2000\\u003cbr\\u003eCode=%{location}\\u003cbr\\u003eDeaths=%{z}\\u003cextra\\u003e\\u003c\\u002fextra\\u003e\",\"hovertext\":[\"Kentucky\",\"Idaho\",\"Hawaii\",\"Georgia\",\"Florida\",\"District of Columbia\",\"Delaware\",\"Connecticut\",\"California\",\"Arkansas\",\"Arizona\",\"Alaska\",\"Alabama\",\"Colorado\",\"Illinois\",\"Montana\",\"Nebraska\",\"Indiana\",\"Iowa\",\"Kansas\",\"North Carolina\",\"New York\",\"New Mexico\",\"New Jersey\",\"New Hampshire\",\"Nevada\",\"North Dakota\",\"Missouri\",\"Minnesota\",\"Michigan\",\"Massachusetts\",\"Maryland\",\"Maine\",\"Louisiana\",\"Mississippi\",\"Ohio\",\"Oregon\",\"Wyoming\",\"Wisconsin\",\"West Virginia\",\"Washington\",\"Virginia\",\"Oklahoma\",\"Vermont\",\"Texas\",\"Tennessee\",\"South Dakota\",\"South Carolina\",\"Rhode Island\",\"Pennsylvania\",\"Utah\"],\"locationmode\":\"USA-states\",\"locations\":[\"KY\",\"ID\",\"HI\",\"GA\",\"FL\",\"DC\",\"DE\",\"CT\",\"CA\",\"AR\",\"AZ\",\"AK\",\"AL\",\"CO\",\"IL\",\"MT\",\"NE\",\"IN\",\"IA\",\"KS\",\"NC\",\"NY\",\"NM\",\"NJ\",\"NH\",\"NV\",\"ND\",\"MO\",\"MN\",\"MI\",\"MA\",\"MD\",\"ME\",\"LA\",\"MS\",\"OH\",\"OR\",\"WY\",\"WI\",\"WV\",\"WA\",\"VA\",\"OK\",\"VT\",\"TX\",\"TN\",\"SD\",\"SC\",\"RI\",\"PA\",\"UT\"],\"name\":\"\",\"z\":[39504,9563,8290,63870,164395,6001,6875,30129,229551,28217,40500,2914,45062,27288,106634,8096,14992,55469,28060,24717,71935,158203,13425,74800,9697,15261,5856,54865,37690,86953,56681,43753,12354,41138,28654,108125,29552,3920,46461,21114,43941,56282,35079,5127,149939,55246,7021,36948,10027,130813,12364],\"type\":\"choropleth\"}],\"name\":\"2000\"},{\"data\":[{\"coloraxis\":\"coloraxis\",\"geo\":\"geo\",\"hovertemplate\":\"\\u003cb\\u003e%{hovertext}\\u003c\\u002fb\\u003e\\u003cbr\\u003e\\u003cbr\\u003eYear=2001\\u003cbr\\u003eCode=%{location}\\u003cbr\\u003eDeaths=%{z}\\u003cextra\\u003e\\u003c\\u002fextra\\u003e\",\"hovertext\":[\"Illinois\",\"Idaho\",\"Hawaii\",\"Georgia\",\"Florida\",\"District of Columbia\",\"Delaware\",\"Colorado\",\"California\",\"Arkansas\",\"Arizona\",\"Alaska\",\"Alabama\",\"Connecticut\",\"Indiana\",\"New Hampshire\",\"Iowa\",\"Kansas\",\"Kentucky\",\"New York\",\"New Mexico\",\"New Jersey\",\"Nevada\",\"Nebraska\",\"Montana\",\"North Carolina\",\"Missouri\",\"Minnesota\",\"Michigan\",\"Massachusetts\",\"Maryland\",\"Maine\",\"Louisiana\",\"Mississippi\",\"North Dakota\",\"Oklahoma\",\"Wyoming\",\"Wisconsin\",\"West Virginia\",\"Washington\",\"Virginia\",\"Vermont\",\"Ohio\",\"Utah\",\"Tennessee\",\"South Dakota\",\"South Carolina\",\"Rhode Island\",\"Pennsylvania\",\"Oregon\",\"Texas\"],\"locationmode\":\"USA-states\",\"locations\":[\"IL\",\"ID\",\"HI\",\"GA\",\"FL\",\"DC\",\"DE\",\"CO\",\"CA\",\"AR\",\"AZ\",\"AK\",\"AL\",\"CT\",\"IN\",\"NH\",\"IA\",\"KS\",\"KY\",\"NY\",\"NM\",\"NJ\",\"NV\",\"NE\",\"MT\",\"NC\",\"MO\",\"MN\",\"MI\",\"MA\",\"MD\",\"ME\",\"LA\",\"MS\",\"ND\",\"OK\",\"WY\",\"WI\",\"WV\",\"WA\",\"VA\",\"VT\",\"OH\",\"UT\",\"TN\",\"SD\",\"SC\",\"RI\",\"PA\",\"OR\",\"TX\"],\"name\":\"\",\"z\":[105430,9753,8394,64485,167269,5951,7112,28294,234044,27759,41058,2974,45316,29827,55198,9815,27791,24647,39861,159240,14129,74710,16285,15174,8265,70934,54982,37735,86424,56754,43839,12421,41757,28259,6048,34682,4029,46628,20967,44642,56280,5201,108027,12662,55151,6923,36612,10021,129729,30158,152779],\"type\":\"choropleth\"}],\"name\":\"2001\"},{\"data\":[{\"coloraxis\":\"coloraxis\",\"geo\":\"geo\",\"hovertemplate\":\"\\u003cb\\u003e%{hovertext}\\u003c\\u002fb\\u003e\\u003cbr\\u003e\\u003cbr\\u003eYear=2002\\u003cbr\\u003eCode=%{location}\\u003cbr\\u003eDeaths=%{z}\\u003cextra\\u003e\\u003c\\u002fextra\\u003e\",\"hovertext\":[\"Alabama\",\"Indiana\",\"Illinois\",\"Idaho\",\"Hawaii\",\"Georgia\",\"Florida\",\"District of Columbia\",\"Connecticut\",\"Colorado\",\"California\",\"Arkansas\",\"Arizona\",\"Alaska\",\"Delaware\",\"Iowa\",\"New York\",\"Kansas\",\"Louisiana\",\"North Carolina\",\"New Mexico\",\"New Jersey\",\"New Hampshire\",\"Nevada\",\"Nebraska\",\"North Dakota\",\"Montana\",\"Mississippi\",\"Minnesota\",\"Michigan\",\"Massachusetts\",\"Maryland\",\"Missouri\",\"Kentucky\",\"Ohio\",\"Oregon\",\"Wyoming\",\"Wisconsin\",\"West Virginia\",\"Washington\",\"Virginia\",\"Oklahoma\",\"Vermont\",\"Texas\",\"Tennessee\",\"South Dakota\",\"South Carolina\",\"Rhode Island\",\"Pennsylvania\",\"Utah\",\"Maine\"],\"locationmode\":\"USA-states\",\"locations\":[\"AL\",\"IN\",\"IL\",\"ID\",\"HI\",\"GA\",\"FL\",\"DC\",\"CT\",\"CO\",\"CA\",\"AR\",\"AZ\",\"AK\",\"DE\",\"IA\",\"NY\",\"KS\",\"LA\",\"NC\",\"NM\",\"NJ\",\"NH\",\"NV\",\"NE\",\"ND\",\"MT\",\"MS\",\"MN\",\"MI\",\"MA\",\"MD\",\"MO\",\"KY\",\"OH\",\"OR\",\"WY\",\"WI\",\"WV\",\"WA\",\"VA\",\"OK\",\"VT\",\"TX\",\"TN\",\"SD\",\"SC\",\"RI\",\"PA\",\"UT\",\"ME\"],\"name\":\"\",\"z\":[46069,55396,106667,9923,8801,65449,167814,5851,30122,29210,234565,28513,42816,3030,6861,27978,158118,25021,41984,72027,14344,74009,9853,16927,15738,5892,8506,28853,38510,87795,56928,43970,55940,40697,109766,31119,4174,46981,21016,45338,57196,35502,5075,155524,56606,6898,37736,10246,130223,13116,12694],\"type\":\"choropleth\"}],\"name\":\"2002\"},{\"data\":[{\"coloraxis\":\"coloraxis\",\"geo\":\"geo\",\"hovertemplate\":\"\\u003cb\\u003e%{hovertext}\\u003c\\u002fb\\u003e\\u003cbr\\u003e\\u003cbr\\u003eYear=2003\\u003cbr\\u003eCode=%{location}\\u003cbr\\u003eDeaths=%{z}\\u003cextra\\u003e\\u003c\\u002fextra\\u003e\",\"hovertext\":[\"Alabama\",\"Alaska\",\"Iowa\",\"Indiana\",\"Illinois\",\"Idaho\",\"Hawaii\",\"Georgia\",\"Florida\",\"Delaware\",\"Connecticut\",\"Colorado\",\"California\",\"Arkansas\",\"Arizona\",\"District of Columbia\",\"Kansas\",\"Kentucky\",\"Maine\",\"North Carolina\",\"New York\",\"New Mexico\",\"New Jersey\",\"New Hampshire\",\"Nevada\",\"North Dakota\",\"Nebraska\",\"Missouri\",\"Mississippi\",\"Minnesota\",\"Michigan\",\"Massachusetts\",\"Maryland\",\"Montana\",\"Louisiana\",\"Ohio\",\"Oregon\",\"Wyoming\",\"Wisconsin\",\"West Virginia\",\"Washington\",\"Virginia\",\"Oklahoma\",\"Vermont\",\"Texas\",\"Tennessee\",\"South Dakota\",\"South Carolina\",\"Rhode Island\",\"Pennsylvania\",\"Utah\"],\"locationmode\":\"USA-states\",\"locations\":[\"AL\",\"AK\",\"IA\",\"IN\",\"IL\",\"ID\",\"HI\",\"GA\",\"FL\",\"DE\",\"CT\",\"CO\",\"CA\",\"AR\",\"AZ\",\"DC\",\"KS\",\"KY\",\"ME\",\"NC\",\"NY\",\"NM\",\"NJ\",\"NH\",\"NV\",\"ND\",\"NE\",\"MO\",\"MS\",\"MN\",\"MI\",\"MA\",\"MD\",\"MT\",\"LA\",\"OH\",\"OR\",\"WY\",\"WI\",\"WV\",\"WA\",\"VA\",\"OK\",\"VT\",\"TX\",\"TN\",\"SD\",\"SC\",\"RI\",\"PA\",\"UT\"],\"name\":\"\",\"z\":[46716,3180,28062,55968,105325,10380,8978,66478,168657,7070,29627,29506,239371,27918,43392,5573,24593,40241,12540,73459,155877,14805,73689,9708,17858,6090,15465,55582,28489,37620,86728,56291,44499,8467,42719,109110,30912,4172,46177,21306,45920,58282,35721,5120,154870,57313,7132,38112,10039,129769,13412],\"type\":\"choropleth\"}],\"name\":\"2003\"},{\"data\":[{\"coloraxis\":\"coloraxis\",\"geo\":\"geo\",\"hovertemplate\":\"\\u003cb\\u003e%{hovertext}\\u003c\\u002fb\\u003e\\u003cbr\\u003e\\u003cbr\\u003eYear=2004\\u003cbr\\u003eCode=%{location}\\u003cbr\\u003eDeaths=%{z}\\u003cextra\\u003e\\u003c\\u002fextra\\u003e\",\"hovertext\":[\"Oklahoma\",\"Maryland\",\"Alabama\",\"Indiana\",\"Illinois\",\"Idaho\",\"Hawaii\",\"Georgia\",\"Florida\",\"District of Columbia\",\"Connecticut\",\"Colorado\",\"California\",\"Arkansas\",\"Arizona\",\"Alaska\",\"Delaware\",\"Iowa\",\"Kansas\",\"Kentucky\",\"Louisiana\",\"North Carolina\",\"New York\",\"New Mexico\",\"New Jersey\",\"New Hampshire\",\"Nevada\",\"North Dakota\",\"Nebraska\",\"Missouri\",\"Mississippi\",\"Minnesota\",\"Michigan\",\"Massachusetts\",\"Maine\",\"Montana\",\"Ohio\",\"Pennsylvania\",\"Wyoming\",\"Wisconsin\",\"West Virginia\",\"Washington\",\"Oregon\",\"Virginia\",\"Utah\",\"Texas\",\"Tennessee\",\"South Dakota\",\"South Carolina\",\"Rhode Island\",\"Vermont\"],\"locationmode\":\"USA-states\",\"locations\":[\"OK\",\"MD\",\"AL\",\"IN\",\"IL\",\"ID\",\"HI\",\"GA\",\"FL\",\"DC\",\"CT\",\"CO\",\"CA\",\"AR\",\"AZ\",\"AK\",\"DE\",\"IA\",\"KS\",\"KY\",\"LA\",\"NC\",\"NY\",\"NM\",\"NJ\",\"NH\",\"NV\",\"ND\",\"NE\",\"MO\",\"MS\",\"MN\",\"MI\",\"MA\",\"ME\",\"MT\",\"OH\",\"PA\",\"WY\",\"WI\",\"WV\",\"WA\",\"OR\",\"VA\",\"UT\",\"TX\",\"TN\",\"SD\",\"SC\",\"RI\",\"VT\"],\"name\":\"\",\"z\":[34483,43232,46121,54211,102670,10028,9030,65818,169008,5454,29314,28309,232525,27528,43198,3051,7143,26897,23818,38646,42215,72384,152681,14298,71371,10111,17929,5601,14657,53950,27871,37034,85169,54511,12443,8094,106288,127640,3955,45600,20793,44770,30313,56550,13331,152870,55829,6833,37276,9769,4995],\"type\":\"choropleth\"}],\"name\":\"2004\"},{\"data\":[{\"coloraxis\":\"coloraxis\",\"geo\":\"geo\",\"hovertemplate\":\"\\u003cb\\u003e%{hovertext}\\u003c\\u002fb\\u003e\\u003cbr\\u003e\\u003cbr\\u003eYear=2005\\u003cbr\\u003eCode=%{location}\\u003cbr\\u003eDeaths=%{z}\\u003cextra\\u003e\\u003c\\u002fextra\\u003e\",\"hovertext\":[\"Massachusetts\",\"Alabama\",\"Alaska\",\"Iowa\",\"Indiana\",\"Illinois\",\"Idaho\",\"Hawaii\",\"Georgia\",\"Florida\",\"Delaware\",\"Connecticut\",\"Colorado\",\"California\",\"Arkansas\",\"Arizona\",\"District of Columbia\",\"Kansas\",\"Kentucky\",\"Maine\",\"North Dakota\",\"North Carolina\",\"New York\",\"New Mexico\",\"New Jersey\",\"New Hampshire\",\"Ohio\",\"Nevada\",\"Montana\",\"Missouri\",\"Mississippi\",\"Minnesota\",\"Michigan\",\"Maryland\",\"Nebraska\",\"Louisiana\",\"Oklahoma\",\"Pennsylvania\",\"Wyoming\",\"Wisconsin\",\"West Virginia\",\"Washington\",\"Oregon\",\"Virginia\",\"Utah\",\"Texas\",\"Tennessee\",\"South Dakota\",\"South Carolina\",\"Rhode Island\",\"Vermont\"],\"locationmode\":\"USA-states\",\"locations\":[\"MA\",\"AL\",\"AK\",\"IA\",\"IN\",\"IL\",\"ID\",\"HI\",\"GA\",\"FL\",\"DE\",\"CT\",\"CO\",\"CA\",\"AR\",\"AZ\",\"DC\",\"KS\",\"KY\",\"ME\",\"ND\",\"NC\",\"NY\",\"NM\",\"NJ\",\"NH\",\"OH\",\"NV\",\"MT\",\"MO\",\"MS\",\"MN\",\"MI\",\"MD\",\"NE\",\"LA\",\"OK\",\"PA\",\"WY\",\"WI\",\"WV\",\"WA\",\"OR\",\"VA\",\"UT\",\"TX\",\"TN\",\"SD\",\"SC\",\"RI\",\"VT\"],\"name\":\"\",\"z\":[53874,47090,3168,27811,55675,103974,10556,9136,66736,170791,7472,29467,29627,237037,28055,45827,5483,24682,40223,12868,5744,74638,152427,14983,71963,10194,109031,19029,8528,54656,29196,37535,86867,43892,14963,44355,36180,129532,4099,46709,20780,46203,31091,57855,13432,156457,57260,7086,38707,10007,5066],\"type\":\"choropleth\"}],\"name\":\"2005\"},{\"data\":[{\"coloraxis\":\"coloraxis\",\"geo\":\"geo\",\"hovertemplate\":\"\\u003cb\\u003e%{hovertext}\\u003c\\u002fb\\u003e\\u003cbr\\u003e\\u003cbr\\u003eYear=2006\\u003cbr\\u003eCode=%{location}\\u003cbr\\u003eDeaths=%{z}\\u003cextra\\u003e\\u003c\\u002fextra\\u003e\",\"hovertext\":[\"Alabama\",\"Alaska\",\"Iowa\",\"Indiana\",\"Illinois\",\"Idaho\",\"Hawaii\",\"Georgia\",\"Florida\",\"Delaware\",\"Connecticut\",\"Colorado\",\"California\",\"Arkansas\",\"Arizona\",\"District of Columbia\",\"Kansas\",\"Kentucky\",\"Maine\",\"North Carolina\",\"New York\",\"New Mexico\",\"New Jersey\",\"New Hampshire\",\"Nevada\",\"North Dakota\",\"Nebraska\",\"Missouri\",\"Mississippi\",\"Minnesota\",\"Michigan\",\"Massachusetts\",\"Maryland\",\"Montana\",\"Louisiana\",\"Ohio\",\"Oregon\",\"Wyoming\",\"Wisconsin\",\"West Virginia\",\"Washington\",\"Virginia\",\"Oklahoma\",\"Vermont\",\"Texas\",\"Tennessee\",\"South Dakota\",\"South Carolina\",\"Rhode Island\",\"Pennsylvania\",\"Utah\"],\"locationmode\":\"USA-states\",\"locations\":[\"AL\",\"AK\",\"IA\",\"IN\",\"IL\",\"ID\",\"HI\",\"GA\",\"FL\",\"DE\",\"CT\",\"CO\",\"CA\",\"AR\",\"AZ\",\"DC\",\"KS\",\"KY\",\"ME\",\"NC\",\"NY\",\"NM\",\"NJ\",\"NH\",\"NV\",\"ND\",\"NE\",\"MO\",\"MS\",\"MN\",\"MI\",\"MA\",\"MD\",\"MT\",\"LA\",\"OH\",\"OR\",\"WY\",\"WI\",\"WV\",\"WA\",\"VA\",\"OK\",\"VT\",\"TX\",\"TN\",\"SD\",\"SC\",\"RI\",\"PA\",\"UT\"],\"name\":\"\",\"z\":[46977,3354,27362,55622,102171,10613,9432,67808,170066,7204,29260,29521,237126,27901,46365,5344,24553,40102,12294,74716,148806,15296,70356,10060,18872,5868,14899,54681,28564,37028,86042,53450,43582,8472,40045,106825,31380,4311,46153,20672,46120,57690,35427,5048,157150,56838,7084,38761,9690,125539,13764],\"type\":\"choropleth\"}],\"name\":\"2006\"},{\"data\":[{\"coloraxis\":\"coloraxis\",\"geo\":\"geo\",\"hovertemplate\":\"\\u003cb\\u003e%{hovertext}\\u003c\\u002fb\\u003e\\u003cbr\\u003e\\u003cbr\\u003eYear=2007\\u003cbr\\u003eCode=%{location}\\u003cbr\\u003eDeaths=%{z}\\u003cextra\\u003e\\u003c\\u002fextra\\u003e\",\"hovertext\":[\"North Carolina\",\"New York\",\"Oklahoma\",\"Illinois\",\"Idaho\",\"Hawaii\",\"Georgia\",\"Florida\",\"District of Columbia\",\"Delaware\",\"Colorado\",\"California\",\"Arkansas\",\"Arizona\",\"Alaska\",\"Alabama\",\"Connecticut\",\"Oregon\",\"Ohio\",\"Pennsylvania\",\"Indiana\",\"Iowa\",\"Kentucky\",\"North Dakota\",\"Wyoming\",\"Wisconsin\",\"West Virginia\",\"Virginia\",\"Michigan\",\"Massachusetts\",\"Maryland\",\"Maine\",\"Louisiana\",\"Washington\",\"Kansas\",\"Mississippi\",\"Minnesota\",\"Vermont\",\"Tennessee\",\"Texas\",\"Rhode Island\",\"South Carolina\",\"South Dakota\",\"Nevada\",\"Nebraska\",\"Montana\",\"Missouri\",\"New Mexico\",\"Utah\",\"New Hampshire\",\"New Jersey\"],\"locationmode\":\"USA-states\",\"locations\":[\"NC\",\"NY\",\"OK\",\"IL\",\"ID\",\"HI\",\"GA\",\"FL\",\"DC\",\"DE\",\"CO\",\"CA\",\"AR\",\"AZ\",\"AK\",\"AL\",\"CT\",\"OR\",\"OH\",\"PA\",\"IN\",\"IA\",\"KY\",\"ND\",\"WY\",\"WI\",\"WV\",\"VA\",\"MI\",\"MA\",\"MD\",\"ME\",\"LA\",\"WA\",\"KS\",\"MS\",\"MN\",\"VT\",\"TN\",\"TX\",\"RI\",\"SC\",\"SD\",\"NV\",\"NE\",\"MT\",\"MO\",\"NM\",\"UT\",\"NH\",\"NJ\"],\"name\":\"\",\"z\":[76046,147680,36032,100503,10822,9495,68331,168096,5188,7327,29993,233720,28191,45554,3463,46696,28651,31403,106534,125104,54000,27221,40090,5561,4266,46241,21086,58225,86721,52917,43757,12493,39966,47323,24491,28255,37138,5179,57087,160548,9723,39439,6826,18687,15263,8624,54166,15482,14143,10303,69662],\"type\":\"choropleth\"}],\"name\":\"2007\"},{\"data\":[{\"coloraxis\":\"coloraxis\",\"geo\":\"geo\",\"hovertemplate\":\"\\u003cb\\u003e%{hovertext}\\u003c\\u002fb\\u003e\\u003cbr\\u003e\\u003cbr\\u003eYear=2008\\u003cbr\\u003eCode=%{location}\\u003cbr\\u003eDeaths=%{z}\\u003cextra\\u003e\\u003c\\u002fextra\\u003e\",\"hovertext\":[\"Vermont\",\"Utah\",\"Texas\",\"Tennessee\",\"South Dakota\",\"South Carolina\",\"Rhode Island\",\"Pennsylvania\",\"Oregon\",\"Oklahoma\",\"Ohio\",\"North Dakota\",\"North Carolina\",\"New York\",\"New Mexico\",\"New Jersey\",\"New Hampshire\",\"Nevada\",\"Nebraska\",\"Montana\",\"Missouri\",\"Mississippi\",\"Minnesota\",\"Michigan\",\"Massachusetts\",\"Maryland\",\"Maine\",\"Louisiana\",\"Kentucky\",\"Virginia\",\"Washington\",\"West Virginia\",\"Wisconsin\",\"Kansas\",\"Wyoming\",\"Iowa\",\"Indiana\",\"Idaho\",\"Hawaii\",\"Georgia\",\"Florida\",\"District of Columbia\",\"Delaware\",\"Connecticut\",\"Colorado\",\"California\",\"Arkansas\",\"Arizona\",\"Alaska\",\"Alabama\",\"Illinois\"],\"locationmode\":\"USA-states\",\"locations\":[\"VT\",\"UT\",\"TX\",\"TN\",\"SD\",\"SC\",\"RI\",\"PA\",\"OR\",\"OK\",\"OH\",\"ND\",\"NC\",\"NY\",\"NM\",\"NJ\",\"NH\",\"NV\",\"NE\",\"MT\",\"MO\",\"MS\",\"MN\",\"MI\",\"MA\",\"MD\",\"ME\",\"LA\",\"KY\",\"VA\",\"WA\",\"WV\",\"WI\",\"KS\",\"WY\",\"IA\",\"IN\",\"ID\",\"HI\",\"GA\",\"FL\",\"DC\",\"DE\",\"CT\",\"CO\",\"CA\",\"AR\",\"AZ\",\"AK\",\"AL\",\"IL\"],\"name\":\"\",\"z\":[5211,14040,164914,58820,7083,40289,9738,127462,31967,37014,109767,5871,77283,148698,16005,70026,10268,19335,15461,8913,56578,28984,38499,88445,53518,43892,12541,41220,41329,59100,48627,21557,46815,24975,4227,28541,56752,10962,9501,69640,170703,5140,7622,28794,31274,234766,29322,45823,3494,47707,103471],\"type\":\"choropleth\"}],\"name\":\"2008\"},{\"data\":[{\"coloraxis\":\"coloraxis\",\"geo\":\"geo\",\"hovertemplate\":\"\\u003cb\\u003e%{hovertext}\\u003c\\u002fb\\u003e\\u003cbr\\u003e\\u003cbr\\u003eYear=2009\\u003cbr\\u003eCode=%{location}\\u003cbr\\u003eDeaths=%{z}\\u003cextra\\u003e\\u003c\\u002fextra\\u003e\",\"hovertext\":[\"Alabama\",\"Indiana\",\"Illinois\",\"Idaho\",\"Hawaii\",\"Georgia\",\"Florida\",\"District of Columbia\",\"Connecticut\",\"Colorado\",\"California\",\"Arkansas\",\"Arizona\",\"Alaska\",\"Delaware\",\"Iowa\",\"Kansas\",\"Kentucky\",\"Louisiana\",\"New York\",\"New Mexico\",\"New Jersey\",\"New Hampshire\",\"Nevada\",\"Nebraska\",\"North Carolina\",\"Montana\",\"Mississippi\",\"Minnesota\",\"Michigan\",\"Massachusetts\",\"Maryland\",\"Maine\",\"Missouri\",\"North Dakota\",\"Oklahoma\",\"Wyoming\",\"Wisconsin\",\"West Virginia\",\"Washington\",\"Virginia\",\"Vermont\",\"Ohio\",\"Utah\",\"Tennessee\",\"South Dakota\",\"South Carolina\",\"Rhode Island\",\"Pennsylvania\",\"Oregon\",\"Texas\"],\"locationmode\":\"USA-states\",\"locations\":[\"AL\",\"IN\",\"IL\",\"ID\",\"HI\",\"GA\",\"FL\",\"DC\",\"CT\",\"CO\",\"CA\",\"AR\",\"AZ\",\"AK\",\"DE\",\"IA\",\"KS\",\"KY\",\"LA\",\"NY\",\"NM\",\"NJ\",\"NH\",\"NV\",\"NE\",\"NC\",\"MT\",\"MS\",\"MN\",\"MI\",\"MA\",\"MD\",\"ME\",\"MO\",\"ND\",\"OK\",\"WY\",\"WI\",\"WV\",\"WA\",\"VA\",\"VT\",\"OH\",\"UT\",\"TN\",\"SD\",\"SC\",\"RI\",\"PA\",\"OR\",\"TX\"],\"name\":\"\",\"z\":[47470,55973,100056,11098,9914,69712,169924,4834,28585,31173,232736,28673,45816,3618,7534,27544,24024,41380,40282,146475,15643,68277,10100,19224,14810,77117,8730,28275,37851,86455,52308,43843,12594,54263,5914,35601,4283,45697,21386,48270,58653,5034,107156,14138,58288,6923,40449,9395,124780,31636,163249],\"type\":\"choropleth\"}],\"name\":\"2009\"},{\"data\":[{\"coloraxis\":\"coloraxis\",\"geo\":\"geo\",\"hovertemplate\":\"\\u003cb\\u003e%{hovertext}\\u003c\\u002fb\\u003e\\u003cbr\\u003e\\u003cbr\\u003eYear=2010\\u003cbr\\u003eCode=%{location}\\u003cbr\\u003eDeaths=%{z}\\u003cextra\\u003e\\u003c\\u002fextra\\u003e\",\"hovertext\":[\"Maine\",\"Illinois\",\"Idaho\",\"Hawaii\",\"Georgia\",\"Florida\",\"District of Columbia\",\"Delaware\",\"Colorado\",\"California\",\"Arkansas\",\"Arizona\",\"Alaska\",\"Alabama\",\"Connecticut\",\"Indiana\",\"Iowa\",\"Kansas\",\"Kentucky\",\"New York\",\"New Mexico\",\"New Jersey\",\"New Hampshire\",\"Nevada\",\"Nebraska\",\"North Carolina\",\"Montana\",\"Mississippi\",\"Minnesota\",\"Michigan\",\"Massachusetts\",\"Maryland\",\"Louisiana\",\"Missouri\",\"North Dakota\",\"Oklahoma\",\"Wyoming\",\"Wisconsin\",\"West Virginia\",\"Washington\",\"Virginia\",\"Vermont\",\"Ohio\",\"Utah\",\"Tennessee\",\"South Dakota\",\"South Carolina\",\"Rhode Island\",\"Pennsylvania\",\"Oregon\",\"Texas\"],\"locationmode\":\"USA-states\",\"locations\":[\"ME\",\"IL\",\"ID\",\"HI\",\"GA\",\"FL\",\"DC\",\"DE\",\"CO\",\"CA\",\"AR\",\"AZ\",\"AK\",\"AL\",\"CT\",\"IN\",\"IA\",\"KS\",\"KY\",\"NY\",\"NM\",\"NJ\",\"NH\",\"NV\",\"NE\",\"NC\",\"MT\",\"MS\",\"MN\",\"MI\",\"MA\",\"MD\",\"LA\",\"MO\",\"ND\",\"OK\",\"WY\",\"WI\",\"WV\",\"WA\",\"VA\",\"VT\",\"OH\",\"UT\",\"TN\",\"SD\",\"SC\",\"RI\",\"PA\",\"OR\",\"TX\"],\"name\":\"\",\"z\":[12750,99931,11429,9617,71263,173791,4672,7706,31465,234012,28916,46762,3728,48038,28692,56743,27745,24502,41983,146432,15931,69495,10201,19623,15171,78773,8827,28965,38972,88021,52583,43325,40667,55281,5944,36529,4438,47308,21275,48146,59032,5380,108711,14776,59578,7100,41614,9579,124596,31890,166527],\"type\":\"choropleth\"}],\"name\":\"2010\"},{\"data\":[{\"coloraxis\":\"coloraxis\",\"geo\":\"geo\",\"hovertemplate\":\"\\u003cb\\u003e%{hovertext}\\u003c\\u002fb\\u003e\\u003cbr\\u003e\\u003cbr\\u003eYear=2011\\u003cbr\\u003eCode=%{location}\\u003cbr\\u003eDeaths=%{z}\\u003cextra\\u003e\\u003c\\u002fextra\\u003e\",\"hovertext\":[\"Maine\",\"Illinois\",\"Idaho\",\"Hawaii\",\"Georgia\",\"Florida\",\"District of Columbia\",\"Delaware\",\"Colorado\",\"California\",\"Arkansas\",\"Arizona\",\"Alaska\",\"Alabama\",\"Connecticut\",\"Indiana\",\"Iowa\",\"Kansas\",\"Kentucky\",\"New York\",\"New Mexico\",\"New Jersey\",\"New Hampshire\",\"Nevada\",\"Nebraska\",\"North Carolina\",\"Montana\",\"Mississippi\",\"Minnesota\",\"Michigan\",\"Massachusetts\",\"Maryland\",\"Louisiana\",\"Missouri\",\"North Dakota\",\"Oklahoma\",\"Wyoming\",\"Wisconsin\",\"West Virginia\",\"Washington\",\"Virginia\",\"Vermont\",\"Ohio\",\"Utah\",\"Tennessee\",\"South Dakota\",\"South Carolina\",\"Rhode Island\",\"Pennsylvania\",\"Oregon\",\"Texas\"],\"locationmode\":\"USA-states\",\"locations\":[\"ME\",\"IL\",\"ID\",\"HI\",\"GA\",\"FL\",\"DC\",\"DE\",\"CO\",\"CA\",\"AR\",\"AZ\",\"AK\",\"AL\",\"CT\",\"IN\",\"IA\",\"KS\",\"KY\",\"NY\",\"NM\",\"NJ\",\"NH\",\"NV\",\"NE\",\"NC\",\"MT\",\"MS\",\"MN\",\"MI\",\"MA\",\"MD\",\"LA\",\"MO\",\"ND\",\"OK\",\"WY\",\"WI\",\"WV\",\"WA\",\"VA\",\"VT\",\"OH\",\"UT\",\"TN\",\"SD\",\"SC\",\"RI\",\"PA\",\"OR\",\"TX\"],\"name\":\"\",\"z\":[13001,101906,12027,9923,71248,173976,4589,7845,32563,239942,29653,48381,3849,48681,29526,58202,28184,25116,42626,149174,16452,70558,10823,20343,15476,79882,9115,29278,39820,89508,53710,43745,40890,55848,5965,37175,4387,48410,21867,49691,60804,5433,111427,15266,60541,7314,42072,9581,128237,32788,168640],\"type\":\"choropleth\"}],\"name\":\"2011\"},{\"data\":[{\"coloraxis\":\"coloraxis\",\"geo\":\"geo\",\"hovertemplate\":\"\\u003cb\\u003e%{hovertext}\\u003c\\u002fb\\u003e\\u003cbr\\u003e\\u003cbr\\u003eYear=2012\\u003cbr\\u003eCode=%{location}\\u003cbr\\u003eDeaths=%{z}\\u003cextra\\u003e\\u003c\\u002fextra\\u003e\",\"hovertext\":[\"Maine\",\"Alabama\",\"Indiana\",\"Illinois\",\"Idaho\",\"Hawaii\",\"Georgia\",\"Florida\",\"District of Columbia\",\"Connecticut\",\"Colorado\",\"California\",\"Arkansas\",\"Arizona\",\"Alaska\",\"Delaware\",\"Iowa\",\"Kansas\",\"Kentucky\",\"Louisiana\",\"North Carolina\",\"New York\",\"New Mexico\",\"New Jersey\",\"New Hampshire\",\"Nevada\",\"North Dakota\",\"Nebraska\",\"Missouri\",\"Mississippi\",\"Minnesota\",\"Michigan\",\"Massachusetts\",\"Maryland\",\"Montana\",\"Ohio\",\"Oregon\",\"Wyoming\",\"Wisconsin\",\"West Virginia\",\"Washington\",\"Virginia\",\"Oklahoma\",\"Vermont\",\"Texas\",\"Tennessee\",\"South Dakota\",\"South Carolina\",\"Rhode Island\",\"Pennsylvania\",\"Utah\"],\"locationmode\":\"USA-states\",\"locations\":[\"ME\",\"AL\",\"IN\",\"IL\",\"ID\",\"HI\",\"GA\",\"FL\",\"DC\",\"CT\",\"CO\",\"CA\",\"AR\",\"AZ\",\"AK\",\"DE\",\"IA\",\"KS\",\"KY\",\"LA\",\"NC\",\"NY\",\"NM\",\"NJ\",\"NH\",\"NV\",\"ND\",\"NE\",\"MO\",\"MS\",\"MN\",\"MI\",\"MA\",\"MD\",\"MT\",\"OH\",\"OR\",\"WY\",\"WI\",\"WV\",\"WA\",\"VA\",\"OK\",\"VT\",\"TX\",\"TN\",\"SD\",\"SC\",\"RI\",\"PA\",\"UT\"],\"name\":\"\",\"z\":[12870,49301,59332,102433,11998,10274,72847,177291,4650,29316,33133,242554,30117,49549,3912,7875,28389,25145,43664,42320,81925,148991,16710,70534,10730,20785,6038,15659,56094,29544,40016,89901,53177,44477,8976,112498,32759,4481,48384,21915,50105,61564,36870,5491,174187,61956,7333,43198,9354,126981,15676],\"type\":\"choropleth\"}],\"name\":\"2012\"},{\"data\":[{\"coloraxis\":\"coloraxis\",\"geo\":\"geo\",\"hovertemplate\":\"\\u003cb\\u003e%{hovertext}\\u003c\\u002fb\\u003e\\u003cbr\\u003e\\u003cbr\\u003eYear=2013\\u003cbr\\u003eCode=%{location}\\u003cbr\\u003eDeaths=%{z}\\u003cextra\\u003e\\u003c\\u002fextra\\u003e\",\"hovertext\":[\"Alabama\",\"Alaska\",\"Iowa\",\"Indiana\",\"Illinois\",\"Idaho\",\"Hawaii\",\"Georgia\",\"Florida\",\"Delaware\",\"Connecticut\",\"Colorado\",\"California\",\"Arkansas\",\"Arizona\",\"District of Columbia\",\"Kansas\",\"Kentucky\",\"Louisiana\",\"Maine\",\"North Carolina\",\"New York\",\"New Mexico\",\"New Jersey\",\"New Hampshire\",\"Nevada\",\"North Dakota\",\"Nebraska\",\"Missouri\",\"Mississippi\",\"Minnesota\",\"Michigan\",\"Massachusetts\",\"Maryland\",\"Montana\",\"Ohio\",\"Oregon\",\"Wyoming\",\"Wisconsin\",\"West Virginia\",\"Washington\",\"Virginia\",\"Oklahoma\",\"Vermont\",\"Texas\",\"Tennessee\",\"South Dakota\",\"South Carolina\",\"Rhode Island\",\"Pennsylvania\",\"Utah\"],\"locationmode\":\"USA-states\",\"locations\":[\"AL\",\"AK\",\"IA\",\"IN\",\"IL\",\"ID\",\"HI\",\"GA\",\"FL\",\"DE\",\"CT\",\"CO\",\"CA\",\"AR\",\"AZ\",\"DC\",\"KS\",\"KY\",\"LA\",\"ME\",\"NC\",\"NY\",\"NM\",\"NJ\",\"NH\",\"NV\",\"ND\",\"NE\",\"MO\",\"MS\",\"MN\",\"MI\",\"MA\",\"MD\",\"MT\",\"OH\",\"OR\",\"WY\",\"WI\",\"WV\",\"WA\",\"VA\",\"OK\",\"VT\",\"TX\",\"TN\",\"SD\",\"SC\",\"RI\",\"PA\",\"UT\"],\"name\":\"\",\"z\":[50189,3997,28948,60716,103401,12434,10505,75088,181112,7967,29632,33712,248359,30437,50534,4719,25414,43759,43270,13547,83329,150919,16805,71403,10897,21468,6233,15754,57444,30703,40987,92408,54567,45689,9511,113258,33939,4516,50026,21843,51264,62716,38384,5639,179183,63406,7099,44582,9792,129123,16366],\"type\":\"choropleth\"}],\"name\":\"2013\"},{\"data\":[{\"coloraxis\":\"coloraxis\",\"geo\":\"geo\",\"hovertemplate\":\"\\u003cb\\u003e%{hovertext}\\u003c\\u002fb\\u003e\\u003cbr\\u003e\\u003cbr\\u003eYear=2014\\u003cbr\\u003eCode=%{location}\\u003cbr\\u003eDeaths=%{z}\\u003cextra\\u003e\\u003c\\u002fextra\\u003e\",\"hovertext\":[\"Maine\",\"Illinois\",\"Idaho\",\"Hawaii\",\"Georgia\",\"Florida\",\"District of Columbia\",\"Delaware\",\"Colorado\",\"California\",\"Arkansas\",\"Arizona\",\"Alaska\",\"Alabama\",\"Connecticut\",\"Indiana\",\"Iowa\",\"Kansas\",\"Kentucky\",\"New York\",\"New Mexico\",\"New Jersey\",\"New Hampshire\",\"Nevada\",\"Nebraska\",\"North Carolina\",\"Montana\",\"Mississippi\",\"Minnesota\",\"Michigan\",\"Massachusetts\",\"Maryland\",\"Louisiana\",\"Missouri\",\"North Dakota\",\"Oklahoma\",\"Wyoming\",\"Wisconsin\",\"West Virginia\",\"Washington\",\"Virginia\",\"Vermont\",\"Ohio\",\"Utah\",\"Tennessee\",\"South Dakota\",\"South Carolina\",\"Rhode Island\",\"Pennsylvania\",\"Oregon\",\"Texas\"],\"locationmode\":\"USA-states\",\"locations\":[\"ME\",\"IL\",\"ID\",\"HI\",\"GA\",\"FL\",\"DC\",\"DE\",\"CO\",\"CA\",\"AR\",\"AZ\",\"AK\",\"AL\",\"CT\",\"IN\",\"IA\",\"KS\",\"KY\",\"NY\",\"NM\",\"NJ\",\"NH\",\"NV\",\"NE\",\"NC\",\"MT\",\"MS\",\"MN\",\"MI\",\"MA\",\"MD\",\"LA\",\"MO\",\"ND\",\"OK\",\"WY\",\"WI\",\"WV\",\"WA\",\"VA\",\"VT\",\"OH\",\"UT\",\"TN\",\"SD\",\"SC\",\"RI\",\"PA\",\"OR\",\"TX\"],\"name\":\"\",\"z\":[13510,105293,12613,10767,76887,185956,4723,8260,35237,245929,30467,51538,4128,50215,29860,60940,29190,25793,44838,149944,17579,71316,11516,21793,15978,85367,9381,30557,41445,93914,55200,45867,43869,58320,6184,38464,4666,50291,22186,52099,63598,5623,114509,16719,64661,7507,45454,9770,128434,34151,183912],\"type\":\"choropleth\"}],\"name\":\"2014\"},{\"data\":[{\"coloraxis\":\"coloraxis\",\"geo\":\"geo\",\"hovertemplate\":\"\\u003cb\\u003e%{hovertext}\\u003c\\u002fb\\u003e\\u003cbr\\u003e\\u003cbr\\u003eYear=2015\\u003cbr\\u003eCode=%{location}\\u003cbr\\u003eDeaths=%{z}\\u003cextra\\u003e\\u003c\\u002fextra\\u003e\",\"hovertext\":[\"Alabama\",\"Indiana\",\"Illinois\",\"Idaho\",\"Hawaii\",\"Georgia\",\"Florida\",\"District of Columbia\",\"Connecticut\",\"Colorado\",\"California\",\"Arkansas\",\"Arizona\",\"Alaska\",\"Delaware\",\"Iowa\",\"Kansas\",\"Kentucky\",\"Louisiana\",\"New York\",\"New Mexico\",\"New Jersey\",\"New Hampshire\",\"Nevada\",\"Nebraska\",\"North Carolina\",\"Montana\",\"Mississippi\",\"Minnesota\",\"Michigan\",\"Massachusetts\",\"Maryland\",\"Maine\",\"Missouri\",\"North Dakota\",\"Oklahoma\",\"Wyoming\",\"Wisconsin\",\"West Virginia\",\"Washington\",\"Virginia\",\"Vermont\",\"Ohio\",\"Utah\",\"Tennessee\",\"South Dakota\",\"South Carolina\",\"Rhode Island\",\"Pennsylvania\",\"Oregon\",\"Texas\"],\"locationmode\":\"USA-states\",\"locations\":[\"AL\",\"IN\",\"IL\",\"ID\",\"HI\",\"GA\",\"FL\",\"DC\",\"CT\",\"CO\",\"CA\",\"AR\",\"AZ\",\"AK\",\"DE\",\"IA\",\"KS\",\"KY\",\"LA\",\"NY\",\"NM\",\"NJ\",\"NH\",\"NV\",\"NE\",\"NC\",\"MT\",\"MS\",\"MN\",\"MI\",\"MA\",\"MD\",\"ME\",\"MO\",\"ND\",\"OK\",\"WY\",\"WI\",\"WV\",\"WA\",\"VA\",\"VT\",\"OH\",\"UT\",\"TN\",\"SD\",\"SC\",\"RI\",\"PA\",\"OR\",\"TX\"],\"name\":\"\",\"z\":[51909,62713,106872,13026,11053,79942,191737,4871,30535,36349,259206,31617,54299,4316,8582,29600,26664,46564,43716,153628,17685,72271,11984,22879,16740,89133,9942,31783,42800,95140,57806,47247,14479,59871,6223,39422,4778,51264,22752,54595,65577,5919,118188,17334,66570,7731,47198,10163,132598,35705,189654],\"type\":\"choropleth\"}],\"name\":\"2015\"},{\"data\":[{\"coloraxis\":\"coloraxis\",\"geo\":\"geo\",\"hovertemplate\":\"\\u003cb\\u003e%{hovertext}\\u003c\\u002fb\\u003e\\u003cbr\\u003e\\u003cbr\\u003eYear=2016\\u003cbr\\u003eCode=%{location}\\u003cbr\\u003eDeaths=%{z}\\u003cextra\\u003e\\u003c\\u002fextra\\u003e\",\"hovertext\":[\"Maine\",\"Illinois\",\"Idaho\",\"Hawaii\",\"Georgia\",\"Florida\",\"District of Columbia\",\"Delaware\",\"Colorado\",\"California\",\"Arkansas\",\"Arizona\",\"Alaska\",\"Alabama\",\"Connecticut\",\"Indiana\",\"Iowa\",\"Kansas\",\"Kentucky\",\"New York\",\"New Mexico\",\"New Jersey\",\"New Hampshire\",\"Nevada\",\"Nebraska\",\"North Carolina\",\"Montana\",\"Mississippi\",\"Minnesota\",\"Michigan\",\"Massachusetts\",\"Maryland\",\"Louisiana\",\"Missouri\",\"North Dakota\",\"Oklahoma\",\"Wyoming\",\"Wisconsin\",\"West Virginia\",\"Washington\",\"Virginia\",\"Vermont\",\"Ohio\",\"Utah\",\"Tennessee\",\"South Dakota\",\"South Carolina\",\"Rhode Island\",\"Pennsylvania\",\"Oregon\",\"Texas\"],\"locationmode\":\"USA-states\",\"locations\":[\"ME\",\"IL\",\"ID\",\"HI\",\"GA\",\"FL\",\"DC\",\"DE\",\"CO\",\"CA\",\"AR\",\"AZ\",\"AK\",\"AL\",\"CT\",\"IN\",\"IA\",\"KS\",\"KY\",\"NY\",\"NM\",\"NJ\",\"NH\",\"NV\",\"NE\",\"NC\",\"MT\",\"MS\",\"MN\",\"MI\",\"MA\",\"MD\",\"LA\",\"MO\",\"ND\",\"OK\",\"WY\",\"WI\",\"WV\",\"WA\",\"VA\",\"VT\",\"OH\",\"UT\",\"TN\",\"SD\",\"SC\",\"RI\",\"PA\",\"OR\",\"TX\"],\"name\":\"\",\"z\":[14182,107020,13366,10913,81428,197313,5037,8874,37530,262240,31756,56645,4494,52466,30543,63473,29538,26245,47827,154358,18365,73155,12203,23902,16217,90465,9905,31741,43078,96231,56961,48824,44306,59873,6242,39276,4722,51815,22732,54769,66473,5909,119572,17913,67857,7845,48130,9735,133040,35778,191966],\"type\":\"choropleth\"}],\"name\":\"2016\"},{\"data\":[{\"coloraxis\":\"coloraxis\",\"geo\":\"geo\",\"hovertemplate\":\"\\u003cb\\u003e%{hovertext}\\u003c\\u002fb\\u003e\\u003cbr\\u003e\\u003cbr\\u003eYear=2017\\u003cbr\\u003eCode=%{location}\\u003cbr\\u003eDeaths=%{z}\\u003cextra\\u003e\\u003c\\u002fextra\\u003e\",\"hovertext\":[\"Maryland\",\"Alabama\",\"Indiana\",\"Illinois\",\"Idaho\",\"Hawaii\",\"Georgia\",\"Florida\",\"District of Columbia\",\"Connecticut\",\"Colorado\",\"California\",\"Arkansas\",\"Arizona\",\"Alaska\",\"Delaware\",\"Iowa\",\"Kansas\",\"Kentucky\",\"Louisiana\",\"North Carolina\",\"New York\",\"New Mexico\",\"New Jersey\",\"New Hampshire\",\"Nevada\",\"North Dakota\",\"Nebraska\",\"Missouri\",\"Mississippi\",\"Minnesota\",\"Michigan\",\"Massachusetts\",\"Maine\",\"Montana\",\"Ohio\",\"Oregon\",\"Wyoming\",\"Wisconsin\",\"West Virginia\",\"Washington\",\"Virginia\",\"Oklahoma\",\"Vermont\",\"Texas\",\"Tennessee\",\"South Dakota\",\"South Carolina\",\"Rhode Island\",\"Pennsylvania\",\"Utah\"],\"locationmode\":\"USA-states\",\"locations\":[\"MD\",\"AL\",\"IN\",\"IL\",\"ID\",\"HI\",\"GA\",\"FL\",\"DC\",\"CT\",\"CO\",\"CA\",\"AR\",\"AZ\",\"AK\",\"DE\",\"IA\",\"KS\",\"KY\",\"LA\",\"NC\",\"NY\",\"NM\",\"NJ\",\"NH\",\"NV\",\"ND\",\"NE\",\"MO\",\"MS\",\"MN\",\"MI\",\"MA\",\"ME\",\"MT\",\"OH\",\"OR\",\"WY\",\"WI\",\"WV\",\"WA\",\"VA\",\"OK\",\"VT\",\"TX\",\"TN\",\"SD\",\"SC\",\"RI\",\"PA\",\"UT\"],\"name\":\"\",\"z\":[49926,53238,65597,109721,14011,11390,83098,203636,4965,31312,38063,268189,32588,57758,4411,9178,30530,27063,48212,45804,93157,155358,18673,74846,12504,24657,6415,16878,61876,32280,44371,97602,58803,14676,10200,123648,36624,4768,52681,23276,56995,68579,40452,6007,198106,70096,7996,49441,10157,135656,18035],\"type\":\"choropleth\"}],\"name\":\"2017\"}]);\n",
       "                        }).then(function(){\n",
       "                            \n",
       "var gd = document.getElementById('a6278dd2-f6b0-4d83-8ff0-044b18c0dc31');\n",
       "var x = new MutationObserver(function (mutations, observer) {{\n",
       "        var display = window.getComputedStyle(gd).display;\n",
       "        if (!display || display === 'none') {{\n",
       "            console.log([gd, 'removed!']);\n",
       "            Plotly.purge(gd);\n",
       "            observer.disconnect();\n",
       "        }}\n",
       "}});\n",
       "\n",
       "// Listen for the removal of the full notebook cells\n",
       "var notebookContainer = gd.closest('#notebook-container');\n",
       "if (notebookContainer) {{\n",
       "    x.observe(notebookContainer, {childList: true});\n",
       "}}\n",
       "\n",
       "// Listen for the clearing of the current output cell\n",
       "var outputEl = gd.closest('.output');\n",
       "if (outputEl) {{\n",
       "    x.observe(outputEl, {childList: true});\n",
       "}}\n",
       "\n",
       "                        })                };                });            </script>        </div>"
      ]
     },
     "metadata": {},
     "output_type": "display_data"
    }
   ],
   "source": [
    "fig = px.choropleth(df1_states[df1_states['Cause Name'] == 'All causes'],\n",
    "                    locations='Code',\n",
    "                    color='Deaths',\n",
    "                    color_continuous_scale='spectral_r',\n",
    "                    hover_name='State',\n",
    "                    locationmode='USA-states',\n",
    "                    range_color=(2500, 270000),\n",
    "                    animation_frame='Year',\n",
    "                    title='Number Of Deaths in the USA through 1999 to 2017',\n",
    "                    scope='usa')\n",
    "fig.update_layout(margin={\"r\":0,\"t\":0,\"l\":0,\"b\":0})\n",
    "fig.show()"
   ]
  },
  {
   "cell_type": "markdown",
   "id": "20b0d6a5-e9c4-4f67-843c-cb09ef37568e",
   "metadata": {},
   "source": [
    "# CASE STUDY - CALIFORNIA STATE"
   ]
  },
  {
   "cell_type": "code",
   "execution_count": 296,
   "id": "e207097e-d95d-4da1-a058-b4da61d15463",
   "metadata": {},
   "outputs": [
    {
     "data": {
      "text/html": [
       "<div>\n",
       "<style scoped>\n",
       "    .dataframe tbody tr th:only-of-type {\n",
       "        vertical-align: middle;\n",
       "    }\n",
       "\n",
       "    .dataframe tbody tr th {\n",
       "        vertical-align: top;\n",
       "    }\n",
       "\n",
       "    .dataframe thead th {\n",
       "        text-align: right;\n",
       "    }\n",
       "</style>\n",
       "<table border=\"1\" class=\"dataframe\">\n",
       "  <thead>\n",
       "    <tr style=\"text-align: right;\">\n",
       "      <th></th>\n",
       "      <th>Year</th>\n",
       "      <th>Cause Name</th>\n",
       "      <th>State</th>\n",
       "      <th>Deaths</th>\n",
       "      <th>Age-adjusted Death Rate</th>\n",
       "      <th>Code</th>\n",
       "    </tr>\n",
       "  </thead>\n",
       "  <tbody>\n",
       "    <tr>\n",
       "      <th>10456</th>\n",
       "      <td>1999</td>\n",
       "      <td>Stroke</td>\n",
       "      <td>California</td>\n",
       "      <td>17962</td>\n",
       "      <td>64.5</td>\n",
       "      <td>CA</td>\n",
       "    </tr>\n",
       "    <tr>\n",
       "      <th>10508</th>\n",
       "      <td>1999</td>\n",
       "      <td>CLRD</td>\n",
       "      <td>California</td>\n",
       "      <td>13165</td>\n",
       "      <td>46.9</td>\n",
       "      <td>CA</td>\n",
       "    </tr>\n",
       "    <tr>\n",
       "      <th>10560</th>\n",
       "      <td>1999</td>\n",
       "      <td>Diabetes</td>\n",
       "      <td>California</td>\n",
       "      <td>6401</td>\n",
       "      <td>22.5</td>\n",
       "      <td>CA</td>\n",
       "    </tr>\n",
       "    <tr>\n",
       "      <th>10353</th>\n",
       "      <td>1999</td>\n",
       "      <td>All causes</td>\n",
       "      <td>California</td>\n",
       "      <td>229380</td>\n",
       "      <td>802.3</td>\n",
       "      <td>CA</td>\n",
       "    </tr>\n",
       "    <tr>\n",
       "      <th>10300</th>\n",
       "      <td>1999</td>\n",
       "      <td>Unintentional injuries</td>\n",
       "      <td>California</td>\n",
       "      <td>9198</td>\n",
       "      <td>28.7</td>\n",
       "      <td>CA</td>\n",
       "    </tr>\n",
       "  </tbody>\n",
       "</table>\n",
       "</div>"
      ],
      "text/plain": [
       "       Year              Cause Name       State  Deaths  \\\n",
       "10456  1999                  Stroke  California   17962   \n",
       "10508  1999                    CLRD  California   13165   \n",
       "10560  1999                Diabetes  California    6401   \n",
       "10353  1999              All causes  California  229380   \n",
       "10300  1999  Unintentional injuries  California    9198   \n",
       "\n",
       "       Age-adjusted Death Rate Code  \n",
       "10456                     64.5   CA  \n",
       "10508                     46.9   CA  \n",
       "10560                     22.5   CA  \n",
       "10353                    802.3   CA  \n",
       "10300                     28.7   CA  "
      ]
     },
     "execution_count": 296,
     "metadata": {},
     "output_type": "execute_result"
    }
   ],
   "source": [
    "df1_cali=df1_states[df1_states['State'] == 'California']\n",
    "df1_cali.head()"
   ]
  },
  {
   "cell_type": "code",
   "execution_count": 297,
   "id": "2efa33ba-1530-4c4d-b1a0-daef36d3ab2a",
   "metadata": {},
   "outputs": [
    {
     "data": {
      "image/png": "[encoded data removed]",
      "text/plain": [
       "<Figure size 1500x1000 with 1 Axes>"
      ]
     },
     "metadata": {},
     "output_type": "display_data"
    }
   ],
   "source": [
    "y1 = df1_cali[(df1_cali['Year'] == 1999) & (df1_cali['Cause Name'] != 'All causes')].sort_values(by='Cause Name', ascending=True)['Deaths']\n",
    "y2 = df1_cali[(df1_cali['Year'] == 2017) & (df1_cali['Cause Name'] != 'All causes')].sort_values(by='Cause Name', ascending=True)['Deaths']\n",
    "x = np.arange(len(disease))\n",
    "width = 0.4\n",
    "\n",
    "fig, ax = plt.subplots(figsize=(15, 10))\n",
    "rects1 = ax.bar(x - width/2, y1, width, label='Deaths in California in 1999')\n",
    "rects2 = ax.bar(x + width/2, y2, width, label='Deaths in California in 2017')\n",
    "\n",
    "ax.set_ylabel('Deaths')\n",
    "ax.set_xticks(x)  # Set x-ticks without labels, you'll set labels next.\n",
    "ax.set_xticklabels(disease, rotation=45)  # Set the labels and rotation.\n",
    "ax.legend()\n",
    "\n",
    "ax.bar_label(rects1, padding=3)\n",
    "ax.bar_label(rects2, padding=3)\n",
    "\n",
    "fig.tight_layout()\n",
    "\n",
    "plt.show()\n"
   ]
  },
  {
   "cell_type": "markdown",
   "id": "d3062213-4ec5-4020-b8c3-2fb43cace18c",
   "metadata": {},
   "source": [
    "Here, as we can see heart diseases and stroke have decreased overtime but all other diseases have increased over 18 years!"
   ]
  },
  {
   "cell_type": "markdown",
   "id": "56762c9e-0ad8-4769-a286-0ffad2c88c12",
   "metadata": {},
   "source": [
    "# Clustering"
   ]
  },
  {
   "cell_type": "markdown",
   "id": "472740cb-d0b2-4a04-a4b4-c666d3acd440",
   "metadata": {},
   "source": [
    "## Cluster based on Heart Disease in the United States for the year 2017"
   ]
  },
  {
   "cell_type": "code",
   "execution_count": 298,
   "id": "1450c7a2-105b-4f89-9f2a-6c77befb8dc4",
   "metadata": {},
   "outputs": [
    {
     "data": {
      "image/png": "[encoded data removed]",
      "text/plain": [
       "<Figure size 640x480 with 1 Axes>"
      ]
     },
     "metadata": {},
     "output_type": "display_data"
    }
   ],
   "source": [
    "df1_hd=df1_states[(df1_states['Cause Name']=='Heart disease') & (df1_states['Year']== 2017)]\n",
    "df1_hd_numerical=df1_hd.drop(['Cause Name', 'State', 'Code'], axis=1)\n",
    "df1_hd_numerical.head()\n",
    "\n",
    "scaler = StandardScaler()\n",
    "data_scaled = scaler.fit_transform(df1_hd_numerical)\n",
    "\n",
    "wcss = [] \n",
    "\n",
    "for i in range(1, 11):\n",
    "    kmeans = KMeans(n_clusters=i, init='k-means++', max_iter=300, n_init=10, random_state=0)\n",
    "    kmeans.fit(data_scaled)\n",
    "    wcss.append(kmeans.inertia_)\n",
    "\n",
    "plt.plot(range(1, 11), wcss)\n",
    "plt.title('Elbow Method')\n",
    "plt.xlabel('Number of clusters')\n",
    "plt.ylabel('WCSS')\n",
    "plt.show()"
   ]
  },
  {
   "cell_type": "code",
   "execution_count": 299,
   "id": "178f38ae-e610-4510-8e91-d84f6a471dab",
   "metadata": {},
   "outputs": [
    {
     "data": {
      "image/png": "[encoded data removed]",
      "text/plain": [
       "<Figure size 1200x800 with 1 Axes>"
      ]
     },
     "metadata": {},
     "output_type": "display_data"
    },
    {
     "name": "stdout",
     "output_type": "stream",
     "text": [
      "Silhouette Score: 0.543030073897613\n",
      "Cluster 0 States: Illinois, Pennsylvania, Ohio, New York, Florida, California, Texas\n",
      "Cluster 1 States: Hawaii, Idaho, Iowa, Kansas, Maine, Maryland, Massachusetts, Minnesota, Montana, Nebraska, South Dakota, South Carolina, Rhode Island, Oregon, North Carolina, New Mexico, New Jersey, New Hampshire, North Dakota, Delaware, Connecticut, Colorado, Arizona, Alaska, Utah, Vermont, Wyoming, Wisconsin, Washington, Virginia\n",
      "Cluster 2 States: Indiana, Kentucky, Louisiana, Michigan, Mississippi, Missouri, Oklahoma, Georgia, Nevada, Tennessee, Arkansas, District of Columbia, Alabama, West Virginia\n"
     ]
    }
   ],
   "source": [
    "k = 3\n",
    "kmeans = KMeans(n_clusters=k, init='k-means++', max_iter=300, n_init=10, random_state=0)\n",
    "kmeans.fit(data_scaled)\n",
    "\n",
    "df1_hd['Cluster'] = kmeans.labels_\n",
    "sns.set(style=\"whitegrid\")\n",
    "sns.set_context(\"paper\")\n",
    "plt.figure(figsize=(12, 8))\n",
    "sns.boxplot(x='Year', y='Deaths', hue='Cluster', data=df1_hd, palette=\"Set3\")\n",
    "plt.xlabel('Year')\n",
    "plt.ylabel('Deaths')\n",
    "plt.title('Heart Diseases')\n",
    "plt.legend(title='Cluster')\n",
    "plt.show()\n",
    "silhouette_avg = silhouette_score(data_scaled, kmeans.labels_)\n",
    "print(f\"Silhouette Score: {silhouette_avg}\")\n",
    "for cluster in range(k):\n",
    "    cluster_states = df1_hd[df1_hd['Cluster'] == cluster]['State'].tolist()\n",
    "    print(f'Cluster {cluster} States: {\", \".join(cluster_states)}')"
   ]
  },
  {
   "cell_type": "markdown",
   "id": "ec4954c5-8353-48a7-b752-31753bf22211",
   "metadata": {},
   "source": [
    "## Cluster based on Cancer in the United States for the year 2017"
   ]
  },
  {
   "cell_type": "code",
   "execution_count": 300,
   "id": "a03551e0-f064-4a96-94aa-e0bd051b089a",
   "metadata": {},
   "outputs": [
    {
     "data": {
      "image/png": "[encoded data removed]",
      "text/plain": [
       "<Figure size 1200x800 with 1 Axes>"
      ]
     },
     "metadata": {},
     "output_type": "display_data"
    },
    {
     "name": "stdout",
     "output_type": "stream",
     "text": [
      "Silhouette Score: 0.44383306344806656\n",
      "Cluster 0 States: Alaska, Arizona, Colorado, Connecticut, Delaware, District of Columbia, Georgia, Hawaii, Idaho, Iowa, Kansas, New Jersey, New Hampshire, Nevada, Nebraska, Montana, Massachusetts, Maryland, Minnesota, New Mexico, North Dakota, Washington, Virginia, Utah, Wisconsin, Rhode Island, Oregon, South Dakota, Wyoming\n",
      "Cluster 1 States: Alabama, Arkansas, Illinois, Indiana, Missouri, Mississippi, Michigan, Maine, Louisiana, Kentucky, North Carolina, West Virginia, Vermont, Tennessee, South Carolina, Pennsylvania, Oklahoma, Ohio\n",
      "Cluster 2 States: California, Florida, New York, Texas\n"
     ]
    }
   ],
   "source": [
    "df1_c=df1_states[(df1_states['Cause Name']=='Cancer') & (df1_states['Year']== 2017)]\n",
    "df1_c_numerical=df1_c.drop(['Cause Name', 'State', 'Code'], axis=1)\n",
    "df1_c_numerical.head()\n",
    "\n",
    "scaler = StandardScaler()\n",
    "data_scaled = scaler.fit_transform(df1_c_numerical)\n",
    "k = 3\n",
    "kmeans = KMeans(n_clusters=k, init='k-means++', max_iter=300, n_init=10, random_state=0)\n",
    "kmeans.fit(data_scaled)\n",
    "\n",
    "df1_c['Cluster'] = kmeans.labels_\n",
    "sns.set(style=\"whitegrid\")\n",
    "sns.set_context(\"paper\")\n",
    "plt.figure(figsize=(12, 8))\n",
    "sns.boxplot(x='Year', y='Deaths', hue='Cluster', data=df1_c, palette=\"Set3\")\n",
    "plt.xlabel('Year')\n",
    "plt.ylabel('Deaths')\n",
    "plt.title('Cancer')\n",
    "plt.legend(title='Cluster')\n",
    "plt.show()\n",
    "silhouette_avg = silhouette_score(data_scaled, kmeans.labels_)\n",
    "print(f\"Silhouette Score: {silhouette_avg}\")\n",
    "for cluster in range(k):\n",
    "    cluster_states = df1_c[df1_c['Cluster'] == cluster]['State'].tolist()\n",
    "    print(f'Cluster {cluster} States: {\", \".join(cluster_states)}')"
   ]
  },
  {
   "cell_type": "markdown",
   "id": "e5d88ada-fd9c-4ee6-b3d9-c7d00f6c2b9e",
   "metadata": {},
   "source": [
    "## Cluster based on Stroke in the United States for the year 2017"
   ]
  },
  {
   "cell_type": "code",
   "execution_count": 301,
   "id": "26786fd3-76c5-43a0-9c38-498f0e8f1d9a",
   "metadata": {},
   "outputs": [
    {
     "data": {
      "image/png": "[encoded data removed]",
      "text/plain": [
       "<Figure size 1200x800 with 1 Axes>"
      ]
     },
     "metadata": {},
     "output_type": "display_data"
    },
    {
     "name": "stdout",
     "output_type": "stream",
     "text": [
      "Silhouette Score: 0.4598380237558674\n",
      "Cluster 0 States: North Dakota, New York, New Jersey, New Hampshire, Nevada, Nebraska, Montana, New Mexico, Vermont, Rhode Island, Minnesota, Wyoming, Wisconsin, Utah, South Dakota, Washington, Colorado, Alaska, Arizona, Maine, Kansas, Iowa, Massachusetts, Hawaii, District of Columbia, Connecticut, Idaho\n",
      "Cluster 1 States: Texas, California, Florida\n",
      "Cluster 2 States: Oklahoma, Ohio, North Carolina, Mississippi, Missouri, Oregon, Pennsylvania, West Virginia, Virginia, Tennessee, South Carolina, Michigan, Maryland, Alabama, Arkansas, Louisiana, Kentucky, Indiana, Illinois, Georgia, Delaware\n"
     ]
    }
   ],
   "source": [
    "df1_s=df1_states[(df1_states['Cause Name']=='Stroke') & (df1_states['Year']== 2017)]\n",
    "df1_s_numerical=df1_s.drop(['Cause Name', 'State', 'Code'], axis=1)\n",
    "df1_s_numerical.head()\n",
    "\n",
    "scaler = StandardScaler()\n",
    "data_scaled = scaler.fit_transform(df1_s_numerical)\n",
    "k = 3\n",
    "kmeans = KMeans(n_clusters=k, init='k-means++', max_iter=300, n_init=10, random_state=0)\n",
    "kmeans.fit(data_scaled)\n",
    "\n",
    "df1_s['Cluster'] = kmeans.labels_\n",
    "sns.set(style=\"whitegrid\")\n",
    "sns.set_context(\"paper\")\n",
    "plt.figure(figsize=(12, 8))\n",
    "sns.boxplot(x='Year', y='Deaths', hue='Cluster', data=df1_s, palette=\"Set3\")\n",
    "plt.xlabel('Year')\n",
    "plt.ylabel('Deaths')\n",
    "plt.title('Stroke')\n",
    "plt.legend(title='Cluster')\n",
    "plt.show()\n",
    "silhouette_avg = silhouette_score(data_scaled, kmeans.labels_)\n",
    "print(f\"Silhouette Score: {silhouette_avg}\")\n",
    "for cluster in range(k):\n",
    "    cluster_states = df1_s[df1_s['Cluster'] == cluster]['State'].tolist()\n",
    "    print(f'Cluster {cluster} States: {\", \".join(cluster_states)}')"
   ]
  },
  {
   "cell_type": "markdown",
   "id": "fb1b2941-b9b8-4737-8013-7a8500f41ee3",
   "metadata": {},
   "source": [
    "## Cluster based on CLRD in the United States for the year 2017"
   ]
  },
  {
   "cell_type": "code",
   "execution_count": 302,
   "id": "9127edd7-586d-46ed-8eeb-f68947a6de8b",
   "metadata": {},
   "outputs": [
    {
     "data": {
      "image/png": "[encoded data removed]",
      "text/plain": [
       "<Figure size 1200x800 with 1 Axes>"
      ]
     },
     "metadata": {},
     "output_type": "display_data"
    },
    {
     "name": "stdout",
     "output_type": "stream",
     "text": [
      "Silhouette Score: 0.3990975668444444\n",
      "Cluster 0 States: Alabama, Arkansas, Colorado, Tennessee, West Virginia, Wyoming, South Carolina, Maine, Louisiana, Kentucky, Kansas, Iowa, Indiana, Georgia, Idaho, Oklahoma, Nevada, Nebraska, Montana, Missouri, Mississippi\n",
      "Cluster 1 States: Texas, Pennsylvania, Illinois, Florida, California, Ohio, North Carolina, New York, Michigan\n",
      "Cluster 2 States: Arizona, Alaska, Utah, Vermont, Virginia, Washington, Wisconsin, South Dakota, Rhode Island, Maryland, Hawaii, District of Columbia, Delaware, Connecticut, Massachusetts, Minnesota, Oregon, North Dakota, New Mexico, New Hampshire, New Jersey\n"
     ]
    }
   ],
   "source": [
    "df1_cl=df1_states[(df1_states['Cause Name']=='CLRD') & (df1_states['Year']== 2017)]\n",
    "df1_cl_numerical=df1_cl.drop(['Cause Name', 'State', 'Code'], axis=1)\n",
    "df1_cl_numerical.head()\n",
    "\n",
    "scaler = StandardScaler()\n",
    "data_scaled = scaler.fit_transform(df1_cl_numerical)\n",
    "k = 3\n",
    "kmeans = KMeans(n_clusters=k, init='k-means++', max_iter=300, n_init=10, random_state=0)\n",
    "kmeans.fit(data_scaled)\n",
    "\n",
    "df1_cl['Cluster'] = kmeans.labels_\n",
    "sns.set(style=\"whitegrid\")\n",
    "sns.set_context(\"paper\")\n",
    "plt.figure(figsize=(12, 8))\n",
    "sns.boxplot(x='Year', y='Deaths', hue='Cluster', data=df1_cl, palette=\"Set3\")\n",
    "plt.xlabel('Year')\n",
    "plt.ylabel('Deaths')\n",
    "plt.title('CLRD')\n",
    "plt.legend(title='Cluster')\n",
    "plt.show()\n",
    "silhouette_avg = silhouette_score(data_scaled, kmeans.labels_)\n",
    "print(f\"Silhouette Score: {silhouette_avg}\")\n",
    "for cluster in range(k):\n",
    "    cluster_states = df1_cl[df1_cl['Cluster'] == cluster]['State'].tolist()\n",
    "    print(f'Cluster {cluster} States: {\", \".join(cluster_states)}')"
   ]
  },
  {
   "cell_type": "markdown",
   "id": "77ed9baa-3127-4277-9477-3eb9969c3367",
   "metadata": {},
   "source": [
    "## Cluster based on Unitentional Injuries in the United States for the year 2017"
   ]
  },
  {
   "cell_type": "code",
   "execution_count": 303,
   "id": "1748331a-baa5-4c85-b986-cac94e83fe6a",
   "metadata": {},
   "outputs": [
    {
     "data": {
      "image/png": "[encoded data removed]",
      "text/plain": [
       "<Figure size 1200x800 with 1 Axes>"
      ]
     },
     "metadata": {},
     "output_type": "display_data"
    },
    {
     "name": "stdout",
     "output_type": "stream",
     "text": [
      "Silhouette Score: 0.34399721905691794\n",
      "Cluster 0 States: Ohio, Pennsylvania, Texas, California, Florida, New York\n",
      "Cluster 1 States: Oregon, Utah, Virginia, Washington, North Dakota, Arkansas, Colorado, Connecticut, Georgia, Hawaii, Idaho, Illinois, Iowa, Kansas, New Jersey, Nevada, Nebraska, Montana, Michigan, Massachusetts, Maryland, Minnesota, Alabama\n",
      "Cluster 2 States: Oklahoma, Rhode Island, South Carolina, South Dakota, Tennessee, Vermont, West Virginia, Wisconsin, Wyoming, North Carolina, New Mexico, Alaska, Arizona, Delaware, District of Columbia, Indiana, New Hampshire, Missouri, Mississippi, Maine, Louisiana, Kentucky\n"
     ]
    }
   ],
   "source": [
    "df1_ui=df1_states[(df1_states['Cause Name']=='Unintentional injuries') & (df1_states['Year']== 2017)]\n",
    "df1_ui_numerical=df1_ui.drop(['Cause Name', 'State', 'Code'], axis=1)\n",
    "df1_ui_numerical.head()\n",
    "\n",
    "scaler = StandardScaler()\n",
    "data_scaled = scaler.fit_transform(df1_ui_numerical)\n",
    "k = 3\n",
    "kmeans = KMeans(n_clusters=k, init='k-means++', max_iter=300, n_init=10, random_state=0)\n",
    "kmeans.fit(data_scaled)\n",
    "\n",
    "df1_ui['Cluster'] = kmeans.labels_\n",
    "sns.set(style=\"whitegrid\")\n",
    "sns.set_context(\"paper\")\n",
    "plt.figure(figsize=(12, 8))\n",
    "sns.boxplot(x='Year', y='Deaths', hue='Cluster', data=df1_ui, palette=\"Set3\")\n",
    "plt.xlabel('Year')\n",
    "plt.ylabel('Deaths')\n",
    "plt.title('Unintentional Injuries')\n",
    "plt.legend(title='Cluster')\n",
    "plt.show()\n",
    "silhouette_avg = silhouette_score(data_scaled, kmeans.labels_)\n",
    "print(f\"Silhouette Score: {silhouette_avg}\")\n",
    "for cluster in range(k):\n",
    "    cluster_states = df1_ui[df1_ui['Cluster'] == cluster]['State'].tolist()\n",
    "    print(f'Cluster {cluster} States: {\", \".join(cluster_states)}')"
   ]
  },
  {
   "cell_type": "markdown",
   "id": "b110554c-5fa9-4f46-a2d6-4a02a8506a09",
   "metadata": {},
   "source": [
    "## Cluster based on Diabetes in the United States for the year 2017"
   ]
  },
  {
   "cell_type": "code",
   "execution_count": 304,
   "id": "9fc09300-11c8-4613-b2d1-c3f03cd8aa63",
   "metadata": {},
   "outputs": [
    {
     "data": {
      "image/png": "[encoded data removed]",
      "text/plain": [
       "<Figure size 1200x800 with 1 Axes>"
      ]
     },
     "metadata": {},
     "output_type": "display_data"
    },
    {
     "name": "stdout",
     "output_type": "stream",
     "text": [
      "Silhouette Score: 0.43264482064548815\n",
      "Cluster 0 States: Arizona, Arkansas, Louisiana, Kentucky, Kansas, Indiana, Mississippi, Nebraska, New Mexico, North Carolina, Ohio, Oklahoma, Oregon, South Carolina, South Dakota, Tennessee, West Virginia\n",
      "Cluster 1 States: California, Florida, New York, Pennsylvania, Texas\n",
      "Cluster 2 States: Michigan, Alabama, Alaska, Colorado, Connecticut, Delaware, Massachusetts, Maryland, Maine, Iowa, Illinois, Idaho, Hawaii, Georgia, District of Columbia, Minnesota, Montana, Missouri, Nevada, New Hampshire, New Jersey, North Dakota, Rhode Island, Wisconsin, Washington, Virginia, Vermont, Utah, Wyoming\n"
     ]
    }
   ],
   "source": [
    "df1_d=df1_states[(df1_states['Cause Name']=='Diabetes') & (df1_states['Year']== 2017)]\n",
    "df1_d_numerical=df1_d.drop(['Cause Name', 'State', 'Code'], axis=1)\n",
    "df1_d_numerical.head()\n",
    "\n",
    "scaler = StandardScaler()\n",
    "data_scaled = scaler.fit_transform(df1_d_numerical)\n",
    "k = 3\n",
    "kmeans = KMeans(n_clusters=k, init='k-means++', max_iter=300, n_init=10, random_state=0)\n",
    "kmeans.fit(data_scaled)\n",
    "\n",
    "df1_d['Cluster'] = kmeans.labels_\n",
    "sns.set(style=\"whitegrid\")\n",
    "sns.set_context(\"paper\")\n",
    "plt.figure(figsize=(12, 8))\n",
    "sns.boxplot(x='Year', y='Deaths', hue='Cluster', data=df1_d, palette=\"Set3\")\n",
    "plt.xlabel('Year')\n",
    "plt.ylabel('Deaths')\n",
    "plt.title('Diabetes')\n",
    "plt.legend(title='Cluster')\n",
    "plt.show()\n",
    "silhouette_avg = silhouette_score(data_scaled, kmeans.labels_)\n",
    "print(f\"Silhouette Score: {silhouette_avg}\")\n",
    "for cluster in range(k):\n",
    "    cluster_states = df1_d[df1_d['Cluster'] == cluster]['State'].tolist()\n",
    "    print(f'Cluster {cluster} States: {\", \".join(cluster_states)}')"
   ]
  },
  {
   "cell_type": "markdown",
   "id": "108ef666-1dfb-494b-b2b7-58f8c82bb0f0",
   "metadata": {},
   "source": [
    "## Cluster based on Influenza and Pneumonia in the United States for the year 2017"
   ]
  },
  {
   "cell_type": "code",
   "execution_count": 305,
   "id": "01163fdb-72bb-4316-955f-3b4dd9b46ff4",
   "metadata": {},
   "outputs": [
    {
     "data": {
      "image/png": "[encoded data removed]",
      "text/plain": [
       "<Figure size 1200x800 with 1 Axes>"
      ]
     },
     "metadata": {},
     "output_type": "display_data"
    },
    {
     "name": "stdout",
     "output_type": "stream",
     "text": [
      "Silhouette Score: 0.48370714050877067\n",
      "Cluster 0 States: New Mexico, North Dakota, Oklahoma, Oregon, Rhode Island, South Carolina, Utah, Vermont, Virginia, Washington, New Jersey, Wisconsin, New Hampshire, Nebraska, District of Columbia, Delaware, Connecticut, Colorado, Arizona, Alaska, Georgia, Idaho, Montana, Minnesota, Michigan, Massachusetts, Maryland, Louisiana, Kansas, Iowa, Indiana, Maine\n",
      "Cluster 1 States: New York, Ohio, Pennsylvania, Texas, California, Florida, Illinois\n",
      "Cluster 2 States: North Carolina, South Dakota, Tennessee, Wyoming, West Virginia, Nevada, Arkansas, Alabama, Missouri, Mississippi, Hawaii, Kentucky\n"
     ]
    }
   ],
   "source": [
    "df1_ip=df1_states[(df1_states['Cause Name']=='Influenza and pneumonia') & (df1_states['Year']== 2017)]\n",
    "df1_ip_numerical=df1_ip.drop(['Cause Name', 'State', 'Code'], axis=1)\n",
    "df1_ip_numerical.head()\n",
    "\n",
    "scaler = StandardScaler()\n",
    "data_scaled = scaler.fit_transform(df1_ip_numerical)\n",
    "k = 3\n",
    "kmeans = KMeans(n_clusters=k, init='k-means++', max_iter=300, n_init=10, random_state=0)\n",
    "kmeans.fit(data_scaled)\n",
    "\n",
    "df1_ip['Cluster'] = kmeans.labels_\n",
    "sns.set(style=\"whitegrid\")\n",
    "sns.set_context(\"paper\")\n",
    "plt.figure(figsize=(12, 8))\n",
    "sns.boxplot(x='Year', y='Deaths', hue='Cluster', data=df1_ip, palette=\"Set3\")\n",
    "plt.xlabel('Year')\n",
    "plt.ylabel('Deaths')\n",
    "plt.title('Influenza and Pneumonia')\n",
    "plt.legend(title='Cluster')\n",
    "plt.show()\n",
    "silhouette_avg = silhouette_score(data_scaled, kmeans.labels_)\n",
    "print(f\"Silhouette Score: {silhouette_avg}\")\n",
    "for cluster in range(k):\n",
    "    cluster_states = df1_ip[df1_ip['Cluster'] == cluster]['State'].tolist()\n",
    "    print(f'Cluster {cluster} States: {\", \".join(cluster_states)}')"
   ]
  },
  {
   "cell_type": "markdown",
   "id": "e91c1234-685c-4380-8dd2-ec15955ca7dc",
   "metadata": {},
   "source": [
    "## Cluster based on Alzheimer's Disease in the United States for the year 2017"
   ]
  },
  {
   "cell_type": "code",
   "execution_count": 306,
   "id": "887c4cfb-3975-4875-a735-e3dca5ffcf7e",
   "metadata": {},
   "outputs": [
    {
     "data": {
      "image/png": "[encoded data removed]",
      "text/plain": [
       "<Figure size 1200x800 with 1 Axes>"
      ]
     },
     "metadata": {},
     "output_type": "display_data"
    },
    {
     "name": "stdout",
     "output_type": "stream",
     "text": [
      "Silhouette Score: 0.4482817702076003\n",
      "Cluster 0 States: South Carolina, South Dakota, Tennessee, Utah, Vermont, Washington, Wisconsin, Wyoming, Oklahoma, Colorado, Georgia, Idaho, Indiana, Iowa, Kentucky, Louisiana, Ohio, North Dakota, North Carolina, Missouri, Mississippi, Minnesota, Michigan, Arkansas, Arizona, Oregon, Alabama\n",
      "Cluster 1 States: Rhode Island, Virginia, West Virginia, Pennsylvania, Connecticut, Delaware, District of Columbia, Florida, Hawaii, Illinois, Kansas, Maine, Maryland, Massachusetts, New York, New Mexico, New Jersey, New Hampshire, Nebraska, Montana, Nevada, Alaska\n",
      "Cluster 2 States: Texas, California\n"
     ]
    }
   ],
   "source": [
    "df1_ad=df1_states[(df1_states['Cause Name']==\"Alzheimer's disease\") & (df1_states['Year']== 2017)]\n",
    "df1_ad_numerical=df1_ad.drop(['Cause Name', 'State', 'Code'], axis=1)\n",
    "df1_ad_numerical.head()\n",
    "\n",
    "scaler = StandardScaler()\n",
    "data_scaled = scaler.fit_transform(df1_ad_numerical)\n",
    "k = 3\n",
    "kmeans = KMeans(n_clusters=k, init='k-means++', max_iter=300, n_init=10, random_state=0)\n",
    "kmeans.fit(data_scaled)\n",
    "\n",
    "df1_ad['Cluster'] = kmeans.labels_\n",
    "sns.set(style=\"whitegrid\")\n",
    "sns.set_context(\"paper\")\n",
    "plt.figure(figsize=(12, 8))\n",
    "sns.boxplot(x='Year', y='Deaths', hue='Cluster', data=df1_ad, palette=\"Set3\")\n",
    "plt.xlabel('Year')\n",
    "plt.ylabel('Deaths')\n",
    "plt.title(\"Alzheimer's Disease\")\n",
    "plt.legend(title='Cluster')\n",
    "plt.show()\n",
    "silhouette_avg = silhouette_score(data_scaled, kmeans.labels_)\n",
    "print(f\"Silhouette Score: {silhouette_avg}\")\n",
    "for cluster in range(k):\n",
    "    cluster_states = df1_ad[df1_ad['Cluster'] == cluster]['State'].tolist()\n",
    "    print(f'Cluster {cluster} States: {\", \".join(cluster_states)}')"
   ]
  },
  {
   "cell_type": "markdown",
   "id": "d471d015-bf35-4b34-818b-c4df311f499e",
   "metadata": {},
   "source": [
    "## Cluster based on Kidney Disease in the United States for the year 2017"
   ]
  },
  {
   "cell_type": "code",
   "execution_count": 307,
   "id": "6130dd48-6a06-4357-8a00-a7360f15088e",
   "metadata": {},
   "outputs": [
    {
     "data": {
      "image/png": "[encoded data removed]",
      "text/plain": [
       "<Figure size 1200x800 with 1 Axes>"
      ]
     },
     "metadata": {},
     "output_type": "display_data"
    },
    {
     "name": "stdout",
     "output_type": "stream",
     "text": [
      "Silhouette Score: 0.4979360447645047\n",
      "Cluster 0 States: Massachusetts, Michigan, Mississippi, Missouri, New Jersey, North Carolina, West Virginia, Virginia, Utah, Tennessee, South Carolina, Louisiana, Kentucky, Kansas, Indiana, Georgia, Alabama, Delaware, Arkansas\n",
      "Cluster 1 States: Maryland, Minnesota, Montana, Nebraska, Nevada, New Hampshire, New Mexico, North Dakota, Oklahoma, Wyoming, Wisconsin, Washington, Vermont, Maine, South Dakota, Rhode Island, Oregon, Alaska, Iowa, Idaho, Hawaii, Connecticut, Colorado, Arizona, District of Columbia\n",
      "Cluster 2 States: New York, Ohio, Pennsylvania, Texas, Illinois, Florida, California\n"
     ]
    }
   ],
   "source": [
    "df1_k=df1_states[(df1_states['Cause Name']==\"Kidney disease\") & (df1_states['Year']== 2017)]\n",
    "df1_k_numerical=df1_k.drop(['Cause Name', 'State', 'Code'], axis=1)\n",
    "df1_k_numerical.head()\n",
    "\n",
    "scaler = StandardScaler()\n",
    "data_scaled = scaler.fit_transform(df1_k_numerical)\n",
    "k = 3\n",
    "kmeans = KMeans(n_clusters=k, init='k-means++', max_iter=300, n_init=10, random_state=0)\n",
    "kmeans.fit(data_scaled)\n",
    "\n",
    "df1_k['Cluster'] = kmeans.labels_\n",
    "sns.set(style=\"whitegrid\")\n",
    "sns.set_context(\"paper\")\n",
    "plt.figure(figsize=(12, 8))\n",
    "sns.boxplot(x='Year', y='Deaths', hue='Cluster', data=df1_k, palette=\"Set3\")\n",
    "plt.xlabel('Year')\n",
    "plt.ylabel('Deaths')\n",
    "plt.title(\"Kidney Disease\")\n",
    "plt.legend(title='Cluster')\n",
    "plt.show()\n",
    "silhouette_avg = silhouette_score(data_scaled, kmeans.labels_)\n",
    "print(f\"Silhouette Score: {silhouette_avg}\")\n",
    "for cluster in range(k):\n",
    "    cluster_states = df1_k[df1_k['Cluster'] == cluster]['State'].tolist()\n",
    "    print(f'Cluster {cluster} States: {\", \".join(cluster_states)}')"
   ]
  },
  {
   "cell_type": "markdown",
   "id": "e9c10008-8a3f-44b8-a44f-0ac3806631a9",
   "metadata": {},
   "source": [
    "## Cluster based on Suicide disease in the United States for the year 2017"
   ]
  },
  {
   "cell_type": "code",
   "execution_count": 308,
   "id": "8adfd3b3-6086-482f-9777-4760a1c57034",
   "metadata": {},
   "outputs": [
    {
     "data": {
      "image/png": "[encoded data removed]",
      "text/plain": [
       "<Figure size 1200x800 with 1 Axes>"
      ]
     },
     "metadata": {},
     "output_type": "display_data"
    },
    {
     "name": "stdout",
     "output_type": "stream",
     "text": [
      "Silhouette Score: 0.43272377572044246\n",
      "Cluster 0 States: Idaho, Wyoming, Kansas, Maine, Missouri, Montana, Nevada, New Hampshire, New Mexico, Vermont, Utah, South Dakota, West Virginia, Oregon, Oklahoma, North Dakota, Colorado, Alaska, Arkansas\n",
      "Cluster 1 States: Texas, Florida, California\n",
      "Cluster 2 States: Wisconsin, Washington, Kentucky, Louisiana, Maryland, Massachusetts, Michigan, Minnesota, Mississippi, Nebraska, New Jersey, New York, Virginia, Tennessee, South Carolina, Pennsylvania, Ohio, North Carolina, Rhode Island, Iowa, Indiana, Hawaii, Georgia, District of Columbia, Delaware, Connecticut, Arizona, Alabama, Illinois\n"
     ]
    }
   ],
   "source": [
    "df1_sc=df1_states[(df1_states['Cause Name']==\"Suicide\") & (df1_states['Year']== 2017)]\n",
    "df1_sc_numerical=df1_sc.drop(['Cause Name', 'State', 'Code'], axis=1)\n",
    "df1_sc_numerical.head()\n",
    "\n",
    "scaler = StandardScaler()\n",
    "data_scaled = scaler.fit_transform(df1_sc_numerical)\n",
    "k = 3\n",
    "kmeans = KMeans(n_clusters=k, init='k-means++', max_iter=300, n_init=10, random_state=0)\n",
    "kmeans.fit(data_scaled)\n",
    "\n",
    "df1_sc['Cluster'] = kmeans.labels_\n",
    "sns.set(style=\"whitegrid\")\n",
    "sns.set_context(\"paper\")\n",
    "plt.figure(figsize=(12, 8))\n",
    "sns.boxplot(x='Year', y='Deaths', hue='Cluster', data=df1_sc, palette=\"Set3\")\n",
    "plt.xlabel('Year')\n",
    "plt.ylabel('Deaths')\n",
    "plt.title(\"Suicide\")\n",
    "plt.legend(title='Cluster')\n",
    "plt.show()\n",
    "silhouette_avg = silhouette_score(data_scaled, kmeans.labels_)\n",
    "print(f\"Silhouette Score: {silhouette_avg}\")\n",
    "for cluster in range(k):\n",
    "    cluster_states = df1_sc[df1_sc['Cluster'] == cluster]['State'].tolist()\n",
    "    print(f'Cluster {cluster} States: {\", \".join(cluster_states)}')"
   ]
  },
  {
   "cell_type": "code",
   "execution_count": null,
   "id": "ca3e38fd-99c6-459e-af32-2e82e444cea5",
   "metadata": {},
   "outputs": [],
   "source": []
  }
 ],
 "metadata": {
  "kernelspec": {
   "display_name": "Python 3 (ipykernel)",
   "language": "python",
   "name": "python3"
  },
  "language_info": {
   "codemirror_mode": {
    "name": "ipython",
    "version": 3
   },
   "file_extension": ".py",
   "mimetype": "text/x-python",
   "name": "python",
   "nbconvert_exporter": "python",
   "pygments_lexer": "ipython3",
   "version": "3.11.5"
  }
 },
 "nbformat": 4,
 "nbformat_minor": 5
}
